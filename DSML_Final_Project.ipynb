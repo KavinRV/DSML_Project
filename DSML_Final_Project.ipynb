{
  "cells": [
    {
      "cell_type": "markdown",
      "metadata": {
        "id": "view-in-github",
        "colab_type": "text"
      },
      "source": [
        "<a href=\"https://colab.research.google.com/github/KavinRV/DSML_Project/blob/main/DSML_Final_Project.ipynb\" target=\"_parent\"><img src=\"https://colab.research.google.com/assets/colab-badge.svg\" alt=\"Open In Colab\"/></a>"
      ]
    },
    {
      "cell_type": "markdown",
      "source": [
        "#Imports"
      ],
      "metadata": {
        "id": "CM3SJdy2_MRO"
      }
    },
    {
      "cell_type": "code",
      "execution_count": 1,
      "metadata": {
        "id": "pBkiYYtWAUNy"
      },
      "outputs": [],
      "source": [
        "import random\n",
        "import pandas as pd\n",
        "import seaborn as sns\n",
        "import numpy as np \n",
        "from pprint import pprint\n",
        "import matplotlib.pyplot as plt\n",
        "\n",
        "from collections import Counter\n",
        "from imblearn.over_sampling import SMOTE\n",
        "from imblearn.under_sampling import RandomUnderSampler\n",
        "from imblearn.over_sampling import RandomOverSampler\n",
        "from imblearn.pipeline import Pipeline as imb_pipe\n",
        "\n",
        "import plotly.express as px\n",
        "import plotly.graph_objects as go \n",
        "\n",
        "from sklearn.model_selection import train_test_split\n",
        "from sklearn.model_selection import GridSearchCV\n",
        "from sklearn.model_selection import RandomizedSearchCV\n",
        "from sklearn.model_selection import cross_validate\n",
        "\n",
        "from sklearn.naive_bayes import GaussianNB\n",
        "from sklearn.naive_bayes import BernoulliNB\n",
        "from sklearn.naive_bayes import MultinomialNB\n",
        "\n",
        "from sklearn.tree import DecisionTreeClassifier\n",
        "from sklearn.ensemble import RandomForestClassifier\n",
        "\n",
        "from sklearn.linear_model import LogisticRegression\n",
        "from sklearn.neighbors import KNeighborsClassifier\n",
        "from sklearn.svm import SVC\n",
        "\n",
        "from sklearn.preprocessing import OneHotEncoder\n",
        "from sklearn.preprocessing import LabelEncoder\n",
        "from sklearn.preprocessing import OrdinalEncoder \n",
        "from sklearn.preprocessing import StandardScaler\n",
        "from sklearn.preprocessing import MinMaxScaler\n",
        "\n",
        "from sklearn.metrics import f1_score\n",
        "from sklearn.metrics import classification_report\n",
        "\n",
        "from sklearn.pipeline import Pipeline"
      ]
    },
    {
      "cell_type": "code",
      "execution_count": 2,
      "metadata": {
        "id": "38EOvtN_E2Ql"
      },
      "outputs": [],
      "source": [
        "train_label = pd.read_csv(\"/content/drive/MyDrive/ml_class_materials/project_data/project16/glitch_trn_class_labels.csv\", header=None)\n",
        "train_data = pd.read_csv(\"/content/drive/MyDrive/ml_class_materials/project_data/project16/glitch_trn_data.csv\")\n",
        "test_data = pd.read_csv(\"/content/drive/MyDrive/ml_class_materials/project_data/project16/glitch_tst_data.csv\")"
      ]
    },
    {
      "cell_type": "code",
      "execution_count": 3,
      "metadata": {
        "colab": {
          "base_uri": "https://localhost:8080/",
          "height": 204
        },
        "id": "oI_JbRV8Fqv3",
        "outputId": "3039b3c3-12a3-4629-a8db-87a261302a8d"
      },
      "outputs": [
        {
          "output_type": "execute_result",
          "data": {
            "text/plain": [
              "    0               1\n",
              "0  d1            Blip\n",
              "1  d2  Extremely_Loud\n",
              "2  d3     Violin_Mode\n",
              "3  d4            Blip\n",
              "4  d5        Scratchy"
            ],
            "text/html": [
              "\n",
              "  <div id=\"df-aafd05b5-0053-4f57-acbd-190d5ecc243e\">\n",
              "    <div class=\"colab-df-container\">\n",
              "      <div>\n",
              "<style scoped>\n",
              "    .dataframe tbody tr th:only-of-type {\n",
              "        vertical-align: middle;\n",
              "    }\n",
              "\n",
              "    .dataframe tbody tr th {\n",
              "        vertical-align: top;\n",
              "    }\n",
              "\n",
              "    .dataframe thead th {\n",
              "        text-align: right;\n",
              "    }\n",
              "</style>\n",
              "<table border=\"1\" class=\"dataframe\">\n",
              "  <thead>\n",
              "    <tr style=\"text-align: right;\">\n",
              "      <th></th>\n",
              "      <th>0</th>\n",
              "      <th>1</th>\n",
              "    </tr>\n",
              "  </thead>\n",
              "  <tbody>\n",
              "    <tr>\n",
              "      <th>0</th>\n",
              "      <td>d1</td>\n",
              "      <td>Blip</td>\n",
              "    </tr>\n",
              "    <tr>\n",
              "      <th>1</th>\n",
              "      <td>d2</td>\n",
              "      <td>Extremely_Loud</td>\n",
              "    </tr>\n",
              "    <tr>\n",
              "      <th>2</th>\n",
              "      <td>d3</td>\n",
              "      <td>Violin_Mode</td>\n",
              "    </tr>\n",
              "    <tr>\n",
              "      <th>3</th>\n",
              "      <td>d4</td>\n",
              "      <td>Blip</td>\n",
              "    </tr>\n",
              "    <tr>\n",
              "      <th>4</th>\n",
              "      <td>d5</td>\n",
              "      <td>Scratchy</td>\n",
              "    </tr>\n",
              "  </tbody>\n",
              "</table>\n",
              "</div>\n",
              "      <button class=\"colab-df-convert\" onclick=\"convertToInteractive('df-aafd05b5-0053-4f57-acbd-190d5ecc243e')\"\n",
              "              title=\"Convert this dataframe to an interactive table.\"\n",
              "              style=\"display:none;\">\n",
              "        \n",
              "  <svg xmlns=\"http://www.w3.org/2000/svg\" height=\"24px\"viewBox=\"0 0 24 24\"\n",
              "       width=\"24px\">\n",
              "    <path d=\"M0 0h24v24H0V0z\" fill=\"none\"/>\n",
              "    <path d=\"M18.56 5.44l.94 2.06.94-2.06 2.06-.94-2.06-.94-.94-2.06-.94 2.06-2.06.94zm-11 1L8.5 8.5l.94-2.06 2.06-.94-2.06-.94L8.5 2.5l-.94 2.06-2.06.94zm10 10l.94 2.06.94-2.06 2.06-.94-2.06-.94-.94-2.06-.94 2.06-2.06.94z\"/><path d=\"M17.41 7.96l-1.37-1.37c-.4-.4-.92-.59-1.43-.59-.52 0-1.04.2-1.43.59L10.3 9.45l-7.72 7.72c-.78.78-.78 2.05 0 2.83L4 21.41c.39.39.9.59 1.41.59.51 0 1.02-.2 1.41-.59l7.78-7.78 2.81-2.81c.8-.78.8-2.07 0-2.86zM5.41 20L4 18.59l7.72-7.72 1.47 1.35L5.41 20z\"/>\n",
              "  </svg>\n",
              "      </button>\n",
              "      \n",
              "  <style>\n",
              "    .colab-df-container {\n",
              "      display:flex;\n",
              "      flex-wrap:wrap;\n",
              "      gap: 12px;\n",
              "    }\n",
              "\n",
              "    .colab-df-convert {\n",
              "      background-color: #E8F0FE;\n",
              "      border: none;\n",
              "      border-radius: 50%;\n",
              "      cursor: pointer;\n",
              "      display: none;\n",
              "      fill: #1967D2;\n",
              "      height: 32px;\n",
              "      padding: 0 0 0 0;\n",
              "      width: 32px;\n",
              "    }\n",
              "\n",
              "    .colab-df-convert:hover {\n",
              "      background-color: #E2EBFA;\n",
              "      box-shadow: 0px 1px 2px rgba(60, 64, 67, 0.3), 0px 1px 3px 1px rgba(60, 64, 67, 0.15);\n",
              "      fill: #174EA6;\n",
              "    }\n",
              "\n",
              "    [theme=dark] .colab-df-convert {\n",
              "      background-color: #3B4455;\n",
              "      fill: #D2E3FC;\n",
              "    }\n",
              "\n",
              "    [theme=dark] .colab-df-convert:hover {\n",
              "      background-color: #434B5C;\n",
              "      box-shadow: 0px 1px 3px 1px rgba(0, 0, 0, 0.15);\n",
              "      filter: drop-shadow(0px 1px 2px rgba(0, 0, 0, 0.3));\n",
              "      fill: #FFFFFF;\n",
              "    }\n",
              "  </style>\n",
              "\n",
              "      <script>\n",
              "        const buttonEl =\n",
              "          document.querySelector('#df-aafd05b5-0053-4f57-acbd-190d5ecc243e button.colab-df-convert');\n",
              "        buttonEl.style.display =\n",
              "          google.colab.kernel.accessAllowed ? 'block' : 'none';\n",
              "\n",
              "        async function convertToInteractive(key) {\n",
              "          const element = document.querySelector('#df-aafd05b5-0053-4f57-acbd-190d5ecc243e');\n",
              "          const dataTable =\n",
              "            await google.colab.kernel.invokeFunction('convertToInteractive',\n",
              "                                                     [key], {});\n",
              "          if (!dataTable) return;\n",
              "\n",
              "          const docLinkHtml = 'Like what you see? Visit the ' +\n",
              "            '<a target=\"_blank\" href=https://colab.research.google.com/notebooks/data_table.ipynb>data table notebook</a>'\n",
              "            + ' to learn more about interactive tables.';\n",
              "          element.innerHTML = '';\n",
              "          dataTable['output_type'] = 'display_data';\n",
              "          await google.colab.output.renderOutput(dataTable, element);\n",
              "          const docLink = document.createElement('div');\n",
              "          docLink.innerHTML = docLinkHtml;\n",
              "          element.appendChild(docLink);\n",
              "        }\n",
              "      </script>\n",
              "    </div>\n",
              "  </div>\n",
              "  "
            ]
          },
          "metadata": {},
          "execution_count": 3
        }
      ],
      "source": [
        "train_label.head()"
      ]
    },
    {
      "cell_type": "code",
      "execution_count": 4,
      "metadata": {
        "colab": {
          "base_uri": "https://localhost:8080/",
          "height": 268
        },
        "id": "1ZmyiL_EFt3S",
        "outputId": "29d2f2e2-bb41-4391-f6c4-b409a499f4d9"
      },
      "outputs": [
        {
          "output_type": "execute_result",
          "data": {
            "text/plain": [
              "           id       GPStime  centralFreq  peakFreq       snr ifo    bandwidth  \\\n",
              "0  HH9ABflByx  1.129517e+09      364.822   225.349    35.919  L1   665.643311   \n",
              "1  oTXUV2ynKq  1.135647e+09     3609.954    38.027  2743.555  H1  7209.994629   \n",
              "2  jQwe6arh9F  1.129802e+09     1838.466  2025.310    16.698  H1  3612.932861   \n",
              "3  g8bOTBroX2  1.131774e+09     2067.878   111.128    12.727  H1  4067.436523   \n",
              "4  7KAvyGygKM  1.130969e+09     3978.111   131.921    10.926  L1  7795.106934   \n",
              "\n",
              "   duration  \n",
              "0     0.250  \n",
              "1    13.690  \n",
              "2     0.375  \n",
              "3     0.105  \n",
              "4     2.304  "
            ],
            "text/html": [
              "\n",
              "  <div id=\"df-6bc194b9-5ccc-47ce-94fe-2329b1b1f363\">\n",
              "    <div class=\"colab-df-container\">\n",
              "      <div>\n",
              "<style scoped>\n",
              "    .dataframe tbody tr th:only-of-type {\n",
              "        vertical-align: middle;\n",
              "    }\n",
              "\n",
              "    .dataframe tbody tr th {\n",
              "        vertical-align: top;\n",
              "    }\n",
              "\n",
              "    .dataframe thead th {\n",
              "        text-align: right;\n",
              "    }\n",
              "</style>\n",
              "<table border=\"1\" class=\"dataframe\">\n",
              "  <thead>\n",
              "    <tr style=\"text-align: right;\">\n",
              "      <th></th>\n",
              "      <th>id</th>\n",
              "      <th>GPStime</th>\n",
              "      <th>centralFreq</th>\n",
              "      <th>peakFreq</th>\n",
              "      <th>snr</th>\n",
              "      <th>ifo</th>\n",
              "      <th>bandwidth</th>\n",
              "      <th>duration</th>\n",
              "    </tr>\n",
              "  </thead>\n",
              "  <tbody>\n",
              "    <tr>\n",
              "      <th>0</th>\n",
              "      <td>HH9ABflByx</td>\n",
              "      <td>1.129517e+09</td>\n",
              "      <td>364.822</td>\n",
              "      <td>225.349</td>\n",
              "      <td>35.919</td>\n",
              "      <td>L1</td>\n",
              "      <td>665.643311</td>\n",
              "      <td>0.250</td>\n",
              "    </tr>\n",
              "    <tr>\n",
              "      <th>1</th>\n",
              "      <td>oTXUV2ynKq</td>\n",
              "      <td>1.135647e+09</td>\n",
              "      <td>3609.954</td>\n",
              "      <td>38.027</td>\n",
              "      <td>2743.555</td>\n",
              "      <td>H1</td>\n",
              "      <td>7209.994629</td>\n",
              "      <td>13.690</td>\n",
              "    </tr>\n",
              "    <tr>\n",
              "      <th>2</th>\n",
              "      <td>jQwe6arh9F</td>\n",
              "      <td>1.129802e+09</td>\n",
              "      <td>1838.466</td>\n",
              "      <td>2025.310</td>\n",
              "      <td>16.698</td>\n",
              "      <td>H1</td>\n",
              "      <td>3612.932861</td>\n",
              "      <td>0.375</td>\n",
              "    </tr>\n",
              "    <tr>\n",
              "      <th>3</th>\n",
              "      <td>g8bOTBroX2</td>\n",
              "      <td>1.131774e+09</td>\n",
              "      <td>2067.878</td>\n",
              "      <td>111.128</td>\n",
              "      <td>12.727</td>\n",
              "      <td>H1</td>\n",
              "      <td>4067.436523</td>\n",
              "      <td>0.105</td>\n",
              "    </tr>\n",
              "    <tr>\n",
              "      <th>4</th>\n",
              "      <td>7KAvyGygKM</td>\n",
              "      <td>1.130969e+09</td>\n",
              "      <td>3978.111</td>\n",
              "      <td>131.921</td>\n",
              "      <td>10.926</td>\n",
              "      <td>L1</td>\n",
              "      <td>7795.106934</td>\n",
              "      <td>2.304</td>\n",
              "    </tr>\n",
              "  </tbody>\n",
              "</table>\n",
              "</div>\n",
              "      <button class=\"colab-df-convert\" onclick=\"convertToInteractive('df-6bc194b9-5ccc-47ce-94fe-2329b1b1f363')\"\n",
              "              title=\"Convert this dataframe to an interactive table.\"\n",
              "              style=\"display:none;\">\n",
              "        \n",
              "  <svg xmlns=\"http://www.w3.org/2000/svg\" height=\"24px\"viewBox=\"0 0 24 24\"\n",
              "       width=\"24px\">\n",
              "    <path d=\"M0 0h24v24H0V0z\" fill=\"none\"/>\n",
              "    <path d=\"M18.56 5.44l.94 2.06.94-2.06 2.06-.94-2.06-.94-.94-2.06-.94 2.06-2.06.94zm-11 1L8.5 8.5l.94-2.06 2.06-.94-2.06-.94L8.5 2.5l-.94 2.06-2.06.94zm10 10l.94 2.06.94-2.06 2.06-.94-2.06-.94-.94-2.06-.94 2.06-2.06.94z\"/><path d=\"M17.41 7.96l-1.37-1.37c-.4-.4-.92-.59-1.43-.59-.52 0-1.04.2-1.43.59L10.3 9.45l-7.72 7.72c-.78.78-.78 2.05 0 2.83L4 21.41c.39.39.9.59 1.41.59.51 0 1.02-.2 1.41-.59l7.78-7.78 2.81-2.81c.8-.78.8-2.07 0-2.86zM5.41 20L4 18.59l7.72-7.72 1.47 1.35L5.41 20z\"/>\n",
              "  </svg>\n",
              "      </button>\n",
              "      \n",
              "  <style>\n",
              "    .colab-df-container {\n",
              "      display:flex;\n",
              "      flex-wrap:wrap;\n",
              "      gap: 12px;\n",
              "    }\n",
              "\n",
              "    .colab-df-convert {\n",
              "      background-color: #E8F0FE;\n",
              "      border: none;\n",
              "      border-radius: 50%;\n",
              "      cursor: pointer;\n",
              "      display: none;\n",
              "      fill: #1967D2;\n",
              "      height: 32px;\n",
              "      padding: 0 0 0 0;\n",
              "      width: 32px;\n",
              "    }\n",
              "\n",
              "    .colab-df-convert:hover {\n",
              "      background-color: #E2EBFA;\n",
              "      box-shadow: 0px 1px 2px rgba(60, 64, 67, 0.3), 0px 1px 3px 1px rgba(60, 64, 67, 0.15);\n",
              "      fill: #174EA6;\n",
              "    }\n",
              "\n",
              "    [theme=dark] .colab-df-convert {\n",
              "      background-color: #3B4455;\n",
              "      fill: #D2E3FC;\n",
              "    }\n",
              "\n",
              "    [theme=dark] .colab-df-convert:hover {\n",
              "      background-color: #434B5C;\n",
              "      box-shadow: 0px 1px 3px 1px rgba(0, 0, 0, 0.15);\n",
              "      filter: drop-shadow(0px 1px 2px rgba(0, 0, 0, 0.3));\n",
              "      fill: #FFFFFF;\n",
              "    }\n",
              "  </style>\n",
              "\n",
              "      <script>\n",
              "        const buttonEl =\n",
              "          document.querySelector('#df-6bc194b9-5ccc-47ce-94fe-2329b1b1f363 button.colab-df-convert');\n",
              "        buttonEl.style.display =\n",
              "          google.colab.kernel.accessAllowed ? 'block' : 'none';\n",
              "\n",
              "        async function convertToInteractive(key) {\n",
              "          const element = document.querySelector('#df-6bc194b9-5ccc-47ce-94fe-2329b1b1f363');\n",
              "          const dataTable =\n",
              "            await google.colab.kernel.invokeFunction('convertToInteractive',\n",
              "                                                     [key], {});\n",
              "          if (!dataTable) return;\n",
              "\n",
              "          const docLinkHtml = 'Like what you see? Visit the ' +\n",
              "            '<a target=\"_blank\" href=https://colab.research.google.com/notebooks/data_table.ipynb>data table notebook</a>'\n",
              "            + ' to learn more about interactive tables.';\n",
              "          element.innerHTML = '';\n",
              "          dataTable['output_type'] = 'display_data';\n",
              "          await google.colab.output.renderOutput(dataTable, element);\n",
              "          const docLink = document.createElement('div');\n",
              "          docLink.innerHTML = docLinkHtml;\n",
              "          element.appendChild(docLink);\n",
              "        }\n",
              "      </script>\n",
              "    </div>\n",
              "  </div>\n",
              "  "
            ]
          },
          "metadata": {},
          "execution_count": 4
        }
      ],
      "source": [
        "train_data.head()"
      ]
    },
    {
      "cell_type": "code",
      "execution_count": 5,
      "metadata": {
        "colab": {
          "base_uri": "https://localhost:8080/",
          "height": 268
        },
        "id": "m9_QTw0VF2rS",
        "outputId": "bf3215e7-8c55-4c51-9d01-85ab53572e89"
      },
      "outputs": [
        {
          "output_type": "execute_result",
          "data": {
            "text/plain": [
              "           id       GPStime  centralFreq  peakFreq     snr ifo    bandwidth  \\\n",
              "0  YVnrMXRcUP  1.132261e+09     2960.810    38.027  63.400  H1  5902.753418   \n",
              "1  qD8uxo1Jeu  1.132725e+09     1119.993   324.754  11.789  H1  2135.070557   \n",
              "2  Z5grpD4TOG  1.128422e+09      236.863   134.965   8.000  L1   211.306503   \n",
              "3  4TskgvMLa2  1.132886e+09     1905.332   137.711  14.362  H1  3742.343506   \n",
              "4  ZMEZmAs4gO  1.132755e+09     1119.433   170.654   9.087  H1  2174.645996   \n",
              "\n",
              "   duration  \n",
              "0     2.000  \n",
              "1     0.070  \n",
              "2     0.047  \n",
              "3     0.125  \n",
              "4     0.230  "
            ],
            "text/html": [
              "\n",
              "  <div id=\"df-2fa596f0-5aac-4c03-8846-b0e4b9a9b63f\">\n",
              "    <div class=\"colab-df-container\">\n",
              "      <div>\n",
              "<style scoped>\n",
              "    .dataframe tbody tr th:only-of-type {\n",
              "        vertical-align: middle;\n",
              "    }\n",
              "\n",
              "    .dataframe tbody tr th {\n",
              "        vertical-align: top;\n",
              "    }\n",
              "\n",
              "    .dataframe thead th {\n",
              "        text-align: right;\n",
              "    }\n",
              "</style>\n",
              "<table border=\"1\" class=\"dataframe\">\n",
              "  <thead>\n",
              "    <tr style=\"text-align: right;\">\n",
              "      <th></th>\n",
              "      <th>id</th>\n",
              "      <th>GPStime</th>\n",
              "      <th>centralFreq</th>\n",
              "      <th>peakFreq</th>\n",
              "      <th>snr</th>\n",
              "      <th>ifo</th>\n",
              "      <th>bandwidth</th>\n",
              "      <th>duration</th>\n",
              "    </tr>\n",
              "  </thead>\n",
              "  <tbody>\n",
              "    <tr>\n",
              "      <th>0</th>\n",
              "      <td>YVnrMXRcUP</td>\n",
              "      <td>1.132261e+09</td>\n",
              "      <td>2960.810</td>\n",
              "      <td>38.027</td>\n",
              "      <td>63.400</td>\n",
              "      <td>H1</td>\n",
              "      <td>5902.753418</td>\n",
              "      <td>2.000</td>\n",
              "    </tr>\n",
              "    <tr>\n",
              "      <th>1</th>\n",
              "      <td>qD8uxo1Jeu</td>\n",
              "      <td>1.132725e+09</td>\n",
              "      <td>1119.993</td>\n",
              "      <td>324.754</td>\n",
              "      <td>11.789</td>\n",
              "      <td>H1</td>\n",
              "      <td>2135.070557</td>\n",
              "      <td>0.070</td>\n",
              "    </tr>\n",
              "    <tr>\n",
              "      <th>2</th>\n",
              "      <td>Z5grpD4TOG</td>\n",
              "      <td>1.128422e+09</td>\n",
              "      <td>236.863</td>\n",
              "      <td>134.965</td>\n",
              "      <td>8.000</td>\n",
              "      <td>L1</td>\n",
              "      <td>211.306503</td>\n",
              "      <td>0.047</td>\n",
              "    </tr>\n",
              "    <tr>\n",
              "      <th>3</th>\n",
              "      <td>4TskgvMLa2</td>\n",
              "      <td>1.132886e+09</td>\n",
              "      <td>1905.332</td>\n",
              "      <td>137.711</td>\n",
              "      <td>14.362</td>\n",
              "      <td>H1</td>\n",
              "      <td>3742.343506</td>\n",
              "      <td>0.125</td>\n",
              "    </tr>\n",
              "    <tr>\n",
              "      <th>4</th>\n",
              "      <td>ZMEZmAs4gO</td>\n",
              "      <td>1.132755e+09</td>\n",
              "      <td>1119.433</td>\n",
              "      <td>170.654</td>\n",
              "      <td>9.087</td>\n",
              "      <td>H1</td>\n",
              "      <td>2174.645996</td>\n",
              "      <td>0.230</td>\n",
              "    </tr>\n",
              "  </tbody>\n",
              "</table>\n",
              "</div>\n",
              "      <button class=\"colab-df-convert\" onclick=\"convertToInteractive('df-2fa596f0-5aac-4c03-8846-b0e4b9a9b63f')\"\n",
              "              title=\"Convert this dataframe to an interactive table.\"\n",
              "              style=\"display:none;\">\n",
              "        \n",
              "  <svg xmlns=\"http://www.w3.org/2000/svg\" height=\"24px\"viewBox=\"0 0 24 24\"\n",
              "       width=\"24px\">\n",
              "    <path d=\"M0 0h24v24H0V0z\" fill=\"none\"/>\n",
              "    <path d=\"M18.56 5.44l.94 2.06.94-2.06 2.06-.94-2.06-.94-.94-2.06-.94 2.06-2.06.94zm-11 1L8.5 8.5l.94-2.06 2.06-.94-2.06-.94L8.5 2.5l-.94 2.06-2.06.94zm10 10l.94 2.06.94-2.06 2.06-.94-2.06-.94-.94-2.06-.94 2.06-2.06.94z\"/><path d=\"M17.41 7.96l-1.37-1.37c-.4-.4-.92-.59-1.43-.59-.52 0-1.04.2-1.43.59L10.3 9.45l-7.72 7.72c-.78.78-.78 2.05 0 2.83L4 21.41c.39.39.9.59 1.41.59.51 0 1.02-.2 1.41-.59l7.78-7.78 2.81-2.81c.8-.78.8-2.07 0-2.86zM5.41 20L4 18.59l7.72-7.72 1.47 1.35L5.41 20z\"/>\n",
              "  </svg>\n",
              "      </button>\n",
              "      \n",
              "  <style>\n",
              "    .colab-df-container {\n",
              "      display:flex;\n",
              "      flex-wrap:wrap;\n",
              "      gap: 12px;\n",
              "    }\n",
              "\n",
              "    .colab-df-convert {\n",
              "      background-color: #E8F0FE;\n",
              "      border: none;\n",
              "      border-radius: 50%;\n",
              "      cursor: pointer;\n",
              "      display: none;\n",
              "      fill: #1967D2;\n",
              "      height: 32px;\n",
              "      padding: 0 0 0 0;\n",
              "      width: 32px;\n",
              "    }\n",
              "\n",
              "    .colab-df-convert:hover {\n",
              "      background-color: #E2EBFA;\n",
              "      box-shadow: 0px 1px 2px rgba(60, 64, 67, 0.3), 0px 1px 3px 1px rgba(60, 64, 67, 0.15);\n",
              "      fill: #174EA6;\n",
              "    }\n",
              "\n",
              "    [theme=dark] .colab-df-convert {\n",
              "      background-color: #3B4455;\n",
              "      fill: #D2E3FC;\n",
              "    }\n",
              "\n",
              "    [theme=dark] .colab-df-convert:hover {\n",
              "      background-color: #434B5C;\n",
              "      box-shadow: 0px 1px 3px 1px rgba(0, 0, 0, 0.15);\n",
              "      filter: drop-shadow(0px 1px 2px rgba(0, 0, 0, 0.3));\n",
              "      fill: #FFFFFF;\n",
              "    }\n",
              "  </style>\n",
              "\n",
              "      <script>\n",
              "        const buttonEl =\n",
              "          document.querySelector('#df-2fa596f0-5aac-4c03-8846-b0e4b9a9b63f button.colab-df-convert');\n",
              "        buttonEl.style.display =\n",
              "          google.colab.kernel.accessAllowed ? 'block' : 'none';\n",
              "\n",
              "        async function convertToInteractive(key) {\n",
              "          const element = document.querySelector('#df-2fa596f0-5aac-4c03-8846-b0e4b9a9b63f');\n",
              "          const dataTable =\n",
              "            await google.colab.kernel.invokeFunction('convertToInteractive',\n",
              "                                                     [key], {});\n",
              "          if (!dataTable) return;\n",
              "\n",
              "          const docLinkHtml = 'Like what you see? Visit the ' +\n",
              "            '<a target=\"_blank\" href=https://colab.research.google.com/notebooks/data_table.ipynb>data table notebook</a>'\n",
              "            + ' to learn more about interactive tables.';\n",
              "          element.innerHTML = '';\n",
              "          dataTable['output_type'] = 'display_data';\n",
              "          await google.colab.output.renderOutput(dataTable, element);\n",
              "          const docLink = document.createElement('div');\n",
              "          docLink.innerHTML = docLinkHtml;\n",
              "          element.appendChild(docLink);\n",
              "        }\n",
              "      </script>\n",
              "    </div>\n",
              "  </div>\n",
              "  "
            ]
          },
          "metadata": {},
          "execution_count": 5
        }
      ],
      "source": [
        "test_data.head()"
      ]
    },
    {
      "cell_type": "code",
      "execution_count": 6,
      "metadata": {
        "colab": {
          "base_uri": "https://localhost:8080/"
        },
        "id": "IaiHsHgiF5jv",
        "outputId": "91113dcf-4e9b-4bdd-e84a-8dbfc3fd0332"
      },
      "outputs": [
        {
          "output_type": "execute_result",
          "data": {
            "text/plain": [
              "array(['L1', 'H1'], dtype=object)"
            ]
          },
          "metadata": {},
          "execution_count": 6
        }
      ],
      "source": [
        "train_data[\"ifo\"].unique()"
      ]
    },
    {
      "cell_type": "markdown",
      "metadata": {
        "id": "4yizNMPeJL_8"
      },
      "source": [
        "#Preprocessing"
      ]
    },
    {
      "cell_type": "code",
      "execution_count": 7,
      "metadata": {
        "colab": {
          "base_uri": "https://localhost:8080/",
          "height": 268
        },
        "id": "KvL7T_z9HmgB",
        "outputId": "e67d2733-bf9c-4145-d020-9402eb8fc5c5"
      },
      "outputs": [
        {
          "output_type": "execute_result",
          "data": {
            "text/plain": [
              "           id       GPStime  centralFreq  peakFreq       snr ifo    bandwidth  \\\n",
              "0  HH9ABflByx  1.129517e+09      364.822   225.349    35.919  L1   665.643311   \n",
              "1  oTXUV2ynKq  1.135647e+09     3609.954    38.027  2743.555  H1  7209.994629   \n",
              "2  jQwe6arh9F  1.129802e+09     1838.466  2025.310    16.698  H1  3612.932861   \n",
              "3  g8bOTBroX2  1.131774e+09     2067.878   111.128    12.727  H1  4067.436523   \n",
              "4  7KAvyGygKM  1.130969e+09     3978.111   131.921    10.926  L1  7795.106934   \n",
              "\n",
              "   duration  ifo_num  \n",
              "0     0.250        1  \n",
              "1    13.690        0  \n",
              "2     0.375        0  \n",
              "3     0.105        0  \n",
              "4     2.304        1  "
            ],
            "text/html": [
              "\n",
              "  <div id=\"df-a8d3fdee-74e4-4036-9fe0-19326b485699\">\n",
              "    <div class=\"colab-df-container\">\n",
              "      <div>\n",
              "<style scoped>\n",
              "    .dataframe tbody tr th:only-of-type {\n",
              "        vertical-align: middle;\n",
              "    }\n",
              "\n",
              "    .dataframe tbody tr th {\n",
              "        vertical-align: top;\n",
              "    }\n",
              "\n",
              "    .dataframe thead th {\n",
              "        text-align: right;\n",
              "    }\n",
              "</style>\n",
              "<table border=\"1\" class=\"dataframe\">\n",
              "  <thead>\n",
              "    <tr style=\"text-align: right;\">\n",
              "      <th></th>\n",
              "      <th>id</th>\n",
              "      <th>GPStime</th>\n",
              "      <th>centralFreq</th>\n",
              "      <th>peakFreq</th>\n",
              "      <th>snr</th>\n",
              "      <th>ifo</th>\n",
              "      <th>bandwidth</th>\n",
              "      <th>duration</th>\n",
              "      <th>ifo_num</th>\n",
              "    </tr>\n",
              "  </thead>\n",
              "  <tbody>\n",
              "    <tr>\n",
              "      <th>0</th>\n",
              "      <td>HH9ABflByx</td>\n",
              "      <td>1.129517e+09</td>\n",
              "      <td>364.822</td>\n",
              "      <td>225.349</td>\n",
              "      <td>35.919</td>\n",
              "      <td>L1</td>\n",
              "      <td>665.643311</td>\n",
              "      <td>0.250</td>\n",
              "      <td>1</td>\n",
              "    </tr>\n",
              "    <tr>\n",
              "      <th>1</th>\n",
              "      <td>oTXUV2ynKq</td>\n",
              "      <td>1.135647e+09</td>\n",
              "      <td>3609.954</td>\n",
              "      <td>38.027</td>\n",
              "      <td>2743.555</td>\n",
              "      <td>H1</td>\n",
              "      <td>7209.994629</td>\n",
              "      <td>13.690</td>\n",
              "      <td>0</td>\n",
              "    </tr>\n",
              "    <tr>\n",
              "      <th>2</th>\n",
              "      <td>jQwe6arh9F</td>\n",
              "      <td>1.129802e+09</td>\n",
              "      <td>1838.466</td>\n",
              "      <td>2025.310</td>\n",
              "      <td>16.698</td>\n",
              "      <td>H1</td>\n",
              "      <td>3612.932861</td>\n",
              "      <td>0.375</td>\n",
              "      <td>0</td>\n",
              "    </tr>\n",
              "    <tr>\n",
              "      <th>3</th>\n",
              "      <td>g8bOTBroX2</td>\n",
              "      <td>1.131774e+09</td>\n",
              "      <td>2067.878</td>\n",
              "      <td>111.128</td>\n",
              "      <td>12.727</td>\n",
              "      <td>H1</td>\n",
              "      <td>4067.436523</td>\n",
              "      <td>0.105</td>\n",
              "      <td>0</td>\n",
              "    </tr>\n",
              "    <tr>\n",
              "      <th>4</th>\n",
              "      <td>7KAvyGygKM</td>\n",
              "      <td>1.130969e+09</td>\n",
              "      <td>3978.111</td>\n",
              "      <td>131.921</td>\n",
              "      <td>10.926</td>\n",
              "      <td>L1</td>\n",
              "      <td>7795.106934</td>\n",
              "      <td>2.304</td>\n",
              "      <td>1</td>\n",
              "    </tr>\n",
              "  </tbody>\n",
              "</table>\n",
              "</div>\n",
              "      <button class=\"colab-df-convert\" onclick=\"convertToInteractive('df-a8d3fdee-74e4-4036-9fe0-19326b485699')\"\n",
              "              title=\"Convert this dataframe to an interactive table.\"\n",
              "              style=\"display:none;\">\n",
              "        \n",
              "  <svg xmlns=\"http://www.w3.org/2000/svg\" height=\"24px\"viewBox=\"0 0 24 24\"\n",
              "       width=\"24px\">\n",
              "    <path d=\"M0 0h24v24H0V0z\" fill=\"none\"/>\n",
              "    <path d=\"M18.56 5.44l.94 2.06.94-2.06 2.06-.94-2.06-.94-.94-2.06-.94 2.06-2.06.94zm-11 1L8.5 8.5l.94-2.06 2.06-.94-2.06-.94L8.5 2.5l-.94 2.06-2.06.94zm10 10l.94 2.06.94-2.06 2.06-.94-2.06-.94-.94-2.06-.94 2.06-2.06.94z\"/><path d=\"M17.41 7.96l-1.37-1.37c-.4-.4-.92-.59-1.43-.59-.52 0-1.04.2-1.43.59L10.3 9.45l-7.72 7.72c-.78.78-.78 2.05 0 2.83L4 21.41c.39.39.9.59 1.41.59.51 0 1.02-.2 1.41-.59l7.78-7.78 2.81-2.81c.8-.78.8-2.07 0-2.86zM5.41 20L4 18.59l7.72-7.72 1.47 1.35L5.41 20z\"/>\n",
              "  </svg>\n",
              "      </button>\n",
              "      \n",
              "  <style>\n",
              "    .colab-df-container {\n",
              "      display:flex;\n",
              "      flex-wrap:wrap;\n",
              "      gap: 12px;\n",
              "    }\n",
              "\n",
              "    .colab-df-convert {\n",
              "      background-color: #E8F0FE;\n",
              "      border: none;\n",
              "      border-radius: 50%;\n",
              "      cursor: pointer;\n",
              "      display: none;\n",
              "      fill: #1967D2;\n",
              "      height: 32px;\n",
              "      padding: 0 0 0 0;\n",
              "      width: 32px;\n",
              "    }\n",
              "\n",
              "    .colab-df-convert:hover {\n",
              "      background-color: #E2EBFA;\n",
              "      box-shadow: 0px 1px 2px rgba(60, 64, 67, 0.3), 0px 1px 3px 1px rgba(60, 64, 67, 0.15);\n",
              "      fill: #174EA6;\n",
              "    }\n",
              "\n",
              "    [theme=dark] .colab-df-convert {\n",
              "      background-color: #3B4455;\n",
              "      fill: #D2E3FC;\n",
              "    }\n",
              "\n",
              "    [theme=dark] .colab-df-convert:hover {\n",
              "      background-color: #434B5C;\n",
              "      box-shadow: 0px 1px 3px 1px rgba(0, 0, 0, 0.15);\n",
              "      filter: drop-shadow(0px 1px 2px rgba(0, 0, 0, 0.3));\n",
              "      fill: #FFFFFF;\n",
              "    }\n",
              "  </style>\n",
              "\n",
              "      <script>\n",
              "        const buttonEl =\n",
              "          document.querySelector('#df-a8d3fdee-74e4-4036-9fe0-19326b485699 button.colab-df-convert');\n",
              "        buttonEl.style.display =\n",
              "          google.colab.kernel.accessAllowed ? 'block' : 'none';\n",
              "\n",
              "        async function convertToInteractive(key) {\n",
              "          const element = document.querySelector('#df-a8d3fdee-74e4-4036-9fe0-19326b485699');\n",
              "          const dataTable =\n",
              "            await google.colab.kernel.invokeFunction('convertToInteractive',\n",
              "                                                     [key], {});\n",
              "          if (!dataTable) return;\n",
              "\n",
              "          const docLinkHtml = 'Like what you see? Visit the ' +\n",
              "            '<a target=\"_blank\" href=https://colab.research.google.com/notebooks/data_table.ipynb>data table notebook</a>'\n",
              "            + ' to learn more about interactive tables.';\n",
              "          element.innerHTML = '';\n",
              "          dataTable['output_type'] = 'display_data';\n",
              "          await google.colab.output.renderOutput(dataTable, element);\n",
              "          const docLink = document.createElement('div');\n",
              "          docLink.innerHTML = docLinkHtml;\n",
              "          element.appendChild(docLink);\n",
              "        }\n",
              "      </script>\n",
              "    </div>\n",
              "  </div>\n",
              "  "
            ]
          },
          "metadata": {},
          "execution_count": 7
        }
      ],
      "source": [
        "le = LabelEncoder()\n",
        "le.fit(train_data.ifo)\n",
        "train_data['ifo_num'] = le.transform(train_data.ifo)\n",
        "train_data.head()"
      ]
    },
    {
      "cell_type": "code",
      "source": [
        "le = LabelEncoder()\n",
        "le.fit(test_data.ifo)\n",
        "test_data['ifo_num'] = le.transform(test_data.ifo)\n",
        "test_data.head()"
      ],
      "metadata": {
        "colab": {
          "base_uri": "https://localhost:8080/",
          "height": 268
        },
        "id": "O0G2sqmcqVOC",
        "outputId": "f387c0b5-43ad-4299-c28a-5f24a8b0cfab"
      },
      "execution_count": 69,
      "outputs": [
        {
          "output_type": "execute_result",
          "data": {
            "text/plain": [
              "           id       GPStime  centralFreq  peakFreq     snr ifo    bandwidth  \\\n",
              "0  YVnrMXRcUP  1.132261e+09     2960.810    38.027  63.400  H1  5902.753418   \n",
              "1  qD8uxo1Jeu  1.132725e+09     1119.993   324.754  11.789  H1  2135.070557   \n",
              "2  Z5grpD4TOG  1.128422e+09      236.863   134.965   8.000  L1   211.306503   \n",
              "3  4TskgvMLa2  1.132886e+09     1905.332   137.711  14.362  H1  3742.343506   \n",
              "4  ZMEZmAs4gO  1.132755e+09     1119.433   170.654   9.087  H1  2174.645996   \n",
              "\n",
              "   duration  ifo_num  \n",
              "0     2.000        0  \n",
              "1     0.070        0  \n",
              "2     0.047        1  \n",
              "3     0.125        0  \n",
              "4     0.230        0  "
            ],
            "text/html": [
              "\n",
              "  <div id=\"df-add28c03-58cb-4bcb-9344-1f1af7d863e8\">\n",
              "    <div class=\"colab-df-container\">\n",
              "      <div>\n",
              "<style scoped>\n",
              "    .dataframe tbody tr th:only-of-type {\n",
              "        vertical-align: middle;\n",
              "    }\n",
              "\n",
              "    .dataframe tbody tr th {\n",
              "        vertical-align: top;\n",
              "    }\n",
              "\n",
              "    .dataframe thead th {\n",
              "        text-align: right;\n",
              "    }\n",
              "</style>\n",
              "<table border=\"1\" class=\"dataframe\">\n",
              "  <thead>\n",
              "    <tr style=\"text-align: right;\">\n",
              "      <th></th>\n",
              "      <th>id</th>\n",
              "      <th>GPStime</th>\n",
              "      <th>centralFreq</th>\n",
              "      <th>peakFreq</th>\n",
              "      <th>snr</th>\n",
              "      <th>ifo</th>\n",
              "      <th>bandwidth</th>\n",
              "      <th>duration</th>\n",
              "      <th>ifo_num</th>\n",
              "    </tr>\n",
              "  </thead>\n",
              "  <tbody>\n",
              "    <tr>\n",
              "      <th>0</th>\n",
              "      <td>YVnrMXRcUP</td>\n",
              "      <td>1.132261e+09</td>\n",
              "      <td>2960.810</td>\n",
              "      <td>38.027</td>\n",
              "      <td>63.400</td>\n",
              "      <td>H1</td>\n",
              "      <td>5902.753418</td>\n",
              "      <td>2.000</td>\n",
              "      <td>0</td>\n",
              "    </tr>\n",
              "    <tr>\n",
              "      <th>1</th>\n",
              "      <td>qD8uxo1Jeu</td>\n",
              "      <td>1.132725e+09</td>\n",
              "      <td>1119.993</td>\n",
              "      <td>324.754</td>\n",
              "      <td>11.789</td>\n",
              "      <td>H1</td>\n",
              "      <td>2135.070557</td>\n",
              "      <td>0.070</td>\n",
              "      <td>0</td>\n",
              "    </tr>\n",
              "    <tr>\n",
              "      <th>2</th>\n",
              "      <td>Z5grpD4TOG</td>\n",
              "      <td>1.128422e+09</td>\n",
              "      <td>236.863</td>\n",
              "      <td>134.965</td>\n",
              "      <td>8.000</td>\n",
              "      <td>L1</td>\n",
              "      <td>211.306503</td>\n",
              "      <td>0.047</td>\n",
              "      <td>1</td>\n",
              "    </tr>\n",
              "    <tr>\n",
              "      <th>3</th>\n",
              "      <td>4TskgvMLa2</td>\n",
              "      <td>1.132886e+09</td>\n",
              "      <td>1905.332</td>\n",
              "      <td>137.711</td>\n",
              "      <td>14.362</td>\n",
              "      <td>H1</td>\n",
              "      <td>3742.343506</td>\n",
              "      <td>0.125</td>\n",
              "      <td>0</td>\n",
              "    </tr>\n",
              "    <tr>\n",
              "      <th>4</th>\n",
              "      <td>ZMEZmAs4gO</td>\n",
              "      <td>1.132755e+09</td>\n",
              "      <td>1119.433</td>\n",
              "      <td>170.654</td>\n",
              "      <td>9.087</td>\n",
              "      <td>H1</td>\n",
              "      <td>2174.645996</td>\n",
              "      <td>0.230</td>\n",
              "      <td>0</td>\n",
              "    </tr>\n",
              "  </tbody>\n",
              "</table>\n",
              "</div>\n",
              "      <button class=\"colab-df-convert\" onclick=\"convertToInteractive('df-add28c03-58cb-4bcb-9344-1f1af7d863e8')\"\n",
              "              title=\"Convert this dataframe to an interactive table.\"\n",
              "              style=\"display:none;\">\n",
              "        \n",
              "  <svg xmlns=\"http://www.w3.org/2000/svg\" height=\"24px\"viewBox=\"0 0 24 24\"\n",
              "       width=\"24px\">\n",
              "    <path d=\"M0 0h24v24H0V0z\" fill=\"none\"/>\n",
              "    <path d=\"M18.56 5.44l.94 2.06.94-2.06 2.06-.94-2.06-.94-.94-2.06-.94 2.06-2.06.94zm-11 1L8.5 8.5l.94-2.06 2.06-.94-2.06-.94L8.5 2.5l-.94 2.06-2.06.94zm10 10l.94 2.06.94-2.06 2.06-.94-2.06-.94-.94-2.06-.94 2.06-2.06.94z\"/><path d=\"M17.41 7.96l-1.37-1.37c-.4-.4-.92-.59-1.43-.59-.52 0-1.04.2-1.43.59L10.3 9.45l-7.72 7.72c-.78.78-.78 2.05 0 2.83L4 21.41c.39.39.9.59 1.41.59.51 0 1.02-.2 1.41-.59l7.78-7.78 2.81-2.81c.8-.78.8-2.07 0-2.86zM5.41 20L4 18.59l7.72-7.72 1.47 1.35L5.41 20z\"/>\n",
              "  </svg>\n",
              "      </button>\n",
              "      \n",
              "  <style>\n",
              "    .colab-df-container {\n",
              "      display:flex;\n",
              "      flex-wrap:wrap;\n",
              "      gap: 12px;\n",
              "    }\n",
              "\n",
              "    .colab-df-convert {\n",
              "      background-color: #E8F0FE;\n",
              "      border: none;\n",
              "      border-radius: 50%;\n",
              "      cursor: pointer;\n",
              "      display: none;\n",
              "      fill: #1967D2;\n",
              "      height: 32px;\n",
              "      padding: 0 0 0 0;\n",
              "      width: 32px;\n",
              "    }\n",
              "\n",
              "    .colab-df-convert:hover {\n",
              "      background-color: #E2EBFA;\n",
              "      box-shadow: 0px 1px 2px rgba(60, 64, 67, 0.3), 0px 1px 3px 1px rgba(60, 64, 67, 0.15);\n",
              "      fill: #174EA6;\n",
              "    }\n",
              "\n",
              "    [theme=dark] .colab-df-convert {\n",
              "      background-color: #3B4455;\n",
              "      fill: #D2E3FC;\n",
              "    }\n",
              "\n",
              "    [theme=dark] .colab-df-convert:hover {\n",
              "      background-color: #434B5C;\n",
              "      box-shadow: 0px 1px 3px 1px rgba(0, 0, 0, 0.15);\n",
              "      filter: drop-shadow(0px 1px 2px rgba(0, 0, 0, 0.3));\n",
              "      fill: #FFFFFF;\n",
              "    }\n",
              "  </style>\n",
              "\n",
              "      <script>\n",
              "        const buttonEl =\n",
              "          document.querySelector('#df-add28c03-58cb-4bcb-9344-1f1af7d863e8 button.colab-df-convert');\n",
              "        buttonEl.style.display =\n",
              "          google.colab.kernel.accessAllowed ? 'block' : 'none';\n",
              "\n",
              "        async function convertToInteractive(key) {\n",
              "          const element = document.querySelector('#df-add28c03-58cb-4bcb-9344-1f1af7d863e8');\n",
              "          const dataTable =\n",
              "            await google.colab.kernel.invokeFunction('convertToInteractive',\n",
              "                                                     [key], {});\n",
              "          if (!dataTable) return;\n",
              "\n",
              "          const docLinkHtml = 'Like what you see? Visit the ' +\n",
              "            '<a target=\"_blank\" href=https://colab.research.google.com/notebooks/data_table.ipynb>data table notebook</a>'\n",
              "            + ' to learn more about interactive tables.';\n",
              "          element.innerHTML = '';\n",
              "          dataTable['output_type'] = 'display_data';\n",
              "          await google.colab.output.renderOutput(dataTable, element);\n",
              "          const docLink = document.createElement('div');\n",
              "          docLink.innerHTML = docLinkHtml;\n",
              "          element.appendChild(docLink);\n",
              "        }\n",
              "      </script>\n",
              "    </div>\n",
              "  </div>\n",
              "  "
            ]
          },
          "metadata": {},
          "execution_count": 69
        }
      ]
    },
    {
      "cell_type": "code",
      "execution_count": 73,
      "metadata": {
        "colab": {
          "base_uri": "https://localhost:8080/",
          "height": 204
        },
        "id": "JHs9LU_SL0Nr",
        "outputId": "877d7aed-76c7-4f03-f384-838a27a5d39b"
      },
      "outputs": [
        {
          "output_type": "execute_result",
          "data": {
            "text/plain": [
              "    0               1  label\n",
              "0  d1            Blip      3\n",
              "1  d2  Extremely_Loud      5\n",
              "2  d3     Violin_Mode     19\n",
              "3  d4            Blip      3\n",
              "4  d5        Scratchy     17"
            ],
            "text/html": [
              "\n",
              "  <div id=\"df-145c9366-b88c-4590-954a-7a6b021df6fe\">\n",
              "    <div class=\"colab-df-container\">\n",
              "      <div>\n",
              "<style scoped>\n",
              "    .dataframe tbody tr th:only-of-type {\n",
              "        vertical-align: middle;\n",
              "    }\n",
              "\n",
              "    .dataframe tbody tr th {\n",
              "        vertical-align: top;\n",
              "    }\n",
              "\n",
              "    .dataframe thead th {\n",
              "        text-align: right;\n",
              "    }\n",
              "</style>\n",
              "<table border=\"1\" class=\"dataframe\">\n",
              "  <thead>\n",
              "    <tr style=\"text-align: right;\">\n",
              "      <th></th>\n",
              "      <th>0</th>\n",
              "      <th>1</th>\n",
              "      <th>label</th>\n",
              "    </tr>\n",
              "  </thead>\n",
              "  <tbody>\n",
              "    <tr>\n",
              "      <th>0</th>\n",
              "      <td>d1</td>\n",
              "      <td>Blip</td>\n",
              "      <td>3</td>\n",
              "    </tr>\n",
              "    <tr>\n",
              "      <th>1</th>\n",
              "      <td>d2</td>\n",
              "      <td>Extremely_Loud</td>\n",
              "      <td>5</td>\n",
              "    </tr>\n",
              "    <tr>\n",
              "      <th>2</th>\n",
              "      <td>d3</td>\n",
              "      <td>Violin_Mode</td>\n",
              "      <td>19</td>\n",
              "    </tr>\n",
              "    <tr>\n",
              "      <th>3</th>\n",
              "      <td>d4</td>\n",
              "      <td>Blip</td>\n",
              "      <td>3</td>\n",
              "    </tr>\n",
              "    <tr>\n",
              "      <th>4</th>\n",
              "      <td>d5</td>\n",
              "      <td>Scratchy</td>\n",
              "      <td>17</td>\n",
              "    </tr>\n",
              "  </tbody>\n",
              "</table>\n",
              "</div>\n",
              "      <button class=\"colab-df-convert\" onclick=\"convertToInteractive('df-145c9366-b88c-4590-954a-7a6b021df6fe')\"\n",
              "              title=\"Convert this dataframe to an interactive table.\"\n",
              "              style=\"display:none;\">\n",
              "        \n",
              "  <svg xmlns=\"http://www.w3.org/2000/svg\" height=\"24px\"viewBox=\"0 0 24 24\"\n",
              "       width=\"24px\">\n",
              "    <path d=\"M0 0h24v24H0V0z\" fill=\"none\"/>\n",
              "    <path d=\"M18.56 5.44l.94 2.06.94-2.06 2.06-.94-2.06-.94-.94-2.06-.94 2.06-2.06.94zm-11 1L8.5 8.5l.94-2.06 2.06-.94-2.06-.94L8.5 2.5l-.94 2.06-2.06.94zm10 10l.94 2.06.94-2.06 2.06-.94-2.06-.94-.94-2.06-.94 2.06-2.06.94z\"/><path d=\"M17.41 7.96l-1.37-1.37c-.4-.4-.92-.59-1.43-.59-.52 0-1.04.2-1.43.59L10.3 9.45l-7.72 7.72c-.78.78-.78 2.05 0 2.83L4 21.41c.39.39.9.59 1.41.59.51 0 1.02-.2 1.41-.59l7.78-7.78 2.81-2.81c.8-.78.8-2.07 0-2.86zM5.41 20L4 18.59l7.72-7.72 1.47 1.35L5.41 20z\"/>\n",
              "  </svg>\n",
              "      </button>\n",
              "      \n",
              "  <style>\n",
              "    .colab-df-container {\n",
              "      display:flex;\n",
              "      flex-wrap:wrap;\n",
              "      gap: 12px;\n",
              "    }\n",
              "\n",
              "    .colab-df-convert {\n",
              "      background-color: #E8F0FE;\n",
              "      border: none;\n",
              "      border-radius: 50%;\n",
              "      cursor: pointer;\n",
              "      display: none;\n",
              "      fill: #1967D2;\n",
              "      height: 32px;\n",
              "      padding: 0 0 0 0;\n",
              "      width: 32px;\n",
              "    }\n",
              "\n",
              "    .colab-df-convert:hover {\n",
              "      background-color: #E2EBFA;\n",
              "      box-shadow: 0px 1px 2px rgba(60, 64, 67, 0.3), 0px 1px 3px 1px rgba(60, 64, 67, 0.15);\n",
              "      fill: #174EA6;\n",
              "    }\n",
              "\n",
              "    [theme=dark] .colab-df-convert {\n",
              "      background-color: #3B4455;\n",
              "      fill: #D2E3FC;\n",
              "    }\n",
              "\n",
              "    [theme=dark] .colab-df-convert:hover {\n",
              "      background-color: #434B5C;\n",
              "      box-shadow: 0px 1px 3px 1px rgba(0, 0, 0, 0.15);\n",
              "      filter: drop-shadow(0px 1px 2px rgba(0, 0, 0, 0.3));\n",
              "      fill: #FFFFFF;\n",
              "    }\n",
              "  </style>\n",
              "\n",
              "      <script>\n",
              "        const buttonEl =\n",
              "          document.querySelector('#df-145c9366-b88c-4590-954a-7a6b021df6fe button.colab-df-convert');\n",
              "        buttonEl.style.display =\n",
              "          google.colab.kernel.accessAllowed ? 'block' : 'none';\n",
              "\n",
              "        async function convertToInteractive(key) {\n",
              "          const element = document.querySelector('#df-145c9366-b88c-4590-954a-7a6b021df6fe');\n",
              "          const dataTable =\n",
              "            await google.colab.kernel.invokeFunction('convertToInteractive',\n",
              "                                                     [key], {});\n",
              "          if (!dataTable) return;\n",
              "\n",
              "          const docLinkHtml = 'Like what you see? Visit the ' +\n",
              "            '<a target=\"_blank\" href=https://colab.research.google.com/notebooks/data_table.ipynb>data table notebook</a>'\n",
              "            + ' to learn more about interactive tables.';\n",
              "          element.innerHTML = '';\n",
              "          dataTable['output_type'] = 'display_data';\n",
              "          await google.colab.output.renderOutput(dataTable, element);\n",
              "          const docLink = document.createElement('div');\n",
              "          docLink.innerHTML = docLinkHtml;\n",
              "          element.appendChild(docLink);\n",
              "        }\n",
              "      </script>\n",
              "    </div>\n",
              "  </div>\n",
              "  "
            ]
          },
          "metadata": {},
          "execution_count": 73
        }
      ],
      "source": [
        "le = LabelEncoder()\n",
        "le.fit(train_label[1])\n",
        "train_label['label'] = le.transform(train_label[1])\n",
        "train_label.head()"
      ]
    },
    {
      "cell_type": "code",
      "source": [
        "train_data['label'] = train_label['label']\n"
      ],
      "metadata": {
        "id": "5wLqlJPmqcmo"
      },
      "execution_count": 9,
      "outputs": []
    },
    {
      "cell_type": "code",
      "source": [
        "for col in train_data.columns[:-1]:\n",
        "    print(train_data[[col, \"label\"]].groupby('label').describe())"
      ],
      "metadata": {
        "colab": {
          "base_uri": "https://localhost:8080/"
        },
        "id": "K0xgqZm9qw6o",
        "outputId": "b1959468-28d2-4094-877a-3c79d247e4c5"
      },
      "execution_count": 10,
      "outputs": [
        {
          "output_type": "stream",
          "name": "stdout",
          "text": [
            "         id                        \n",
            "      count unique         top freq\n",
            "label                              \n",
            "0         4      4  72FpqgxwTs    1\n",
            "1        75     75  7derEpwLIL    1\n",
            "2        51     51  hB93a6UPPp    1\n",
            "3      1587   1587  HH9ABflByx    1\n",
            "4        54     54  3FcGoZua0h    1\n",
            "5       403    403  oTXUV2ynKq    1\n",
            "6       243    243  5lL68EymOk    1\n",
            "7       638    638  KJXiJjU9R5    1\n",
            "8       360    360  3eWwicd16b    1\n",
            "9       474    474  iH9g1mcRF7    1\n",
            "10      445    445  IwZrYzVNpy    1\n",
            "11       37     37  cwPkRt3R8p    1\n",
            "12      136    136  YU3iEjH75G    1\n",
            "13       23     23  N1kAm9Ytrb    1\n",
            "14      405    405  2OS69pGExE    1\n",
            "15       82     82  cIb4LRGlLH    1\n",
            "16      384    384  qU8GHCsHWN    1\n",
            "17      242    242  7KAvyGygKM    1\n",
            "18       84     84  gdV6DYhWrb    1\n",
            "19      123    123  jQwe6arh9F    1\n",
            "20       19     19  wgQz9Eq3OP    1\n",
            "21      131    131  Uo1TnuQ2KM    1\n",
            "      GPStime                                                          \\\n",
            "        count          mean           std           min           25%   \n",
            "label                                                                   \n",
            "0         4.0  1.129181e+09  1.242489e+06  1.127317e+09  1.129181e+09   \n",
            "1        75.0  1.137163e+09  5.287435e+05  1.132645e+09  1.137221e+09   \n",
            "2        51.0  1.127264e+09  1.854417e+06  1.126409e+09  1.126600e+09   \n",
            "3      1587.0  1.131696e+09  2.893891e+06  1.126403e+09  1.129072e+09   \n",
            "4        54.0  1.128369e+09  6.352791e+05  1.127176e+09  1.128126e+09   \n",
            "5       403.0  1.130848e+09  3.311268e+06  1.126410e+09  1.127803e+09   \n",
            "6       243.0  1.128413e+09  1.160387e+05  1.127306e+09  1.128404e+09   \n",
            "7       638.0  1.131335e+09  2.975040e+06  1.126420e+09  1.128487e+09   \n",
            "8       360.0  1.131614e+09  4.030728e+06  1.126808e+09  1.127325e+09   \n",
            "9       474.0  1.134160e+09  2.128060e+06  1.126884e+09  1.132793e+09   \n",
            "10      445.0  1.134458e+09  2.108508e+06  1.126888e+09  1.132842e+09   \n",
            "11       37.0  1.132770e+09  2.776609e+06  1.126888e+09  1.131372e+09   \n",
            "12      136.0  1.132536e+09  3.000049e+06  1.126405e+09  1.130677e+09   \n",
            "13       23.0  1.132428e+09  2.016890e+06  1.129968e+09  1.129968e+09   \n",
            "14      405.0  1.130071e+09  2.153390e+06  1.126413e+09  1.128235e+09   \n",
            "15       82.0  1.132667e+09  3.579940e+06  1.126582e+09  1.129677e+09   \n",
            "16      384.0  1.134129e+09  1.638867e+06  1.127425e+09  1.133676e+09   \n",
            "17      242.0  1.129857e+09  2.126843e+06  1.126658e+09  1.128782e+09   \n",
            "18       84.0  1.131369e+09  2.737104e+06  1.126667e+09  1.129143e+09   \n",
            "19      123.0  1.129802e+09  2.912257e+02  1.129801e+09  1.129802e+09   \n",
            "20       19.0  1.128768e+09  2.964358e+06  1.126884e+09  1.127317e+09   \n",
            "21      131.0  1.132948e+09  3.124517e+06  1.127224e+09  1.129366e+09   \n",
            "\n",
            "                                                 \n",
            "                50%           75%           max  \n",
            "label                                            \n",
            "0      1.129802e+09  1.129802e+09  1.129802e+09  \n",
            "1      1.137223e+09  1.137227e+09  1.137233e+09  \n",
            "2      1.126796e+09  1.126990e+09  1.135375e+09  \n",
            "3      1.132332e+09  1.133456e+09  1.137247e+09  \n",
            "4      1.128663e+09  1.128670e+09  1.131398e+09  \n",
            "5      1.130253e+09  1.133306e+09  1.137219e+09  \n",
            "6      1.128422e+09  1.128422e+09  1.129489e+09  \n",
            "7      1.131700e+09  1.133349e+09  1.137243e+09  \n",
            "8      1.131056e+09  1.136404e+09  1.136696e+09  \n",
            "9      1.134918e+09  1.135623e+09  1.137239e+09  \n",
            "10     1.134923e+09  1.136275e+09  1.137250e+09  \n",
            "11     1.133956e+09  1.134156e+09  1.136501e+09  \n",
            "12     1.132491e+09  1.135040e+09  1.137213e+09  \n",
            "13     1.133991e+09  1.133991e+09  1.134077e+09  \n",
            "14     1.130181e+09  1.131664e+09  1.134353e+09  \n",
            "15     1.133042e+09  1.136395e+09  1.137237e+09  \n",
            "16     1.134478e+09  1.135310e+09  1.137124e+09  \n",
            "17     1.129642e+09  1.130226e+09  1.136698e+09  \n",
            "18     1.131231e+09  1.133737e+09  1.137224e+09  \n",
            "19     1.129802e+09  1.129802e+09  1.129802e+09  \n",
            "20     1.127317e+09  1.129049e+09  1.136398e+09  \n",
            "21     1.132860e+09  1.136213e+09  1.136547e+09  \n",
            "      centralFreq                                                             \\\n",
            "            count         mean          std       min         25%        50%   \n",
            "label                                                                          \n",
            "0             4.0  1832.782500   401.960937  1242.058  1790.08750  1972.7640   \n",
            "1            75.0  1826.597067   648.233552  1134.534  1528.97900  1668.2950   \n",
            "2            51.0   342.238353   679.822696    41.255    47.13400    50.2750   \n",
            "3          1587.0   827.180901   904.105161    60.697   250.22700   444.3860   \n",
            "4            54.0   272.810667   326.643730   140.865   169.34700   172.9960   \n",
            "5           403.0  2588.098792  1088.576020   147.863  1838.46600  2333.8300   \n",
            "6           243.0   268.352255   286.324427   121.938   167.79100   190.5870   \n",
            "7           638.0  1768.931934  1163.621580    98.790   662.46875  1479.7310   \n",
            "8           360.0  1672.831642  1198.184775    70.893   549.73200  1521.9680   \n",
            "9           474.0  2545.652660  1243.355822     9.780  2411.47900  2646.3360   \n",
            "10          445.0  2633.077957  1223.614945    10.431  2056.01900  2911.7510   \n",
            "11           37.0  1837.435595  1537.735814    47.521   286.55600  1521.9680   \n",
            "12          136.0  1677.935346  1475.559927    39.216   118.32950  1472.8615   \n",
            "13           23.0  1306.973913  1417.256317    28.409    52.60650   444.4300   \n",
            "14          405.0   755.886570  1125.971398    35.827    62.15600    66.7580   \n",
            "15           82.0  1311.618146  1037.921097   140.865   376.97800   990.4610   \n",
            "16          384.0  2146.385490  1298.989218    24.323  1117.68000  2373.6280   \n",
            "17          242.0  1026.501632  1213.888434   102.317   169.56300   251.3755   \n",
            "18           84.0   841.423655  1167.355388    57.157    70.89300    93.2815   \n",
            "19          123.0  1860.408553   131.759816  1549.513  1809.96500  1838.4660   \n",
            "20           19.0  1352.282579   923.468554   521.279   780.59550  1020.3730   \n",
            "21          131.0  2444.755252  1155.063297   310.286  1647.51300  2145.0890   \n",
            "\n",
            "                             \n",
            "              75%       max  \n",
            "label                        \n",
            "0      2015.45900  2143.544  \n",
            "1      1785.72100  4003.453  \n",
            "2       113.37250  3252.224  \n",
            "3      1022.31100  4001.470  \n",
            "4       204.32400  1748.486  \n",
            "5      3710.55700  3981.086  \n",
            "6       213.64600  1990.889  \n",
            "7      2832.17450  3986.364  \n",
            "8      2645.92600  3979.047  \n",
            "9      3577.73600  3979.958  \n",
            "10     3697.97900  3984.255  \n",
            "11     3420.45900  3982.484  \n",
            "12     3002.83050  3996.754  \n",
            "13     2419.88050  3814.460  \n",
            "14     1237.04600  4007.242  \n",
            "15     1943.88750  3992.322  \n",
            "16     3255.38025  3988.394  \n",
            "17     1768.41375  4036.002  \n",
            "18     1626.04400  3706.373  \n",
            "19     1972.76400  2241.026  \n",
            "20     1466.15850  3728.483  \n",
            "21     3525.05750  4615.132  \n",
            "      peakFreq                                                             \\\n",
            "         count         mean           std       min         25%       50%   \n",
            "label                                                                       \n",
            "0          4.0  1814.288500  4.220430e+02  1181.224  1814.28850  2025.310   \n",
            "1         75.0  1526.266347  6.544150e+00  1470.348  1527.02200  1527.022   \n",
            "2         51.0    48.240686  2.158966e+00    39.717    48.39400    48.394   \n",
            "3       1587.0   199.742306  1.110980e+02    18.990   121.66300   170.654   \n",
            "4         54.0   138.575907  2.509435e+01    72.044   121.66300   149.414   \n",
            "5        403.0   158.236752  2.201959e+02    11.913    32.84100    48.344   \n",
            "6        243.0   134.248770  1.784846e+01    50.490   134.96500   134.965   \n",
            "7        638.0   152.999734  1.073090e+02    18.990    72.36600   121.663   \n",
            "8        360.0    99.708053  8.348627e+01    10.627    44.12925    99.067   \n",
            "9        474.0    17.906838  6.594624e+01    10.179    10.88000    13.013   \n",
            "10       445.0    14.618571  5.418747e+01    10.072    10.41600    10.930   \n",
            "11        37.0    85.476703  1.320569e+02    19.983    38.02700    38.027   \n",
            "12       136.0   181.159706  4.641922e+02    10.179    32.55225    48.653   \n",
            "13        23.0    36.604130  1.163957e+01    22.047    26.08000    27.900   \n",
            "14       405.0    62.047852  2.489286e+00    57.881    59.70800    60.799   \n",
            "15        82.0   203.099488  1.153441e+02    72.044   125.67500   170.654   \n",
            "16       384.0    29.953406  8.588750e+00    17.681    21.86375    30.169   \n",
            "17       242.0   164.805587  6.987450e+01    50.767   121.66300   153.654   \n",
            "18        84.0    46.495560  8.439050e+00    30.687    38.02700    47.124   \n",
            "19       123.0  2025.310000  1.826429e-12  2025.310  2025.31000  2025.310   \n",
            "20        19.0   832.999947  2.243031e+02   444.247   667.12150   821.537   \n",
            "21       131.0  1093.257718  4.986559e+02   174.864   659.62150  1162.366   \n",
            "\n",
            "                             \n",
            "              75%       max  \n",
            "label                        \n",
            "0      2025.31000  2025.310  \n",
            "1      1527.02200  1527.022  \n",
            "2        48.86500    54.704  \n",
            "3       225.34900  1166.042  \n",
            "4       149.41400   190.779  \n",
            "5       262.06500  2025.310  \n",
            "6       134.96500   291.058  \n",
            "7       210.20825   629.531  \n",
            "8       121.66300   949.471  \n",
            "9        15.48800  1350.343  \n",
            "10       11.52000  1152.665  \n",
            "11       80.27600   776.452  \n",
            "12       83.00600  2027.842  \n",
            "13       48.24900    50.260  \n",
            "14       64.91500    66.058  \n",
            "15      252.88600   618.006  \n",
            "16       32.86200    54.756  \n",
            "17      190.77900   949.471  \n",
            "18       53.48500    80.667  \n",
            "19     2025.31000  2025.310  \n",
            "20     1010.87200  1151.550  \n",
            "21     1449.65800  2047.106  \n",
            "          snr                                                          \\\n",
            "        count         mean          std     min        25%        50%   \n",
            "label                                                                   \n",
            "0         4.0    15.351250     2.964897  11.189   14.26700    16.2460   \n",
            "1        75.0    10.894840     1.730535   7.663    9.81900    10.8290   \n",
            "2        51.0     8.648490     1.008471   7.505    7.93250     8.4070   \n",
            "3      1587.0    23.671984    68.865936   7.549   12.05550    17.1520   \n",
            "4        54.0    13.779907     3.873978   8.621   11.04500    13.0065   \n",
            "5       403.0  2294.987278  5305.772808   9.373  344.15750  1197.6200   \n",
            "6       243.0     9.247778     6.284069   7.502    8.09450     8.6540   \n",
            "7       638.0   136.007020   158.730876  11.837   70.76250   109.0415   \n",
            "8       360.0    29.923628    31.164809   7.537   13.76725    17.6000   \n",
            "9       474.0    37.584882   146.362213   7.574   10.92050    14.9810   \n",
            "10      445.0    22.755391    30.778377   7.513    9.66300    14.3540   \n",
            "11       37.0    31.836730    78.422103   7.883   14.51800    16.7440   \n",
            "12      136.0    69.005176   257.933695   7.506    7.83475     8.3195   \n",
            "13       23.0    25.492174     8.587806  13.967   16.99950    27.0770   \n",
            "14      405.0    11.274454     2.302968   7.501    8.86000    11.8450   \n",
            "15       82.0    34.354549    26.007616   8.048   16.06475    25.4270   \n",
            "16      384.0    16.216974    27.017565   7.543   10.98000    13.0800   \n",
            "17      242.0     8.481066     1.152379   7.501    7.71425     8.1690   \n",
            "18       84.0    15.332190     4.098093   7.936   12.57450    14.3185   \n",
            "19      123.0    21.348984     9.320724   7.706   14.21900    20.6100   \n",
            "20       19.0    13.478474     3.926207   7.917   10.29100    13.0480   \n",
            "21      131.0     9.339099     2.217736   7.511    7.80800     8.5130   \n",
            "\n",
            "                              \n",
            "              75%        max  \n",
            "label                         \n",
            "0        17.33025     17.724  \n",
            "1        12.19350     14.718  \n",
            "2         9.14850     12.683  \n",
            "3        27.20300   2708.819  \n",
            "4        15.37300     26.014  \n",
            "5      2244.42750  81178.727  \n",
            "6         9.39850    105.277  \n",
            "7       165.78000   2769.209  \n",
            "8        38.03800    318.973  \n",
            "9        23.88425   2731.090  \n",
            "10       22.87000    291.106  \n",
            "11       20.22600    490.491  \n",
            "12       10.32425   1971.395  \n",
            "13       32.08400     45.028  \n",
            "14       13.15400     16.202  \n",
            "15       46.38250    129.402  \n",
            "16       16.86200    530.236  \n",
            "17        8.79675     15.203  \n",
            "18       19.00600     24.589  \n",
            "19       26.81650     55.168  \n",
            "20       15.80750     22.859  \n",
            "21        9.86650     19.153  \n",
            "        ifo                 \n",
            "      count unique top  freq\n",
            "label                       \n",
            "0         4      1  H1     4\n",
            "1        75      1  L1    75\n",
            "2        51      2  H1    48\n",
            "3      1587      2  H1  1258\n",
            "4        54      2  L1    29\n",
            "5       403      2  H1   263\n",
            "6       243      2  L1   241\n",
            "7       638      2  H1   473\n",
            "8       360      2  H1   349\n",
            "9       474      2  L1   339\n",
            "10      445      2  L1   371\n",
            "11       37      2  L1    24\n",
            "12      136      2  H1    73\n",
            "13       23      1  H1    23\n",
            "14      405      2  H1   246\n",
            "15       82      2  H1    57\n",
            "16      384      2  H1   334\n",
            "17      242      2  L1   159\n",
            "18       84      2  H1    50\n",
            "19      123      1  H1   123\n",
            "20       19      1  H1    19\n",
            "21      131      2  L1   127\n",
            "      bandwidth                                                      \\\n",
            "          count         mean          std          min          25%   \n",
            "label                                                                 \n",
            "0           4.0  3202.858154   789.628132  2405.518311  2583.522827   \n",
            "1          75.0  1646.871457  1447.819959   156.318161   922.709472   \n",
            "2          51.0   611.880999  1362.591837     6.237310    21.951000   \n",
            "3        1587.0  1571.118440  1811.937523    50.095501   413.835175   \n",
            "4          54.0   478.652782   654.373188   202.225983   274.693451   \n",
            "5         403.0  5139.677376  2201.685375   162.422272  3612.932861   \n",
            "6         243.0   337.244788   582.478298    14.006190   121.829800   \n",
            "7         638.0  3497.581645  2339.187570   133.579987  1286.948853   \n",
            "8         360.0  3304.031367  2416.946309    70.486023  1047.141205   \n",
            "9         474.0  5075.990513  2489.739443     5.483800  4809.203125   \n",
            "10        445.0  5246.514815  2451.983968     1.259180  4090.509766   \n",
            "11         37.0  3628.859874  3082.461503    58.312511   534.692505   \n",
            "12        136.0  3054.780226  3004.513387     1.373570    73.531408   \n",
            "13         23.0  2579.023805  2836.417315    27.846210    64.339144   \n",
            "14        405.0  1413.027530  2250.310058     2.332460    24.528191   \n",
            "15         82.0  2551.946971  2084.714835   217.730896   666.735779   \n",
            "16        384.0  4260.382605  2600.002056     9.880860  2188.804932   \n",
            "17        242.0  1860.049926  2448.242725    62.035400   136.298424   \n",
            "18         84.0  1638.635774  2340.507305    57.394569   102.826599   \n",
            "19        123.0  3453.915970   426.325858  2050.022949  3242.818115   \n",
            "20         19.0  2203.817553  2034.582361   325.610931   909.987915   \n",
            "21        131.0  4156.966387  2418.460519    23.179831  2340.571655   \n",
            "\n",
            "                                              \n",
            "               50%          75%          max  \n",
            "label                                         \n",
            "0      3262.192993  3881.528320  3881.528320  \n",
            "1      1121.788086  1568.729981  7296.128906  \n",
            "2        29.250059   162.744396  6462.874023  \n",
            "3       810.202271  1958.004639  7928.237793  \n",
            "4       274.693451   344.648926  3432.972900  \n",
            "5      4652.435059  7412.156250  7946.482910  \n",
            "6       178.921906   231.856781  3845.279053  \n",
            "7      2904.367065  5636.076660  7944.340332  \n",
            "8      2979.936523  5279.283813  7946.482910  \n",
            "9      5278.620117  7141.717285  7946.482910  \n",
            "10     5815.501953  7384.346680  7946.482910  \n",
            "11     2979.936523  6665.628418  7946.482910  \n",
            "12     2082.044556  5867.927368  7946.482910  \n",
            "13      867.676147  4810.120606  7593.018555  \n",
            "14       50.095501  2371.467285  7898.024414  \n",
            "15     1916.922485  3791.745361  7929.042480  \n",
            "16     4723.057373  6476.952637  7946.482910  \n",
            "17      246.015045  3366.541259  7898.024414  \n",
            "18      133.579987  3221.383545  7374.007813  \n",
            "19     3596.669922  3713.151001  3881.528320  \n",
            "20     1602.915771  2568.799804  7326.951660  \n",
            "21     3778.701904  6446.686767  7942.912109  \n",
            "      duration                                                             \n",
            "         count      mean       std    min      25%     50%      75%     max\n",
            "label                                                                      \n",
            "0          4.0  0.322250  0.244594  0.047  0.17600  0.3135  0.45975   0.615\n",
            "1         75.0  0.159227  0.515284  0.039  0.06300  0.0760  0.10350   4.500\n",
            "2         51.0  0.404392  0.107152  0.219  0.34400  0.3750  0.46750   0.796\n",
            "3       1587.0  0.275118  0.545718  0.010  0.09400  0.1880  0.31300  13.188\n",
            "4         54.0  0.301722  0.157456  0.094  0.17600  0.2970  0.37500   0.625\n",
            "5        403.0  7.704965  4.226978  0.094  5.25000  6.9840  9.62500  29.000\n",
            "6        243.0  0.116066  0.479659  0.023  0.03900  0.0470  0.10900   7.430\n",
            "7        638.0  1.639099  0.920164  0.281  1.06300  1.5000  2.00000  12.109\n",
            "8        360.0  1.916042  2.217381  0.031  0.31300  1.2500  2.75000  21.000\n",
            "9        474.0  2.917373  2.243088  0.125  1.56225  2.5000  3.50000  22.750\n",
            "10       445.0  3.764306  3.201335  0.091  2.00000  3.0000  4.55500  42.156\n",
            "11        37.0  1.515405  1.578851  0.078  0.81300  1.0790  1.43800   7.750\n",
            "12       136.0  2.515654  2.986131  0.010  0.68800  1.1925  2.80475  12.963\n",
            "13        23.0  0.403870  0.163960  0.188  0.31300  0.3440  0.45350   1.000\n",
            "14       405.0  0.760975  0.399598  0.156  0.56300  0.6880  0.87500   6.250\n",
            "15        82.0  0.701207  0.891928  0.013  0.12200  0.5000  0.85225   5.744\n",
            "16       384.0  2.599669  1.693009  0.797  1.75000  2.0000  2.75400  20.000\n",
            "17       242.0  1.220814  1.898100  0.031  0.34000  0.7420  1.47100  24.529\n",
            "18        84.0  0.669619  0.421016  0.094  0.41475  0.6250  0.87500   3.250\n",
            "19       123.0  0.234553  0.218457  0.012  0.08200  0.1540  0.37500   1.035\n",
            "20        19.0  1.420737  1.966465  0.102  0.34750  0.5390  1.64650   8.553\n",
            "21       131.0  0.659954  0.448901  0.043  0.32000  0.6350  0.89150   2.903\n",
            "      ifo_num                                             \n",
            "        count      mean       std  min  25%  50%  75%  max\n",
            "label                                                     \n",
            "0         4.0  0.000000  0.000000  0.0  0.0  0.0  0.0  0.0\n",
            "1        75.0  1.000000  0.000000  1.0  1.0  1.0  1.0  1.0\n",
            "2        51.0  0.058824  0.237635  0.0  0.0  0.0  0.0  1.0\n",
            "3      1587.0  0.207309  0.405507  0.0  0.0  0.0  0.0  1.0\n",
            "4        54.0  0.537037  0.503308  0.0  0.0  1.0  1.0  1.0\n",
            "5       403.0  0.347395  0.476734  0.0  0.0  0.0  1.0  1.0\n",
            "6       243.0  0.991770  0.090534  0.0  1.0  1.0  1.0  1.0\n",
            "7       638.0  0.258621  0.438220  0.0  0.0  0.0  1.0  1.0\n",
            "8       360.0  0.030556  0.172350  0.0  0.0  0.0  0.0  1.0\n",
            "9       474.0  0.715190  0.451801  0.0  0.0  1.0  1.0  1.0\n",
            "10      445.0  0.833708  0.372762  0.0  1.0  1.0  1.0  1.0\n",
            "11       37.0  0.648649  0.483978  0.0  0.0  1.0  1.0  1.0\n",
            "12      136.0  0.463235  0.500490  0.0  0.0  0.0  1.0  1.0\n",
            "13       23.0  0.000000  0.000000  0.0  0.0  0.0  0.0  0.0\n",
            "14      405.0  0.392593  0.488931  0.0  0.0  0.0  1.0  1.0\n",
            "15       82.0  0.304878  0.463189  0.0  0.0  0.0  1.0  1.0\n",
            "16      384.0  0.130208  0.336972  0.0  0.0  0.0  0.0  1.0\n",
            "17      242.0  0.657025  0.475687  0.0  0.0  1.0  1.0  1.0\n",
            "18       84.0  0.404762  0.493794  0.0  0.0  0.0  1.0  1.0\n",
            "19      123.0  0.000000  0.000000  0.0  0.0  0.0  0.0  0.0\n",
            "20       19.0  0.000000  0.000000  0.0  0.0  0.0  0.0  0.0\n",
            "21      131.0  0.969466  0.172713  0.0  1.0  1.0  1.0  1.0\n"
          ]
        }
      ]
    },
    {
      "cell_type": "markdown",
      "metadata": {
        "id": "HssV9s-FJwmS"
      },
      "source": [
        "#Initial Training on Imbalanced Data\n"
      ]
    },
    {
      "cell_type": "markdown",
      "metadata": {
        "id": "0o6aQ1I9J80T"
      },
      "source": [
        "##Decision Tree"
      ]
    },
    {
      "cell_type": "code",
      "execution_count": 11,
      "metadata": {
        "colab": {
          "base_uri": "https://localhost:8080/"
        },
        "id": "pe6KHknNJ8RK",
        "outputId": "821a7183-594a-4026-928b-c0c4e9e705bd"
      },
      "outputs": [
        {
          "output_type": "stream",
          "name": "stderr",
          "text": [
            "/usr/local/lib/python3.7/dist-packages/sklearn/model_selection/_split.py:680: UserWarning: The least populated class in y has only 4 members, which is less than n_splits=5.\n",
            "  UserWarning,\n"
          ]
        }
      ],
      "source": [
        "dt_mod_unb = DecisionTreeClassifier()\n",
        "X = train_data[[\"GPStime\", \"centralFreq\", \"peakFreq\", \"snr\", \"bandwidth\", \"duration\", \"ifo_num\"]]\n",
        "scores = cross_validate(dt_mod_unb, X, train_label['label'], n_jobs=-1, scoring=\"f1_weighted\")"
      ]
    },
    {
      "cell_type": "code",
      "execution_count": 12,
      "metadata": {
        "colab": {
          "base_uri": "https://localhost:8080/"
        },
        "id": "CQ3WmAiGJ7a9",
        "outputId": "33145213-28c9-4ca5-b17b-f5d45d827209"
      },
      "outputs": [
        {
          "output_type": "execute_result",
          "data": {
            "text/plain": [
              "{'fit_time': array([0.05097032, 0.05115199, 0.0527513 , 0.06884909, 0.05824304]),\n",
              " 'score_time': array([0.00596499, 0.00784779, 0.00607276, 0.00511742, 0.00556135]),\n",
              " 'test_score': array([0.83287857, 0.83087895, 0.80734079, 0.81072688, 0.82317761])}"
            ]
          },
          "metadata": {},
          "execution_count": 12
        }
      ],
      "source": [
        "scores"
      ]
    },
    {
      "cell_type": "code",
      "execution_count": 13,
      "metadata": {
        "colab": {
          "base_uri": "https://localhost:8080/"
        },
        "id": "aSkfudqWNQM8",
        "outputId": "730fb918-bb7e-466c-9ee7-d2356ba1e4e2"
      },
      "outputs": [
        {
          "output_type": "stream",
          "name": "stdout",
          "text": [
            "Classes:  [ 0  1  2  3  4  5  6  7  8  9 10 11 12 13 14 15 16 17 18 19 20 21]\n",
            "-----------------------Decision Tree----------------------\n",
            "Accuracy Score:  0.8125\n",
            "Weighted-F1: 0.8128271482427345\n",
            "--------------------------------------------------------\n",
            "              precision    recall  f1-score   support\n",
            "\n",
            "           0       0.00      0.00      0.00         1\n",
            "           1       0.91      1.00      0.95        10\n",
            "           2       0.91      0.83      0.87        12\n",
            "           3       0.90      0.86      0.88       314\n",
            "           4       0.40      0.50      0.44         8\n",
            "           5       0.78      0.87      0.82        83\n",
            "           6       0.86      0.96      0.91        52\n",
            "           7       0.83      0.82      0.83       122\n",
            "           8       0.58      0.64      0.61        70\n",
            "           9       0.78      0.75      0.76       103\n",
            "          10       0.78      0.78      0.78        85\n",
            "          11       0.29      0.33      0.31         6\n",
            "          12       0.48      0.38      0.43        26\n",
            "          13       1.00      1.00      1.00         1\n",
            "          14       1.00      0.99      0.99        78\n",
            "          15       0.31      0.25      0.28        20\n",
            "          16       0.90      0.88      0.89        80\n",
            "          17       0.77      0.83      0.80        58\n",
            "          18       0.56      0.67      0.61        15\n",
            "          19       0.96      0.92      0.94        25\n",
            "          20       0.33      0.33      0.33         3\n",
            "          21       0.92      0.82      0.87        28\n",
            "\n",
            "    accuracy                           0.81      1200\n",
            "   macro avg       0.69      0.70      0.69      1200\n",
            "weighted avg       0.82      0.81      0.81      1200\n",
            "\n"
          ]
        }
      ],
      "source": [
        "X_train, X_test, y_train, y_test = train_test_split(X, train_label['label'], test_size=0.2, random_state=0)\n",
        "\n",
        "dtc_model = DecisionTreeClassifier()\n",
        "clf = dtc_model.fit(X_train, y_train)\n",
        "\n",
        "pred_labels = dtc_model.predict(X_test)\n",
        "\n",
        "print('Classes: ', clf.classes_) \n",
        "# print('Class Priors: ',clf.class_prior_)\n",
        "\n",
        "print('-----------------------Decision Tree----------------------')\n",
        "score = dtc_model.score(X_test, y_test)\n",
        "print('Accuracy Score: ', score)\n",
        "print(f\"Weighted-F1: {f1_score(y_test, pred_labels, average='weighted')}\")\n",
        "print('--------------------------------------------------------')\n",
        "\n",
        "print(classification_report(y_test, pred_labels))"
      ]
    },
    {
      "cell_type": "code",
      "execution_count": 14,
      "metadata": {
        "id": "kJcTytecAVDW"
      },
      "outputs": [],
      "source": [
        "criterion = ['gini', 'entropy']\n",
        "max_depth = [x for x in range(2, 30, 2)]\n",
        "\n",
        "std_slc = StandardScaler()\n",
        "\n",
        "pipe_dtc = Pipeline(steps=[('std_slc', std_slc),\n",
        "                       ('dec_tree', DecisionTreeClassifier())])\n",
        "\n",
        "param_grid_gtc = dict(dec_tree__criterion=criterion, dec_tree__max_depth=max_depth)"
      ]
    },
    {
      "cell_type": "code",
      "execution_count": 15,
      "metadata": {
        "colab": {
          "base_uri": "https://localhost:8080/"
        },
        "id": "E4k94qFhA_bf",
        "outputId": "a1f58dc6-f7f4-4a9b-e41d-94ec49497950"
      },
      "outputs": [
        {
          "output_type": "stream",
          "name": "stdout",
          "text": [
            "Fitting 10 folds for each of 28 candidates, totalling 280 fits\n"
          ]
        },
        {
          "output_type": "stream",
          "name": "stderr",
          "text": [
            "/usr/local/lib/python3.7/dist-packages/sklearn/model_selection/_split.py:680: UserWarning: The least populated class in y has only 3 members, which is less than n_splits=10.\n",
            "  UserWarning,\n"
          ]
        },
        {
          "output_type": "stream",
          "name": "stdout",
          "text": [
            "Pipeline(steps=[('std_slc', StandardScaler()),\n",
            "                ('dec_tree',\n",
            "                 DecisionTreeClassifier(criterion='entropy', max_depth=14))])\n",
            "Best Score: 0.8350832898285658\n"
          ]
        }
      ],
      "source": [
        "gtc_Model_grid = GridSearchCV(estimator=pipe_dtc, param_grid=param_grid_gtc, verbose=1, cv=10, n_jobs=-1, scoring='f1_weighted')\n",
        "gtc_Model_grid.fit(X_train, y_train)\n",
        "print(gtc_Model_grid.best_estimator_)\n",
        "print(f'Best Score: {gtc_Model_grid.best_score_}')"
      ]
    },
    {
      "cell_type": "code",
      "execution_count": 16,
      "metadata": {
        "colab": {
          "base_uri": "https://localhost:8080/"
        },
        "id": "rRadQeA-AQR4",
        "outputId": "657b483d-8c3a-4f1c-9850-5407f494923c"
      },
      "outputs": [
        {
          "output_type": "stream",
          "name": "stdout",
          "text": [
            "Best Criterion: entropy\n",
            "Best max_depth: 14\n",
            "\n",
            "DecisionTreeClassifier(criterion='entropy', max_depth=14)\n"
          ]
        }
      ],
      "source": [
        "print('Best Criterion:', gtc_Model_grid.best_estimator_.get_params()['dec_tree__criterion'])\n",
        "print('Best max_depth:', gtc_Model_grid.best_estimator_.get_params()['dec_tree__max_depth'])\n",
        "print(); print(gtc_Model_grid.best_estimator_.get_params()['dec_tree'])"
      ]
    },
    {
      "cell_type": "code",
      "execution_count": 17,
      "metadata": {
        "colab": {
          "base_uri": "https://localhost:8080/"
        },
        "id": "fYdEudknCloC",
        "outputId": "1e4582e2-b853-4b8c-c3ab-9d4102a48fca"
      },
      "outputs": [
        {
          "output_type": "stream",
          "name": "stdout",
          "text": [
            "Classes:  [ 0  1  2  3  4  5  6  7  8  9 10 11 12 13 14 15 16 17 18 19 20 21]\n",
            "-----------------------Decision Tree----------------------\n",
            "Accuracy Score:  0.8275\n",
            "Weighted-F1: 0.8280283899577551\n",
            "--------------------------------------------------------\n",
            "              precision    recall  f1-score   support\n",
            "\n",
            "           0       0.00      0.00      0.00         1\n",
            "           1       1.00      1.00      1.00        10\n",
            "           2       1.00      0.83      0.91        12\n",
            "           3       0.91      0.86      0.88       314\n",
            "           4       0.33      0.38      0.35         8\n",
            "           5       0.83      0.82      0.82        83\n",
            "           6       0.82      0.96      0.88        52\n",
            "           7       0.82      0.87      0.84       122\n",
            "           8       0.59      0.69      0.64        70\n",
            "           9       0.77      0.83      0.79       103\n",
            "          10       0.85      0.74      0.79        85\n",
            "          11       0.25      0.17      0.20         6\n",
            "          12       0.56      0.58      0.57        26\n",
            "          13       1.00      1.00      1.00         1\n",
            "          14       0.99      1.00      0.99        78\n",
            "          15       0.29      0.25      0.27        20\n",
            "          16       0.92      0.90      0.91        80\n",
            "          17       0.87      0.81      0.84        58\n",
            "          18       0.63      0.80      0.71        15\n",
            "          19       0.96      0.92      0.94        25\n",
            "          20       0.50      0.33      0.40         3\n",
            "          21       0.84      0.93      0.88        28\n",
            "\n",
            "    accuracy                           0.83      1200\n",
            "   macro avg       0.72      0.71      0.71      1200\n",
            "weighted avg       0.83      0.83      0.83      1200\n",
            "\n"
          ]
        }
      ],
      "source": [
        "pipe_gtc = gtc_Model_grid.best_estimator_\n",
        "dtc_model = pipe_gtc\n",
        "clf = dtc_model.fit(X_train, y_train)\n",
        "\n",
        "pred_labels = dtc_model.predict(X_test)\n",
        "\n",
        "print('Classes: ', clf.classes_) \n",
        "# print('Class Priors: ',clf.class_prior_)\n",
        "\n",
        "print('-----------------------Decision Tree----------------------')\n",
        "score = dtc_model.score(X_test, y_test)\n",
        "print('Accuracy Score: ', score)\n",
        "print(f\"Weighted-F1: {f1_score(y_test, pred_labels, average='weighted')}\")\n",
        "print('--------------------------------------------------------')\n",
        "\n",
        "print(classification_report(y_test, pred_labels))"
      ]
    },
    {
      "cell_type": "code",
      "execution_count": 18,
      "metadata": {
        "colab": {
          "base_uri": "https://localhost:8080/"
        },
        "id": "DxWU65Z98zXQ",
        "outputId": "d33dc7a5-9f0f-41a9-b46d-045fcf65e0e4"
      },
      "outputs": [
        {
          "output_type": "stream",
          "name": "stdout",
          "text": [
            "[0.09097651 0.02408289 0.46261975 0.24628856 0.02308586 0.10439785\n",
            " 0.04854859]\n"
          ]
        },
        {
          "output_type": "execute_result",
          "data": {
            "text/plain": [
              "array(['GPStime', 'centralFreq', 'peakFreq', 'snr', 'bandwidth',\n",
              "       'duration', 'ifo_num'], dtype=object)"
            ]
          },
          "metadata": {},
          "execution_count": 18
        }
      ],
      "source": [
        "print(clf['dec_tree'].feature_importances_)\n",
        "clf.feature_names_in_"
      ]
    },
    {
      "cell_type": "markdown",
      "metadata": {
        "id": "biO0ANBk9LzB"
      },
      "source": [
        "So from above we can see \"GPStime\", \"peakFreq\", \"snr\", \"duration\" are more importan feature than the others"
      ]
    },
    {
      "cell_type": "code",
      "execution_count": 19,
      "metadata": {
        "colab": {
          "base_uri": "https://localhost:8080/"
        },
        "id": "HnSrcHIG9CEu",
        "outputId": "8b22d74b-3a9b-421e-b0c2-5d544ca5a04e"
      },
      "outputs": [
        {
          "output_type": "stream",
          "name": "stdout",
          "text": [
            "Classes:  [ 0  1  2  3  4  5  6  7  8  9 10 11 12 13 14 15 16 17 18 19 20 21]\n",
            "--------------------Decision Tree Red-------------------\n",
            "Accuracy Score:  0.8325\n",
            "Weighted-F1: 0.8314173041600624\n",
            "--------------------------------------------------------\n",
            "              precision    recall  f1-score   support\n",
            "\n",
            "           0       0.00      0.00      0.00         1\n",
            "           1       0.91      1.00      0.95        10\n",
            "           2       0.80      0.67      0.73        12\n",
            "           3       0.92      0.89      0.90       314\n",
            "           4       0.70      0.88      0.78         8\n",
            "           5       0.83      0.86      0.84        83\n",
            "           6       0.93      1.00      0.96        52\n",
            "           7       0.86      0.87      0.87       122\n",
            "           8       0.59      0.69      0.63        70\n",
            "           9       0.78      0.76      0.77       103\n",
            "          10       0.78      0.80      0.79        85\n",
            "          11       0.25      0.17      0.20         6\n",
            "          12       0.53      0.38      0.44        26\n",
            "          13       1.00      1.00      1.00         1\n",
            "          14       0.99      0.99      0.99        78\n",
            "          15       0.31      0.25      0.28        20\n",
            "          16       0.88      0.86      0.87        80\n",
            "          17       0.83      0.86      0.85        58\n",
            "          18       0.48      0.67      0.56        15\n",
            "          19       0.96      0.96      0.96        25\n",
            "          20       0.50      0.33      0.40         3\n",
            "          21       0.92      0.86      0.89        28\n",
            "\n",
            "    accuracy                           0.83      1200\n",
            "   macro avg       0.72      0.71      0.71      1200\n",
            "weighted avg       0.83      0.83      0.83      1200\n",
            "\n"
          ]
        }
      ],
      "source": [
        "X_red = train_data[[\"GPStime\", \"peakFreq\", \"snr\", \"duration\", \"ifo_num\"]]\n",
        "\n",
        "X_train_red, X_test_red, y_train_red, y_test_red = train_test_split(X_red, train_label['label'], test_size=0.2, random_state=0)\n",
        "\n",
        "dtc_model = DecisionTreeClassifier()\n",
        "clf = dtc_model.fit(X_train_red, y_train_red)\n",
        "\n",
        "pred_labels = dtc_model.predict(X_test_red)\n",
        "\n",
        "print('Classes: ', clf.classes_) \n",
        "# print('Class Priors: ',clf.class_prior_)\n",
        "\n",
        "print('--------------------Decision Tree Red-------------------')\n",
        "score = dtc_model.score(X_test_red, y_test_red)\n",
        "print('Accuracy Score: ', score)\n",
        "print(f\"Weighted-F1: {f1_score(y_test_red, pred_labels, average='weighted')}\")\n",
        "print('--------------------------------------------------------')\n",
        "\n",
        "print(classification_report(y_test_red, pred_labels))"
      ]
    },
    {
      "cell_type": "code",
      "execution_count": 20,
      "metadata": {
        "id": "C50zxzzRDr4j"
      },
      "outputs": [],
      "source": [
        "criterion = ['gini', 'entropy']\n",
        "max_depth = [x for x in range(2, 30, 2)]\n",
        "\n",
        "std_slc = StandardScaler()\n",
        "\n",
        "pipe_dtc = Pipeline(steps=[('std_slc', std_slc),\n",
        "                       ('dec_tree', DecisionTreeClassifier())])\n",
        "\n",
        "param_grid_gtc = dict(dec_tree__criterion=criterion, dec_tree__max_depth=max_depth)"
      ]
    },
    {
      "cell_type": "code",
      "execution_count": 21,
      "metadata": {
        "colab": {
          "base_uri": "https://localhost:8080/"
        },
        "id": "tthbwAIBD5Lm",
        "outputId": "a8fd8beb-3512-4c7c-fb2e-0a855015acd9"
      },
      "outputs": [
        {
          "output_type": "stream",
          "name": "stdout",
          "text": [
            "Fitting 10 folds for each of 28 candidates, totalling 280 fits\n"
          ]
        },
        {
          "output_type": "stream",
          "name": "stderr",
          "text": [
            "/usr/local/lib/python3.7/dist-packages/sklearn/model_selection/_split.py:680: UserWarning: The least populated class in y has only 3 members, which is less than n_splits=10.\n",
            "  UserWarning,\n"
          ]
        },
        {
          "output_type": "stream",
          "name": "stdout",
          "text": [
            "Pipeline(steps=[('std_slc', StandardScaler()),\n",
            "                ('dec_tree',\n",
            "                 DecisionTreeClassifier(criterion='entropy', max_depth=12))])\n",
            "Best Score: 0.830314994032614\n"
          ]
        }
      ],
      "source": [
        "gtc_Model_grid = GridSearchCV(estimator=pipe_dtc, param_grid=param_grid_gtc, verbose=1, cv=10, n_jobs=-1, scoring='f1_weighted')\n",
        "gtc_Model_grid.fit(X_train_red, y_train_red)\n",
        "print(gtc_Model_grid.best_estimator_)\n",
        "print(f'Best Score: {gtc_Model_grid.best_score_}')"
      ]
    },
    {
      "cell_type": "code",
      "execution_count": 22,
      "metadata": {
        "colab": {
          "base_uri": "https://localhost:8080/"
        },
        "id": "6-iDwhCDEE3N",
        "outputId": "dbab41de-217b-4ea5-99a5-b64eb5148c92"
      },
      "outputs": [
        {
          "output_type": "stream",
          "name": "stdout",
          "text": [
            "Best Criterion: entropy\n",
            "Best max_depth: 12\n",
            "\n",
            "DecisionTreeClassifier(criterion='entropy', max_depth=12)\n"
          ]
        }
      ],
      "source": [
        "print('Best Criterion:', gtc_Model_grid.best_estimator_.get_params()['dec_tree__criterion'])\n",
        "print('Best max_depth:', gtc_Model_grid.best_estimator_.get_params()['dec_tree__max_depth'])\n",
        "print(); print(gtc_Model_grid.best_estimator_.get_params()['dec_tree'])"
      ]
    },
    {
      "cell_type": "code",
      "execution_count": 23,
      "metadata": {
        "colab": {
          "base_uri": "https://localhost:8080/"
        },
        "id": "p-MCBeYZEMEs",
        "outputId": "3831052a-d671-460d-b853-174c0b2ca0a7"
      },
      "outputs": [
        {
          "output_type": "stream",
          "name": "stdout",
          "text": [
            "Classes:  [ 0  1  2  3  4  5  6  7  8  9 10 11 12 13 14 15 16 17 18 19 20 21]\n",
            "---------------Decision Tree Red Best-------------\n",
            "Accuracy Score:  0.8458333333333333\n",
            "Weighted-F1: 0.842216234536807\n",
            "--------------------------------------------------------\n",
            "              precision    recall  f1-score   support\n",
            "\n",
            "           0       0.00      0.00      0.00         1\n",
            "           1       1.00      1.00      1.00        10\n",
            "           2       0.91      0.83      0.87        12\n",
            "           3       0.89      0.93      0.91       314\n",
            "           4       0.43      0.38      0.40         8\n",
            "           5       0.81      0.84      0.83        83\n",
            "           6       0.94      0.96      0.95        52\n",
            "           7       0.88      0.89      0.89       122\n",
            "           8       0.58      0.54      0.56        70\n",
            "           9       0.82      0.81      0.81       103\n",
            "          10       0.82      0.78      0.80        85\n",
            "          11       0.00      0.00      0.00         6\n",
            "          12       0.67      0.62      0.64        26\n",
            "          13       0.50      1.00      0.67         1\n",
            "          14       1.00      1.00      1.00        78\n",
            "          15       0.50      0.30      0.37        20\n",
            "          16       0.88      0.90      0.89        80\n",
            "          17       0.88      0.84      0.86        58\n",
            "          18       0.73      0.73      0.73        15\n",
            "          19       0.96      0.96      0.96        25\n",
            "          20       0.67      0.67      0.67         3\n",
            "          21       0.81      0.93      0.87        28\n",
            "\n",
            "    accuracy                           0.85      1200\n",
            "   macro avg       0.71      0.72      0.71      1200\n",
            "weighted avg       0.84      0.85      0.84      1200\n",
            "\n"
          ]
        }
      ],
      "source": [
        "pipe = gtc_Model_grid.best_estimator_\n",
        "dtc_model = pipe\n",
        "clf = dtc_model.fit(X_train_red, y_train_red)\n",
        "\n",
        "pred_labels = dtc_model.predict(X_test_red)\n",
        "\n",
        "print('Classes: ', clf.classes_) \n",
        "# print('Class Priors: ',clf.class_prior_)\n",
        "\n",
        "print('---------------Decision Tree Red Best-------------')\n",
        "score = dtc_model.score(X_test_red, y_test_red)\n",
        "print('Accuracy Score: ', score)\n",
        "print(f\"Weighted-F1: {f1_score(y_test_red, pred_labels, average='weighted')}\")\n",
        "print('--------------------------------------------------------')\n",
        "\n",
        "print(classification_report(y_test_red, pred_labels))"
      ]
    },
    {
      "cell_type": "markdown",
      "metadata": {
        "id": "QGdIgMbY-pu9"
      },
      "source": [
        "Even after removing some features the modle is doing similar or better than to one with all features.\n",
        "So will be using this reduced feature for the future clasification"
      ]
    },
    {
      "cell_type": "markdown",
      "metadata": {
        "id": "JZ8kKW06das_"
      },
      "source": [
        "##K Nearest Neighbour"
      ]
    },
    {
      "cell_type": "code",
      "execution_count": 24,
      "metadata": {
        "id": "RA3usHnkDed6"
      },
      "outputs": [],
      "source": [
        "knn_pipe = Pipeline(steps=[('std_slc', std_slc),\n",
        "                       ('knn', KNeighborsClassifier())])"
      ]
    },
    {
      "cell_type": "code",
      "execution_count": 25,
      "metadata": {
        "colab": {
          "base_uri": "https://localhost:8080/"
        },
        "id": "FLIqFTHLDYMK",
        "outputId": "e1878b8d-bade-4407-98a5-fae7997a607b"
      },
      "outputs": [
        {
          "output_type": "stream",
          "name": "stdout",
          "text": [
            "Classes:  [ 0  1  2  3  4  5  6  7  8  9 10 11 12 13 14 15 16 17 18 19 20 21]\n",
            "------------------------KNN Red-------------------------\n",
            "Accuracy Score:  0.7258333333333333\n",
            "Weighted-F1: 0.7118830351437504\n",
            "--------------------------------------------------------\n",
            "              precision    recall  f1-score   support\n",
            "\n",
            "           0       0.00      0.00      0.00         1\n",
            "           1       1.00      1.00      1.00        10\n",
            "           2       0.77      0.83      0.80        12\n",
            "           3       0.83      0.89      0.86       314\n",
            "           4       0.62      0.62      0.62         8\n",
            "           5       0.79      0.80      0.79        83\n",
            "           6       0.96      0.98      0.97        52\n",
            "           7       0.68      0.71      0.70       122\n",
            "           8       0.51      0.61      0.55        70\n",
            "           9       0.55      0.57      0.56       103\n",
            "          10       0.57      0.47      0.52        85\n",
            "          11       0.25      0.17      0.20         6\n",
            "          12       0.17      0.08      0.11        26\n",
            "          13       0.50      1.00      0.67         1\n",
            "          14       0.72      0.94      0.82        78\n",
            "          15       0.43      0.15      0.22        20\n",
            "          16       0.71      0.72      0.72        80\n",
            "          17       0.80      0.55      0.65        58\n",
            "          18       0.00      0.00      0.00        15\n",
            "          19       0.96      1.00      0.98        25\n",
            "          20       0.00      0.00      0.00         3\n",
            "          21       0.93      0.89      0.91        28\n",
            "\n",
            "    accuracy                           0.73      1200\n",
            "   macro avg       0.58      0.59      0.57      1200\n",
            "weighted avg       0.71      0.73      0.71      1200\n",
            "\n"
          ]
        },
        {
          "output_type": "stream",
          "name": "stderr",
          "text": [
            "/usr/local/lib/python3.7/dist-packages/sklearn/metrics/_classification.py:1318: UndefinedMetricWarning: Precision and F-score are ill-defined and being set to 0.0 in labels with no predicted samples. Use `zero_division` parameter to control this behavior.\n",
            "  _warn_prf(average, modifier, msg_start, len(result))\n",
            "/usr/local/lib/python3.7/dist-packages/sklearn/metrics/_classification.py:1318: UndefinedMetricWarning: Precision and F-score are ill-defined and being set to 0.0 in labels with no predicted samples. Use `zero_division` parameter to control this behavior.\n",
            "  _warn_prf(average, modifier, msg_start, len(result))\n",
            "/usr/local/lib/python3.7/dist-packages/sklearn/metrics/_classification.py:1318: UndefinedMetricWarning: Precision and F-score are ill-defined and being set to 0.0 in labels with no predicted samples. Use `zero_division` parameter to control this behavior.\n",
            "  _warn_prf(average, modifier, msg_start, len(result))\n"
          ]
        }
      ],
      "source": [
        "clf = knn_pipe.fit(X_train_red, y_train_red)\n",
        "\n",
        "pred_labels = knn_pipe.predict(X_test_red)\n",
        "\n",
        "print('Classes: ', clf.classes_) \n",
        "\n",
        "print('------------------------KNN Red-------------------------')\n",
        "score = knn_pipe.score(X_test_red, y_test_red)\n",
        "print('Accuracy Score: ', score)\n",
        "print(f\"Weighted-F1: {f1_score(y_test_red, pred_labels, average='weighted')}\")\n",
        "print('--------------------------------------------------------')\n",
        "\n",
        "print(classification_report(y_test_red, pred_labels))"
      ]
    },
    {
      "cell_type": "code",
      "execution_count": 26,
      "metadata": {
        "colab": {
          "base_uri": "https://localhost:8080/"
        },
        "id": "jKL_SXW5DYI3",
        "outputId": "3ba99ed3-6793-4765-c6f8-050f3adeb0fb"
      },
      "outputs": [
        {
          "output_type": "execute_result",
          "data": {
            "text/plain": [
              "{'knn': KNeighborsClassifier(),\n",
              " 'knn__algorithm': 'auto',\n",
              " 'knn__leaf_size': 30,\n",
              " 'knn__metric': 'minkowski',\n",
              " 'knn__metric_params': None,\n",
              " 'knn__n_jobs': None,\n",
              " 'knn__n_neighbors': 5,\n",
              " 'knn__p': 2,\n",
              " 'knn__weights': 'uniform',\n",
              " 'memory': None,\n",
              " 'std_slc': StandardScaler(),\n",
              " 'std_slc__copy': True,\n",
              " 'std_slc__with_mean': True,\n",
              " 'std_slc__with_std': True,\n",
              " 'steps': [('std_slc', StandardScaler()), ('knn', KNeighborsClassifier())],\n",
              " 'verbose': False}"
            ]
          },
          "metadata": {},
          "execution_count": 26
        }
      ],
      "source": [
        "knn_pipe.get_params()"
      ]
    },
    {
      "cell_type": "code",
      "execution_count": 27,
      "metadata": {
        "id": "VK401hr5E7X_"
      },
      "outputs": [],
      "source": [
        "param_grid_knn = [{\n",
        "    'knn__leaf_size': list(range(1, 15)),\n",
        "    'knn__n_neighbors': list(range(1, 9)),\n",
        "    'knn__p': [1, 2],\n",
        "}]"
      ]
    },
    {
      "cell_type": "code",
      "execution_count": 28,
      "metadata": {
        "colab": {
          "base_uri": "https://localhost:8080/"
        },
        "id": "0F0KFGUaDYGa",
        "outputId": "751dd6f8-217c-48ec-9eb6-584fe130e2bd"
      },
      "outputs": [
        {
          "output_type": "stream",
          "name": "stdout",
          "text": [
            "Fitting 10 folds for each of 224 candidates, totalling 2240 fits\n"
          ]
        },
        {
          "output_type": "stream",
          "name": "stderr",
          "text": [
            "/usr/local/lib/python3.7/dist-packages/sklearn/model_selection/_split.py:680: UserWarning: The least populated class in y has only 3 members, which is less than n_splits=10.\n",
            "  UserWarning,\n"
          ]
        },
        {
          "output_type": "stream",
          "name": "stdout",
          "text": [
            "Pipeline(steps=[('std_slc', StandardScaler()),\n",
            "                ('knn', KNeighborsClassifier(leaf_size=1, p=1))])\n",
            "Best Score: 0.7391830447284395\n"
          ]
        }
      ],
      "source": [
        "knnModel_grid = GridSearchCV(estimator=knn_pipe, param_grid=param_grid_knn, verbose=1, cv=10, n_jobs=-1, scoring='f1_weighted')\n",
        "knnModel_grid.fit(X_train_red, y_train_red)\n",
        "print(knnModel_grid.best_estimator_)\n",
        "print(f'Best Score: {knnModel_grid.best_score_}')"
      ]
    },
    {
      "cell_type": "code",
      "execution_count": 29,
      "metadata": {
        "colab": {
          "base_uri": "https://localhost:8080/"
        },
        "id": "bqVkx6eFDYDn",
        "outputId": "23d29287-4f72-4004-b90c-526a44abe327"
      },
      "outputs": [
        {
          "output_type": "stream",
          "name": "stdout",
          "text": [
            "Classes:  [ 0  1  2  3  4  5  6  7  8  9 10 11 12 13 14 15 16 17 18 19 20 21]\n",
            "---------------------KNN Red Best-----------------------\n",
            "Accuracy Score:  0.7533333333333333\n",
            "Weighted-F1: 0.741115320477189\n",
            "--------------------------------------------------------\n",
            "              precision    recall  f1-score   support\n",
            "\n",
            "           0       0.00      0.00      0.00         1\n",
            "           1       1.00      1.00      1.00        10\n",
            "           2       0.91      0.83      0.87        12\n",
            "           3       0.84      0.89      0.87       314\n",
            "           4       0.71      0.62      0.67         8\n",
            "           5       0.80      0.81      0.80        83\n",
            "           6       0.96      0.98      0.97        52\n",
            "           7       0.75      0.75      0.75       122\n",
            "           8       0.57      0.71      0.64        70\n",
            "           9       0.56      0.61      0.59       103\n",
            "          10       0.58      0.53      0.56        85\n",
            "          11       0.40      0.33      0.36         6\n",
            "          12       0.38      0.19      0.26        26\n",
            "          13       0.50      1.00      0.67         1\n",
            "          14       0.77      0.99      0.87        78\n",
            "          15       0.43      0.15      0.22        20\n",
            "          16       0.73      0.79      0.76        80\n",
            "          17       0.83      0.50      0.62        58\n",
            "          18       0.50      0.07      0.12        15\n",
            "          19       0.96      1.00      0.98        25\n",
            "          20       0.00      0.00      0.00         3\n",
            "          21       0.96      0.89      0.93        28\n",
            "\n",
            "    accuracy                           0.75      1200\n",
            "   macro avg       0.64      0.62      0.61      1200\n",
            "weighted avg       0.74      0.75      0.74      1200\n",
            "\n"
          ]
        },
        {
          "output_type": "stream",
          "name": "stderr",
          "text": [
            "/usr/local/lib/python3.7/dist-packages/sklearn/metrics/_classification.py:1318: UndefinedMetricWarning: Precision and F-score are ill-defined and being set to 0.0 in labels with no predicted samples. Use `zero_division` parameter to control this behavior.\n",
            "  _warn_prf(average, modifier, msg_start, len(result))\n",
            "/usr/local/lib/python3.7/dist-packages/sklearn/metrics/_classification.py:1318: UndefinedMetricWarning: Precision and F-score are ill-defined and being set to 0.0 in labels with no predicted samples. Use `zero_division` parameter to control this behavior.\n",
            "  _warn_prf(average, modifier, msg_start, len(result))\n",
            "/usr/local/lib/python3.7/dist-packages/sklearn/metrics/_classification.py:1318: UndefinedMetricWarning: Precision and F-score are ill-defined and being set to 0.0 in labels with no predicted samples. Use `zero_division` parameter to control this behavior.\n",
            "  _warn_prf(average, modifier, msg_start, len(result))\n"
          ]
        }
      ],
      "source": [
        "knn_pipe = knnModel_grid.best_estimator_\n",
        "clf = knn_pipe.fit(X_train_red, y_train_red)\n",
        "\n",
        "pred_labels = knn_pipe.predict(X_test_red)\n",
        "\n",
        "print('Classes: ', clf.classes_) \n",
        "\n",
        "print('---------------------KNN Red Best-----------------------')\n",
        "score = knn_pipe.score(X_test_red, y_test_red)\n",
        "print('Accuracy Score: ', score)\n",
        "print(f\"Weighted-F1: {f1_score(y_test_red, pred_labels, average='weighted')}\")\n",
        "print('--------------------------------------------------------')\n",
        "\n",
        "print(classification_report(y_test_red, pred_labels))"
      ]
    },
    {
      "cell_type": "markdown",
      "metadata": {
        "id": "NKHHnCr9MG3L"
      },
      "source": [
        "##Logistic Regression"
      ]
    },
    {
      "cell_type": "code",
      "execution_count": 30,
      "metadata": {
        "id": "8hHV3N-xMJ0O"
      },
      "outputs": [],
      "source": [
        "lr_pipe = Pipeline(steps=[('std_slc', std_slc),\n",
        "                       ('log_reg', LogisticRegression())])"
      ]
    },
    {
      "cell_type": "code",
      "execution_count": 31,
      "metadata": {
        "colab": {
          "base_uri": "https://localhost:8080/"
        },
        "id": "4sf1aP2MMKQT",
        "outputId": "74e166b7-701a-4cae-ce90-b8b78e5d66c0"
      },
      "outputs": [
        {
          "output_type": "stream",
          "name": "stdout",
          "text": [
            "Classes:  [ 0  1  2  3  4  5  6  7  8  9 10 11 12 13 14 15 16 17 18 19 20 21]\n",
            "----------------Logistic Regression Red-----------------\n",
            "Accuracy Score:  0.6508333333333334\n",
            "Weighted-F1: 0.6057615510973148\n",
            "--------------------------------------------------------\n",
            "              precision    recall  f1-score   support\n",
            "\n",
            "           0       0.00      0.00      0.00         1\n",
            "           1       0.71      1.00      0.83        10\n",
            "           2       0.00      0.00      0.00        12\n",
            "           3       0.74      0.92      0.82       314\n",
            "           4       0.00      0.00      0.00         8\n",
            "           5       0.81      0.82      0.81        83\n",
            "           6       0.58      1.00      0.73        52\n",
            "           7       0.71      0.73      0.72       122\n",
            "           8       0.33      0.10      0.15        70\n",
            "           9       0.46      0.32      0.38       103\n",
            "          10       0.49      0.52      0.51        85\n",
            "          11       0.00      0.00      0.00         6\n",
            "          12       0.00      0.00      0.00        26\n",
            "          13       0.00      0.00      0.00         1\n",
            "          14       0.53      0.73      0.61        78\n",
            "          15       0.00      0.00      0.00        20\n",
            "          16       0.47      0.80      0.60        80\n",
            "          17       0.85      0.38      0.52        58\n",
            "          18       0.00      0.00      0.00        15\n",
            "          19       0.96      1.00      0.98        25\n",
            "          20       0.00      0.00      0.00         3\n",
            "          21       0.95      0.75      0.84        28\n",
            "\n",
            "    accuracy                           0.65      1200\n",
            "   macro avg       0.39      0.41      0.39      1200\n",
            "weighted avg       0.60      0.65      0.61      1200\n",
            "\n"
          ]
        },
        {
          "output_type": "stream",
          "name": "stderr",
          "text": [
            "/usr/local/lib/python3.7/dist-packages/sklearn/linear_model/_logistic.py:818: ConvergenceWarning: lbfgs failed to converge (status=1):\n",
            "STOP: TOTAL NO. of ITERATIONS REACHED LIMIT.\n",
            "\n",
            "Increase the number of iterations (max_iter) or scale the data as shown in:\n",
            "    https://scikit-learn.org/stable/modules/preprocessing.html\n",
            "Please also refer to the documentation for alternative solver options:\n",
            "    https://scikit-learn.org/stable/modules/linear_model.html#logistic-regression\n",
            "  extra_warning_msg=_LOGISTIC_SOLVER_CONVERGENCE_MSG,\n",
            "/usr/local/lib/python3.7/dist-packages/sklearn/metrics/_classification.py:1318: UndefinedMetricWarning: Precision and F-score are ill-defined and being set to 0.0 in labels with no predicted samples. Use `zero_division` parameter to control this behavior.\n",
            "  _warn_prf(average, modifier, msg_start, len(result))\n",
            "/usr/local/lib/python3.7/dist-packages/sklearn/metrics/_classification.py:1318: UndefinedMetricWarning: Precision and F-score are ill-defined and being set to 0.0 in labels with no predicted samples. Use `zero_division` parameter to control this behavior.\n",
            "  _warn_prf(average, modifier, msg_start, len(result))\n",
            "/usr/local/lib/python3.7/dist-packages/sklearn/metrics/_classification.py:1318: UndefinedMetricWarning: Precision and F-score are ill-defined and being set to 0.0 in labels with no predicted samples. Use `zero_division` parameter to control this behavior.\n",
            "  _warn_prf(average, modifier, msg_start, len(result))\n"
          ]
        }
      ],
      "source": [
        "clf = lr_pipe.fit(X_train_red, y_train_red)\n",
        "\n",
        "pred_labels = lr_pipe.predict(X_test_red)\n",
        "\n",
        "print('Classes: ', clf.classes_) \n",
        "\n",
        "print('----------------Logistic Regression Red-----------------')\n",
        "score = lr_pipe.score(X_test_red, y_test_red)\n",
        "print('Accuracy Score: ', score)\n",
        "print(f\"Weighted-F1: {f1_score(y_test_red, pred_labels, average='weighted')}\")\n",
        "print('--------------------------------------------------------')\n",
        "\n",
        "print(classification_report(y_test_red, pred_labels))"
      ]
    },
    {
      "cell_type": "code",
      "execution_count": 32,
      "metadata": {
        "colab": {
          "base_uri": "https://localhost:8080/"
        },
        "id": "y8HJ2yoqMKNc",
        "outputId": "ce814550-f896-49ac-a3bd-bf679e2f07e9"
      },
      "outputs": [
        {
          "output_type": "execute_result",
          "data": {
            "text/plain": [
              "{'log_reg': LogisticRegression(),\n",
              " 'log_reg__C': 1.0,\n",
              " 'log_reg__class_weight': None,\n",
              " 'log_reg__dual': False,\n",
              " 'log_reg__fit_intercept': True,\n",
              " 'log_reg__intercept_scaling': 1,\n",
              " 'log_reg__l1_ratio': None,\n",
              " 'log_reg__max_iter': 100,\n",
              " 'log_reg__multi_class': 'auto',\n",
              " 'log_reg__n_jobs': None,\n",
              " 'log_reg__penalty': 'l2',\n",
              " 'log_reg__random_state': None,\n",
              " 'log_reg__solver': 'lbfgs',\n",
              " 'log_reg__tol': 0.0001,\n",
              " 'log_reg__verbose': 0,\n",
              " 'log_reg__warm_start': False,\n",
              " 'memory': None,\n",
              " 'std_slc': StandardScaler(),\n",
              " 'std_slc__copy': True,\n",
              " 'std_slc__with_mean': True,\n",
              " 'std_slc__with_std': True,\n",
              " 'steps': [('std_slc', StandardScaler()), ('log_reg', LogisticRegression())],\n",
              " 'verbose': False}"
            ]
          },
          "metadata": {},
          "execution_count": 32
        }
      ],
      "source": [
        "lr_pipe.get_params()"
      ]
    },
    {
      "cell_type": "code",
      "execution_count": 33,
      "metadata": {
        "id": "ddmNBkEeMKKT"
      },
      "outputs": [],
      "source": [
        "param_lr_grid = {\n",
        "    'log_reg__penalty' : ['l1','l2'], \n",
        "    'log_reg__C'       : np.logspace(0,6,7),\n",
        "    'log_reg__solver'  : ['newton-cg', 'lbfgs', 'liblinear'],\n",
        "}"
      ]
    },
    {
      "cell_type": "code",
      "execution_count": 34,
      "metadata": {
        "colab": {
          "base_uri": "https://localhost:8080/"
        },
        "id": "--PCo16EMKHM",
        "outputId": "6cda19c7-b282-459b-beac-21bd55c25b7d"
      },
      "outputs": [
        {
          "output_type": "stream",
          "name": "stderr",
          "text": [
            "/usr/local/lib/python3.7/dist-packages/sklearn/model_selection/_split.py:680: UserWarning: The least populated class in y has only 3 members, which is less than n_splits=10.\n",
            "  UserWarning,\n"
          ]
        },
        {
          "output_type": "stream",
          "name": "stdout",
          "text": [
            "Fitting 10 folds for each of 42 candidates, totalling 420 fits\n"
          ]
        },
        {
          "output_type": "stream",
          "name": "stderr",
          "text": [
            "/usr/local/lib/python3.7/dist-packages/sklearn/model_selection/_validation.py:372: FitFailedWarning: \n",
            "140 fits failed out of a total of 420.\n",
            "The score on these train-test partitions for these parameters will be set to nan.\n",
            "If these failures are not expected, you can try to debug them by setting error_score='raise'.\n",
            "\n",
            "Below are more details about the failures:\n",
            "--------------------------------------------------------------------------------\n",
            "70 fits failed with the following error:\n",
            "Traceback (most recent call last):\n",
            "  File \"/usr/local/lib/python3.7/dist-packages/sklearn/model_selection/_validation.py\", line 680, in _fit_and_score\n",
            "    estimator.fit(X_train, y_train, **fit_params)\n",
            "  File \"/usr/local/lib/python3.7/dist-packages/sklearn/pipeline.py\", line 394, in fit\n",
            "    self._final_estimator.fit(Xt, y, **fit_params_last_step)\n",
            "  File \"/usr/local/lib/python3.7/dist-packages/sklearn/linear_model/_logistic.py\", line 1461, in fit\n",
            "    solver = _check_solver(self.solver, self.penalty, self.dual)\n",
            "  File \"/usr/local/lib/python3.7/dist-packages/sklearn/linear_model/_logistic.py\", line 449, in _check_solver\n",
            "    % (solver, penalty)\n",
            "ValueError: Solver newton-cg supports only 'l2' or 'none' penalties, got l1 penalty.\n",
            "\n",
            "--------------------------------------------------------------------------------\n",
            "70 fits failed with the following error:\n",
            "Traceback (most recent call last):\n",
            "  File \"/usr/local/lib/python3.7/dist-packages/sklearn/model_selection/_validation.py\", line 680, in _fit_and_score\n",
            "    estimator.fit(X_train, y_train, **fit_params)\n",
            "  File \"/usr/local/lib/python3.7/dist-packages/sklearn/pipeline.py\", line 394, in fit\n",
            "    self._final_estimator.fit(Xt, y, **fit_params_last_step)\n",
            "  File \"/usr/local/lib/python3.7/dist-packages/sklearn/linear_model/_logistic.py\", line 1461, in fit\n",
            "    solver = _check_solver(self.solver, self.penalty, self.dual)\n",
            "  File \"/usr/local/lib/python3.7/dist-packages/sklearn/linear_model/_logistic.py\", line 449, in _check_solver\n",
            "    % (solver, penalty)\n",
            "ValueError: Solver lbfgs supports only 'l2' or 'none' penalties, got l1 penalty.\n",
            "\n",
            "  warnings.warn(some_fits_failed_message, FitFailedWarning)\n",
            "/usr/local/lib/python3.7/dist-packages/sklearn/model_selection/_search.py:972: UserWarning: One or more of the test scores are non-finite: [       nan        nan 0.5690414  0.59296603 0.59328255 0.52482345\n",
            "        nan        nan 0.60126998 0.6346628  0.63203864 0.57059463\n",
            "        nan        nan 0.60724618 0.66493658 0.65405071 0.58896878\n",
            "        nan        nan 0.60755876 0.67409443 0.66024332 0.60308169\n",
            "        nan        nan 0.60781386 0.67936907 0.6596926  0.60933617\n",
            "        nan        nan 0.60867906 0.68313348 0.6593216  0.61135911\n",
            "        nan        nan 0.60724652 0.68220598 0.66032463 0.61094609]\n",
            "  category=UserWarning,\n"
          ]
        },
        {
          "output_type": "stream",
          "name": "stdout",
          "text": [
            "Pipeline(steps=[('std_slc', StandardScaler()),\n",
            "                ('log_reg',\n",
            "                 LogisticRegression(C=100000.0, solver='newton-cg'))])\n",
            "Best Score: 0.6831334792471521\n"
          ]
        },
        {
          "output_type": "stream",
          "name": "stderr",
          "text": [
            "/usr/local/lib/python3.7/dist-packages/sklearn/utils/optimize.py:212: ConvergenceWarning: newton-cg failed to converge. Increase the number of iterations.\n",
            "  ConvergenceWarning,\n"
          ]
        }
      ],
      "source": [
        "lrModel_grid = GridSearchCV(estimator=lr_pipe, param_grid=param_lr_grid, verbose=1, cv=10, n_jobs=-1, scoring='f1_weighted')\n",
        "lrModel_grid.fit(X_train_red, y_train_red)\n",
        "print(lrModel_grid.best_estimator_)\n",
        "print(f'Best Score: {lrModel_grid.best_score_}')"
      ]
    },
    {
      "cell_type": "code",
      "execution_count": 35,
      "metadata": {
        "colab": {
          "base_uri": "https://localhost:8080/"
        },
        "id": "JEapeMlqMJ5d",
        "outputId": "14ede5da-aa83-4a7a-d754-aa29335852d0"
      },
      "outputs": [
        {
          "output_type": "stream",
          "name": "stdout",
          "text": [
            "Classes:  [ 0  1  2  3  4  5  6  7  8  9 10 11 12 13 14 15 16 17 18 19 20 21]\n",
            "--------------Logistic Regression Red Best--------------\n",
            "Accuracy Score:  0.72\n",
            "Weighted-F1: 0.6918004367784854\n",
            "--------------------------------------------------------\n",
            "              precision    recall  f1-score   support\n",
            "\n",
            "           0       0.00      0.00      0.00         1\n",
            "           1       0.77      1.00      0.87        10\n",
            "           2       0.91      0.83      0.87        12\n",
            "           3       0.82      0.92      0.87       314\n",
            "           4       0.00      0.00      0.00         8\n",
            "           5       0.86      0.80      0.82        83\n",
            "           6       0.75      1.00      0.86        52\n",
            "           7       0.82      0.80      0.81       122\n",
            "           8       0.48      0.34      0.40        70\n",
            "           9       0.49      0.32      0.39       103\n",
            "          10       0.52      0.62      0.57        85\n",
            "          11       0.00      0.00      0.00         6\n",
            "          12       0.00      0.00      0.00        26\n",
            "          13       0.00      0.00      0.00         1\n",
            "          14       0.67      0.92      0.77        78\n",
            "          15       0.00      0.00      0.00        20\n",
            "          16       0.56      0.80      0.66        80\n",
            "          17       0.84      0.72      0.78        58\n",
            "          18       0.23      0.20      0.21        15\n",
            "          19       0.96      1.00      0.98        25\n",
            "          20       0.00      0.00      0.00         3\n",
            "          21       0.92      0.79      0.85        28\n",
            "\n",
            "    accuracy                           0.72      1200\n",
            "   macro avg       0.48      0.50      0.49      1200\n",
            "weighted avg       0.68      0.72      0.69      1200\n",
            "\n"
          ]
        },
        {
          "output_type": "stream",
          "name": "stderr",
          "text": [
            "/usr/local/lib/python3.7/dist-packages/sklearn/utils/optimize.py:212: ConvergenceWarning: newton-cg failed to converge. Increase the number of iterations.\n",
            "  ConvergenceWarning,\n",
            "/usr/local/lib/python3.7/dist-packages/sklearn/metrics/_classification.py:1318: UndefinedMetricWarning: Precision and F-score are ill-defined and being set to 0.0 in labels with no predicted samples. Use `zero_division` parameter to control this behavior.\n",
            "  _warn_prf(average, modifier, msg_start, len(result))\n",
            "/usr/local/lib/python3.7/dist-packages/sklearn/metrics/_classification.py:1318: UndefinedMetricWarning: Precision and F-score are ill-defined and being set to 0.0 in labels with no predicted samples. Use `zero_division` parameter to control this behavior.\n",
            "  _warn_prf(average, modifier, msg_start, len(result))\n",
            "/usr/local/lib/python3.7/dist-packages/sklearn/metrics/_classification.py:1318: UndefinedMetricWarning: Precision and F-score are ill-defined and being set to 0.0 in labels with no predicted samples. Use `zero_division` parameter to control this behavior.\n",
            "  _warn_prf(average, modifier, msg_start, len(result))\n"
          ]
        }
      ],
      "source": [
        "lr_pipe = lrModel_grid.best_estimator_ \n",
        "clf = lr_pipe.fit(X_train_red, y_train_red)\n",
        "\n",
        "pred_labels = lr_pipe.predict(X_test_red)\n",
        "\n",
        "print('Classes: ', clf.classes_) \n",
        "\n",
        "print('--------------Logistic Regression Red Best--------------')\n",
        "score = lr_pipe.score(X_test_red, y_test_red)\n",
        "print('Accuracy Score: ', score)\n",
        "print(f\"Weighted-F1: {f1_score(y_test_red, pred_labels, average='weighted')}\")\n",
        "print('--------------------------------------------------------')\n",
        "\n",
        "print(classification_report(y_test_red, pred_labels))"
      ]
    },
    {
      "cell_type": "markdown",
      "metadata": {
        "id": "RWIDxykzLmNN"
      },
      "source": [
        "##Support Vector Machine"
      ]
    },
    {
      "cell_type": "code",
      "execution_count": 36,
      "metadata": {
        "id": "8ZmG5vuSLqBH"
      },
      "outputs": [],
      "source": [
        "svm_pipe = Pipeline(steps=[('std_slc', std_slc),\n",
        "                       ('svm_reg', SVC())])"
      ]
    },
    {
      "cell_type": "code",
      "execution_count": 37,
      "metadata": {
        "colab": {
          "base_uri": "https://localhost:8080/"
        },
        "id": "zq-65w34L5rJ",
        "outputId": "d88a4c35-ecfc-47a4-8e9c-3cb3601f31d2"
      },
      "outputs": [
        {
          "output_type": "stream",
          "name": "stdout",
          "text": [
            "Classes:  [ 0  1  2  3  4  5  6  7  8  9 10 11 12 13 14 15 16 17 18 19 20 21]\n",
            "-------------------------SVM Red------------------------\n",
            "Accuracy Score:  0.6483333333333333\n",
            "Weighted-F1: 0.6078028950971341\n",
            "--------------------------------------------------------\n",
            "              precision    recall  f1-score   support\n",
            "\n",
            "           0       0.00      0.00      0.00         1\n",
            "           1       0.71      1.00      0.83        10\n",
            "           2       0.00      0.00      0.00        12\n",
            "           3       0.78      0.92      0.85       314\n",
            "           4       0.00      0.00      0.00         8\n",
            "           5       0.79      0.81      0.80        83\n",
            "           6       0.60      1.00      0.75        52\n",
            "           7       0.60      0.62      0.61       122\n",
            "           8       0.38      0.39      0.38        70\n",
            "           9       0.51      0.25      0.34       103\n",
            "          10       0.44      0.59      0.51        85\n",
            "          11       0.00      0.00      0.00         6\n",
            "          12       0.00      0.00      0.00        26\n",
            "          13       0.00      0.00      0.00         1\n",
            "          14       0.53      0.92      0.68        78\n",
            "          15       0.00      0.00      0.00        20\n",
            "          16       0.60      0.61      0.61        80\n",
            "          17       0.82      0.24      0.37        58\n",
            "          18       0.00      0.00      0.00        15\n",
            "          19       0.96      1.00      0.98        25\n",
            "          20       0.00      0.00      0.00         3\n",
            "          21       1.00      0.75      0.86        28\n",
            "\n",
            "    accuracy                           0.65      1200\n",
            "   macro avg       0.40      0.41      0.39      1200\n",
            "weighted avg       0.61      0.65      0.61      1200\n",
            "\n"
          ]
        },
        {
          "output_type": "stream",
          "name": "stderr",
          "text": [
            "/usr/local/lib/python3.7/dist-packages/sklearn/metrics/_classification.py:1318: UndefinedMetricWarning: Precision and F-score are ill-defined and being set to 0.0 in labels with no predicted samples. Use `zero_division` parameter to control this behavior.\n",
            "  _warn_prf(average, modifier, msg_start, len(result))\n",
            "/usr/local/lib/python3.7/dist-packages/sklearn/metrics/_classification.py:1318: UndefinedMetricWarning: Precision and F-score are ill-defined and being set to 0.0 in labels with no predicted samples. Use `zero_division` parameter to control this behavior.\n",
            "  _warn_prf(average, modifier, msg_start, len(result))\n",
            "/usr/local/lib/python3.7/dist-packages/sklearn/metrics/_classification.py:1318: UndefinedMetricWarning: Precision and F-score are ill-defined and being set to 0.0 in labels with no predicted samples. Use `zero_division` parameter to control this behavior.\n",
            "  _warn_prf(average, modifier, msg_start, len(result))\n"
          ]
        }
      ],
      "source": [
        "clf = svm_pipe.fit(X_train_red, y_train_red)\n",
        "\n",
        "pred_labels = svm_pipe.predict(X_test_red)\n",
        "\n",
        "print('Classes: ', clf.classes_) \n",
        "\n",
        "print('-------------------------SVM Red------------------------')\n",
        "score = svm_pipe.score(X_test_red, y_test_red)\n",
        "print('Accuracy Score: ', score)\n",
        "print(f\"Weighted-F1: {f1_score(y_test_red, pred_labels, average='weighted')}\")\n",
        "print('--------------------------------------------------------')\n",
        "\n",
        "print(classification_report(y_test_red, pred_labels))"
      ]
    },
    {
      "cell_type": "code",
      "execution_count": 38,
      "metadata": {
        "colab": {
          "base_uri": "https://localhost:8080/"
        },
        "id": "H614Eot2s9l_",
        "outputId": "9a7c12e4-294b-4af8-d8a3-75dcb72b16e8"
      },
      "outputs": [
        {
          "output_type": "execute_result",
          "data": {
            "text/plain": [
              "{'memory': None,\n",
              " 'std_slc': StandardScaler(),\n",
              " 'std_slc__copy': True,\n",
              " 'std_slc__with_mean': True,\n",
              " 'std_slc__with_std': True,\n",
              " 'steps': [('std_slc', StandardScaler()), ('svm_reg', SVC())],\n",
              " 'svm_reg': SVC(),\n",
              " 'svm_reg__C': 1.0,\n",
              " 'svm_reg__break_ties': False,\n",
              " 'svm_reg__cache_size': 200,\n",
              " 'svm_reg__class_weight': None,\n",
              " 'svm_reg__coef0': 0.0,\n",
              " 'svm_reg__decision_function_shape': 'ovr',\n",
              " 'svm_reg__degree': 3,\n",
              " 'svm_reg__gamma': 'scale',\n",
              " 'svm_reg__kernel': 'rbf',\n",
              " 'svm_reg__max_iter': -1,\n",
              " 'svm_reg__probability': False,\n",
              " 'svm_reg__random_state': None,\n",
              " 'svm_reg__shrinking': True,\n",
              " 'svm_reg__tol': 0.001,\n",
              " 'svm_reg__verbose': False,\n",
              " 'verbose': False}"
            ]
          },
          "metadata": {},
          "execution_count": 38
        }
      ],
      "source": [
        "svm_pipe.get_params()"
      ]
    },
    {
      "cell_type": "code",
      "execution_count": 45,
      "metadata": {
        "id": "taPyTzWZL5nf"
      },
      "outputs": [],
      "source": [
        "svm_param_grid = {'svm_reg__C': [980, 985, 975],\n",
        "              'svm_reg__gamma': [0.65, 0.55, 0.6],\n",
        "              'svm_reg__kernel': ['rbf']}"
      ]
    },
    {
      "cell_type": "code",
      "execution_count": 46,
      "metadata": {
        "colab": {
          "base_uri": "https://localhost:8080/"
        },
        "id": "rGIRW9j6L5kn",
        "outputId": "d503e990-5db6-4038-b178-03af2c264a70"
      },
      "outputs": [
        {
          "output_type": "stream",
          "name": "stdout",
          "text": [
            "Fitting 3 folds for each of 9 candidates, totalling 27 fits\n",
            "Pipeline(steps=[('std_slc', StandardScaler()),\n",
            "                ('svm_reg', SVC(C=980, gamma=0.6))])\n",
            "Best Score: 0.7885412755205561\n"
          ]
        }
      ],
      "source": [
        "svmModel_grid = GridSearchCV(estimator=svm_pipe, param_grid=svm_param_grid, verbose=1, cv=3, n_jobs=-1, scoring='f1_weighted')\n",
        "svmModel_grid.fit(X_train_red, y_train_red)\n",
        "print(svmModel_grid.best_estimator_)\n",
        "print(f'Best Score: {svmModel_grid.best_score_}')"
      ]
    },
    {
      "cell_type": "code",
      "execution_count": 47,
      "metadata": {
        "colab": {
          "base_uri": "https://localhost:8080/"
        },
        "id": "3OhJahQiL5hl",
        "outputId": "afa3ae07-117a-4152-e5fc-7b10c70b6525"
      },
      "outputs": [
        {
          "output_type": "stream",
          "name": "stdout",
          "text": [
            "Classes:  [ 0  1  2  3  4  5  6  7  8  9 10 11 12 13 14 15 16 17 18 19 20 21]\n",
            "-----------------------SVM Red Best---------------------\n",
            "Accuracy Score:  0.8091666666666667\n",
            "Weighted-F1: 0.7978478632170206\n",
            "--------------------------------------------------------\n",
            "              precision    recall  f1-score   support\n",
            "\n",
            "           0       0.00      0.00      0.00         1\n",
            "           1       0.83      1.00      0.91        10\n",
            "           2       0.91      0.83      0.87        12\n",
            "           3       0.83      0.96      0.89       314\n",
            "           4       0.83      0.62      0.71         8\n",
            "           5       0.81      0.82      0.81        83\n",
            "           6       0.96      1.00      0.98        52\n",
            "           7       0.87      0.87      0.87       122\n",
            "           8       0.60      0.54      0.57        70\n",
            "           9       0.70      0.67      0.68       103\n",
            "          10       0.66      0.62      0.64        85\n",
            "          11       0.33      0.33      0.33         6\n",
            "          12       0.59      0.50      0.54        26\n",
            "          13       0.50      1.00      0.67         1\n",
            "          14       0.93      0.97      0.95        78\n",
            "          15       0.00      0.00      0.00        20\n",
            "          16       0.86      0.82      0.84        80\n",
            "          17       0.92      0.83      0.87        58\n",
            "          18       0.56      0.33      0.42        15\n",
            "          19       0.96      1.00      0.98        25\n",
            "          20       0.00      0.00      0.00         3\n",
            "          21       0.92      0.82      0.87        28\n",
            "\n",
            "    accuracy                           0.81      1200\n",
            "   macro avg       0.66      0.66      0.66      1200\n",
            "weighted avg       0.79      0.81      0.80      1200\n",
            "\n"
          ]
        },
        {
          "output_type": "stream",
          "name": "stderr",
          "text": [
            "/usr/local/lib/python3.7/dist-packages/sklearn/metrics/_classification.py:1318: UndefinedMetricWarning: Precision and F-score are ill-defined and being set to 0.0 in labels with no predicted samples. Use `zero_division` parameter to control this behavior.\n",
            "  _warn_prf(average, modifier, msg_start, len(result))\n",
            "/usr/local/lib/python3.7/dist-packages/sklearn/metrics/_classification.py:1318: UndefinedMetricWarning: Precision and F-score are ill-defined and being set to 0.0 in labels with no predicted samples. Use `zero_division` parameter to control this behavior.\n",
            "  _warn_prf(average, modifier, msg_start, len(result))\n",
            "/usr/local/lib/python3.7/dist-packages/sklearn/metrics/_classification.py:1318: UndefinedMetricWarning: Precision and F-score are ill-defined and being set to 0.0 in labels with no predicted samples. Use `zero_division` parameter to control this behavior.\n",
            "  _warn_prf(average, modifier, msg_start, len(result))\n"
          ]
        }
      ],
      "source": [
        "svm_pipe = svmModel_grid.best_estimator_\n",
        "\n",
        "clf = svm_pipe.fit(X_train_red, y_train_red)\n",
        "\n",
        "pred_labels = svm_pipe.predict(X_test_red)\n",
        "\n",
        "print('Classes: ', clf.classes_) \n",
        "\n",
        "print('-----------------------SVM Red Best---------------------')\n",
        "score = svm_pipe.score(X_test_red, y_test_red)\n",
        "print('Accuracy Score: ', score)\n",
        "print(f\"Weighted-F1: {f1_score(y_test_red, pred_labels, average='weighted')}\")\n",
        "print('--------------------------------------------------------')\n",
        "\n",
        "print(classification_report(y_test_red, pred_labels))"
      ]
    },
    {
      "cell_type": "markdown",
      "metadata": {
        "id": "VUeRjOkAiVjw"
      },
      "source": [
        "##Random Forest"
      ]
    },
    {
      "cell_type": "code",
      "execution_count": null,
      "metadata": {
        "id": "j2jdJvzIjZqH"
      },
      "outputs": [],
      "source": [
        "rf_pipe = Pipeline(steps=[('std_slc', std_slc),\n",
        "                       ('ran_forest', RandomForestClassifier())])"
      ]
    },
    {
      "cell_type": "code",
      "execution_count": null,
      "metadata": {
        "colab": {
          "base_uri": "https://localhost:8080/"
        },
        "id": "EBdBh-2ZlJGU",
        "outputId": "8bfdca03-1b8e-44d8-93d0-76ec35841863"
      },
      "outputs": [
        {
          "name": "stdout",
          "output_type": "stream",
          "text": [
            "Parameters currently in use:\n",
            "\n",
            "{'memory': None,\n",
            " 'ran_forest': RandomForestClassifier(),\n",
            " 'ran_forest__bootstrap': True,\n",
            " 'ran_forest__ccp_alpha': 0.0,\n",
            " 'ran_forest__class_weight': None,\n",
            " 'ran_forest__criterion': 'gini',\n",
            " 'ran_forest__max_depth': None,\n",
            " 'ran_forest__max_features': 'auto',\n",
            " 'ran_forest__max_leaf_nodes': None,\n",
            " 'ran_forest__max_samples': None,\n",
            " 'ran_forest__min_impurity_decrease': 0.0,\n",
            " 'ran_forest__min_samples_leaf': 1,\n",
            " 'ran_forest__min_samples_split': 2,\n",
            " 'ran_forest__min_weight_fraction_leaf': 0.0,\n",
            " 'ran_forest__n_estimators': 100,\n",
            " 'ran_forest__n_jobs': None,\n",
            " 'ran_forest__oob_score': False,\n",
            " 'ran_forest__random_state': None,\n",
            " 'ran_forest__verbose': 0,\n",
            " 'ran_forest__warm_start': False,\n",
            " 'std_slc': StandardScaler(),\n",
            " 'std_slc__copy': True,\n",
            " 'std_slc__with_mean': True,\n",
            " 'std_slc__with_std': True,\n",
            " 'steps': [('std_slc', StandardScaler()),\n",
            "           ('ran_forest', RandomForestClassifier())],\n",
            " 'verbose': False}\n"
          ]
        }
      ],
      "source": [
        "print('Parameters currently in use:\\n')\n",
        "pprint(rf_pipe.get_params())"
      ]
    },
    {
      "cell_type": "code",
      "execution_count": null,
      "metadata": {
        "colab": {
          "base_uri": "https://localhost:8080/"
        },
        "id": "kzF3piHXiZWb",
        "outputId": "3834213e-62ff-4eff-be54-3fda84538d2a"
      },
      "outputs": [
        {
          "name": "stdout",
          "output_type": "stream",
          "text": [
            "Classes:  [ 0  1  2  3  4  5  6  7  8  9 10 11 12 13 14 15 16 17 18 19 20 21]\n",
            "--------------------Random Forest Red-------------------\n",
            "Accuracy Score:  0.8258333333333333\n",
            "Weighted-F1: 0.880426883024533\n",
            "--------------------------------------------------------\n",
            "              precision    recall  f1-score   support\n",
            "\n",
            "           0       0.00      0.00      0.00         1\n",
            "           1       1.00      1.00      1.00        10\n",
            "           2       0.83      0.83      0.83        12\n",
            "           3       0.90      0.96      0.93       314\n",
            "           4       0.78      0.88      0.82         8\n",
            "           5       0.85      0.86      0.85        83\n",
            "           6       0.96      1.00      0.98        52\n",
            "           7       0.89      0.93      0.91       122\n",
            "           8       0.74      0.71      0.72        70\n",
            "           9       0.86      0.84      0.85       103\n",
            "          10       0.88      0.84      0.86        85\n",
            "          11       0.50      0.17      0.25         6\n",
            "          12       0.76      0.50      0.60        26\n",
            "          13       1.00      1.00      1.00         1\n",
            "          14       1.00      1.00      1.00        78\n",
            "          15       0.80      0.20      0.32        20\n",
            "          16       0.89      0.94      0.91        80\n",
            "          17       0.90      0.97      0.93        58\n",
            "          18       0.79      1.00      0.88        15\n",
            "          19       0.96      1.00      0.98        25\n",
            "          20       0.00      0.00      0.00         3\n",
            "          21       0.96      0.96      0.96        28\n",
            "\n",
            "    accuracy                           0.89      1200\n",
            "   macro avg       0.78      0.75      0.75      1200\n",
            "weighted avg       0.88      0.89      0.88      1200\n",
            "\n"
          ]
        },
        {
          "name": "stderr",
          "output_type": "stream",
          "text": [
            "/usr/local/lib/python3.7/dist-packages/sklearn/metrics/_classification.py:1318: UndefinedMetricWarning: Precision and F-score are ill-defined and being set to 0.0 in labels with no predicted samples. Use `zero_division` parameter to control this behavior.\n",
            "  _warn_prf(average, modifier, msg_start, len(result))\n",
            "/usr/local/lib/python3.7/dist-packages/sklearn/metrics/_classification.py:1318: UndefinedMetricWarning: Precision and F-score are ill-defined and being set to 0.0 in labels with no predicted samples. Use `zero_division` parameter to control this behavior.\n",
            "  _warn_prf(average, modifier, msg_start, len(result))\n",
            "/usr/local/lib/python3.7/dist-packages/sklearn/metrics/_classification.py:1318: UndefinedMetricWarning: Precision and F-score are ill-defined and being set to 0.0 in labels with no predicted samples. Use `zero_division` parameter to control this behavior.\n",
            "  _warn_prf(average, modifier, msg_start, len(result))\n"
          ]
        }
      ],
      "source": [
        "clf = rf_pipe.fit(X_train_red, y_train_red)\n",
        "\n",
        "pred_labels = rf_pipe.predict(X_test_red)\n",
        "\n",
        "print('Classes: ', clf.classes_) \n",
        "# print('Class Priors: ',clf.class_prior_)\n",
        "\n",
        "print('--------------------Random Forest Red-------------------')\n",
        "score = rf_pipe.score(X_test_red, y_test_red)\n",
        "print('Accuracy Score: ', score)\n",
        "print(f\"Weighted-F1: {f1_score(y_test_red, pred_labels, average='weighted')}\")\n",
        "print('--------------------------------------------------------')\n",
        "\n",
        "print(classification_report(y_test_red, pred_labels))"
      ]
    },
    {
      "cell_type": "markdown",
      "metadata": {
        "id": "QQv--22QntRp"
      },
      "source": [
        "We Could Already see quite a bit of improvement after using random forest."
      ]
    },
    {
      "cell_type": "code",
      "execution_count": null,
      "metadata": {
        "colab": {
          "base_uri": "https://localhost:8080/"
        },
        "id": "EhWb4Dz6iZT4",
        "outputId": "80017943-402a-42db-81fe-984140cd01f3"
      },
      "outputs": [
        {
          "name": "stdout",
          "output_type": "stream",
          "text": [
            "{'ran_forest__bootstrap': [True, False],\n",
            " 'ran_forest__max_depth': [10, 20, 30, 40, 50, 60, 70, 80, 90, 100, 110, None],\n",
            " 'ran_forest__max_features': ['auto', 'sqrt'],\n",
            " 'ran_forest__min_samples_leaf': [1, 2, 4, 6, 8, 10],\n",
            " 'ran_forest__min_samples_split': [2, 5, 10],\n",
            " 'ran_forest__n_estimators': [100,\n",
            "                              311,\n",
            "                              522,\n",
            "                              733,\n",
            "                              944,\n",
            "                              1155,\n",
            "                              1366,\n",
            "                              1577,\n",
            "                              1788,\n",
            "                              2000]}\n"
          ]
        }
      ],
      "source": [
        "# Number of trees in random forest\n",
        "n_estimators = [int(x) for x in np.linspace(start = 100, stop = 2000, num = 10)]\n",
        "# Number of features to consider at every split\n",
        "max_features = ['auto', 'sqrt']\n",
        "# Maximum number of levels in tree\n",
        "max_depth = [int(x) for x in np.linspace(10, 110, num = 11)]\n",
        "max_depth.append(None)\n",
        "# Minimum number of samples required to split a node\n",
        "min_samples_split = [2, 5, 10]\n",
        "# Minimum number of samples required at each leaf node\n",
        "min_samples_leaf = [1, 2, 4, 6, 8, 10]\n",
        "# Method of selecting samples for training each tree\n",
        "bootstrap = [True, False]\n",
        "# Create the random grid\n",
        "random_grid = {'ran_forest__n_estimators': n_estimators,\n",
        "               'ran_forest__max_features': max_features,\n",
        "               'ran_forest__max_depth': max_depth,\n",
        "               'ran_forest__min_samples_split': min_samples_split,\n",
        "               'ran_forest__min_samples_leaf': min_samples_leaf,\n",
        "               'ran_forest__bootstrap': bootstrap}\n",
        "pprint(random_grid)"
      ]
    },
    {
      "cell_type": "code",
      "execution_count": null,
      "metadata": {
        "colab": {
          "base_uri": "https://localhost:8080/"
        },
        "id": "2RQN_KDbiZLQ",
        "outputId": "570b02b7-5eae-4c50-9692-4ae46b361aa0"
      },
      "outputs": [
        {
          "name": "stdout",
          "output_type": "stream",
          "text": [
            "Fitting 3 folds for each of 100 candidates, totalling 300 fits\n",
            "Pipeline(steps=[('std_slc', StandardScaler()),\n",
            "                ('ran_forest',\n",
            "                 RandomForestClassifier(max_depth=96, max_features='sqrt',\n",
            "                                        min_samples_split=5,\n",
            "                                        n_estimators=1450))])\n",
            "Best Score: 0.8728036550515225\n"
          ]
        }
      ],
      "source": [
        "rf_random = RandomizedSearchCV(estimator = rf_pipe, param_distributions = random_grid, n_iter = 100, cv = 3, verbose=1, n_jobs = -1, scoring=\"f1_weighted\")\n",
        "rf_random.fit(X_train_red, y_train_red)\n",
        "print(rf_random.best_estimator_)\n",
        "print(f'Best Score: {rf_random.best_score_}')"
      ]
    },
    {
      "cell_type": "code",
      "execution_count": null,
      "metadata": {
        "colab": {
          "base_uri": "https://localhost:8080/"
        },
        "id": "lGIKeHraiZI4",
        "outputId": "496852f9-2aa1-48b9-d014-8b30a1d829a8"
      },
      "outputs": [
        {
          "output_type": "stream",
          "name": "stdout",
          "text": [
            "Classes:  [ 0  1  2  3  4  5  6  7  8  9 10 11 12 13 14 15 16 17 18 19 20 21]\n",
            "--------------------Random Forest Red Best-------------------\n",
            "Accuracy Score:  0.8941666666666667\n",
            "Weighted-F1: 0.8870805051716689\n",
            "--------------------------------------------------------\n",
            "              precision    recall  f1-score   support\n",
            "\n",
            "           0       0.00      0.00      0.00         1\n",
            "           1       1.00      1.00      1.00        10\n",
            "           2       0.83      0.83      0.83        12\n",
            "           3       0.90      0.96      0.93       314\n",
            "           4       0.78      0.88      0.82         8\n",
            "           5       0.84      0.86      0.85        83\n",
            "           6       0.96      1.00      0.98        52\n",
            "           7       0.90      0.93      0.92       122\n",
            "           8       0.76      0.71      0.74        70\n",
            "           9       0.86      0.84      0.85       103\n",
            "          10       0.88      0.85      0.86        85\n",
            "          11       1.00      0.17      0.29         6\n",
            "          12       0.88      0.58      0.70        26\n",
            "          13       1.00      1.00      1.00         1\n",
            "          14       1.00      1.00      1.00        78\n",
            "          15       0.80      0.20      0.32        20\n",
            "          16       0.90      0.95      0.93        80\n",
            "          17       0.93      0.97      0.95        58\n",
            "          18       0.79      1.00      0.88        15\n",
            "          19       0.96      1.00      0.98        25\n",
            "          20       1.00      0.33      0.50         3\n",
            "          21       0.96      0.96      0.96        28\n",
            "\n",
            "    accuracy                           0.89      1200\n",
            "   macro avg       0.86      0.77      0.79      1200\n",
            "weighted avg       0.89      0.89      0.89      1200\n",
            "\n"
          ]
        },
        {
          "output_type": "stream",
          "name": "stderr",
          "text": [
            "/usr/local/lib/python3.7/dist-packages/sklearn/metrics/_classification.py:1318: UndefinedMetricWarning: Precision and F-score are ill-defined and being set to 0.0 in labels with no predicted samples. Use `zero_division` parameter to control this behavior.\n",
            "  _warn_prf(average, modifier, msg_start, len(result))\n",
            "/usr/local/lib/python3.7/dist-packages/sklearn/metrics/_classification.py:1318: UndefinedMetricWarning: Precision and F-score are ill-defined and being set to 0.0 in labels with no predicted samples. Use `zero_division` parameter to control this behavior.\n",
            "  _warn_prf(average, modifier, msg_start, len(result))\n",
            "/usr/local/lib/python3.7/dist-packages/sklearn/metrics/_classification.py:1318: UndefinedMetricWarning: Precision and F-score are ill-defined and being set to 0.0 in labels with no predicted samples. Use `zero_division` parameter to control this behavior.\n",
            "  _warn_prf(average, modifier, msg_start, len(result))\n"
          ]
        }
      ],
      "source": [
        "rf_pipe = Pipeline(steps=[('std_slc', StandardScaler()),\n",
        "                ('ran_forest',\n",
        "                 RandomForestClassifier(max_depth=96, max_features='sqrt',\n",
        "                                        min_samples_split=5,\n",
        "                                        n_estimators=1450))])\n",
        "clf = rf_pipe.fit(X_train_red, y_train_red)\n",
        "\n",
        "pred_labels = rf_pipe.predict(X_test_red)\n",
        "\n",
        "print('Classes: ', clf.classes_) \n",
        "# print('Class Priors: ',clf.class_prior_)\n",
        "\n",
        "print('--------------------Random Forest Red Best-------------------')\n",
        "score = rf_pipe.score(X_test_red, y_test_red)\n",
        "print('Accuracy Score: ', score)\n",
        "print(f\"Weighted-F1: {f1_score(y_test_red, pred_labels, average='weighted')}\")\n",
        "print('--------------------------------------------------------')\n",
        "\n",
        "print(classification_report(y_test_red, pred_labels))"
      ]
    },
    {
      "cell_type": "code",
      "execution_count": 85,
      "metadata": {
        "id": "8ilksW_QiZGA",
        "colab": {
          "base_uri": "https://localhost:8080/"
        },
        "outputId": "a1b28aff-4c19-484c-b1e0-56dcc0996af1"
      },
      "outputs": [
        {
          "output_type": "stream",
          "name": "stdout",
          "text": [
            "Classes:  [ 0  1  2  3  4  5  6  7  8  9 10 11 12 13 14 15 16 17 18 19 20 21]\n",
            "--------------------Random Forest Red Best-------------------\n",
            "Accuracy Score:  0.895\n",
            "Weighted-F1: 0.8897593115634486\n",
            "--------------------------------------------------------\n",
            "              precision    recall  f1-score   support\n",
            "\n",
            "           0       0.00      0.00      0.00         1\n",
            "           1       1.00      1.00      1.00        10\n",
            "           2       0.83      0.83      0.83        12\n",
            "           3       0.92      0.95      0.93       314\n",
            "           4       0.89      1.00      0.94         8\n",
            "           5       0.83      0.86      0.84        83\n",
            "           6       0.98      1.00      0.99        52\n",
            "           7       0.89      0.92      0.90       122\n",
            "           8       0.72      0.80      0.76        70\n",
            "           9       0.89      0.83      0.86       103\n",
            "          10       0.88      0.86      0.87        85\n",
            "          11       1.00      0.17      0.29         6\n",
            "          12       0.74      0.54      0.62        26\n",
            "          13       1.00      1.00      1.00         1\n",
            "          14       1.00      1.00      1.00        78\n",
            "          15       0.71      0.25      0.37        20\n",
            "          16       0.90      0.94      0.92        80\n",
            "          17       0.98      0.98      0.98        58\n",
            "          18       0.75      1.00      0.86        15\n",
            "          19       0.96      1.00      0.98        25\n",
            "          20       0.50      0.33      0.40         3\n",
            "          21       1.00      0.96      0.98        28\n",
            "\n",
            "    accuracy                           0.90      1200\n",
            "   macro avg       0.83      0.78      0.79      1200\n",
            "weighted avg       0.89      0.90      0.89      1200\n",
            "\n"
          ]
        },
        {
          "output_type": "stream",
          "name": "stderr",
          "text": [
            "/usr/local/lib/python3.7/dist-packages/sklearn/metrics/_classification.py:1318: UndefinedMetricWarning: Precision and F-score are ill-defined and being set to 0.0 in labels with no predicted samples. Use `zero_division` parameter to control this behavior.\n",
            "  _warn_prf(average, modifier, msg_start, len(result))\n",
            "/usr/local/lib/python3.7/dist-packages/sklearn/metrics/_classification.py:1318: UndefinedMetricWarning: Precision and F-score are ill-defined and being set to 0.0 in labels with no predicted samples. Use `zero_division` parameter to control this behavior.\n",
            "  _warn_prf(average, modifier, msg_start, len(result))\n",
            "/usr/local/lib/python3.7/dist-packages/sklearn/metrics/_classification.py:1318: UndefinedMetricWarning: Precision and F-score are ill-defined and being set to 0.0 in labels with no predicted samples. Use `zero_division` parameter to control this behavior.\n",
            "  _warn_prf(average, modifier, msg_start, len(result))\n"
          ]
        }
      ],
      "source": [
        "rf_pipe = Pipeline(steps=[('std_slc', StandardScaler()),\n",
        "                ('ran_forest',\n",
        "                 RandomForestClassifier(max_depth=96, max_features='sqrt',\n",
        "                                        min_samples_split=5,\n",
        "                                        n_estimators=1450, class_weight=\"balanced\"))])\n",
        "clf = rf_pipe.fit(X_train_red, y_train_red)\n",
        "\n",
        "pred_labels = rf_pipe.predict(X_test_red)\n",
        "\n",
        "print('Classes: ', clf.classes_) \n",
        "# print('Class Priors: ',clf.class_prior_)\n",
        "\n",
        "print('--------------------Random Forest Red Best-------------------')\n",
        "score = rf_pipe.score(X_test_red, y_test_red)\n",
        "print('Accuracy Score: ', score)\n",
        "print(f\"Weighted-F1: {f1_score(y_test_red, pred_labels, average='weighted')}\")\n",
        "print('--------------------------------------------------------')\n",
        "\n",
        "print(classification_report(y_test_red, pred_labels))"
      ]
    },
    {
      "cell_type": "markdown",
      "metadata": {
        "id": "u5lkpAB4EN6B"
      },
      "source": [
        "#Training on a Oversampled Data"
      ]
    },
    {
      "cell_type": "code",
      "execution_count": 24,
      "metadata": {
        "id": "k9rr-HxSllaD"
      },
      "outputs": [],
      "source": [
        "oversample = SMOTE(k_neighbors=3)\n",
        "X_ove, y_ove = oversample.fit_resample(pd.concat([X_train_red, X_test_red]), pd.concat([y_train_red, y_test_red]))"
      ]
    },
    {
      "cell_type": "code",
      "execution_count": 25,
      "metadata": {
        "colab": {
          "base_uri": "https://localhost:8080/"
        },
        "id": "QJeXRxYHmgVr",
        "outputId": "c8394867-5e99-4af4-e3e3-6e29afed8476"
      },
      "outputs": [
        {
          "output_type": "stream",
          "name": "stdout",
          "text": [
            "Class = 16, n = 1587 (4.545454545454546)%\n",
            "Class = 12, n = 1587 (4.545454545454546)%\n",
            "Class = 3, n = 1587 (4.545454545454546)%\n",
            "Class = 8, n = 1587 (4.545454545454546)%\n",
            "Class = 7, n = 1587 (4.545454545454546)%\n",
            "Class = 14, n = 1587 (4.545454545454546)%\n",
            "Class = 19, n = 1587 (4.545454545454546)%\n",
            "Class = 9, n = 1587 (4.545454545454546)%\n",
            "Class = 5, n = 1587 (4.545454545454546)%\n",
            "Class = 17, n = 1587 (4.545454545454546)%\n",
            "Class = 10, n = 1587 (4.545454545454546)%\n",
            "Class = 6, n = 1587 (4.545454545454546)%\n",
            "Class = 15, n = 1587 (4.545454545454546)%\n",
            "Class = 18, n = 1587 (4.545454545454546)%\n",
            "Class = 11, n = 1587 (4.545454545454546)%\n",
            "Class = 2, n = 1587 (4.545454545454546)%\n",
            "Class = 21, n = 1587 (4.545454545454546)%\n",
            "Class = 1, n = 1587 (4.545454545454546)%\n",
            "Class = 4, n = 1587 (4.545454545454546)%\n",
            "Class = 20, n = 1587 (4.545454545454546)%\n",
            "Class = 13, n = 1587 (4.545454545454546)%\n",
            "Class = 0, n = 1587 (4.545454545454546)%\n"
          ]
        }
      ],
      "source": [
        "counter = Counter(y_ove)\n",
        "for i, j in counter.items():\n",
        "    pct = j/len(y_ove) * 100\n",
        "    print(f\"Class = {i}, n = {j} ({pct})%\")\n"
      ]
    },
    {
      "cell_type": "code",
      "execution_count": 26,
      "metadata": {
        "id": "UTKagwdvxLNS"
      },
      "outputs": [],
      "source": [
        "X_train_ove, X_test_ove, y_train_ove, y_test_ove = train_test_split(X_ove, y_ove, test_size=0.2, random_state=0)"
      ]
    },
    {
      "cell_type": "markdown",
      "metadata": {
        "id": "Yfspu0B8qxvb"
      },
      "source": [
        "##Decision Tree"
      ]
    },
    {
      "cell_type": "code",
      "execution_count": 60,
      "metadata": {
        "colab": {
          "base_uri": "https://localhost:8080/"
        },
        "id": "_VLvJmJmqv7h",
        "outputId": "bc9208a7-a989-483d-9f71-4028e37715a2"
      },
      "outputs": [
        {
          "output_type": "stream",
          "name": "stdout",
          "text": [
            "Classes:  [ 0  1  2  3  4  5  6  7  8  9 10 11 12 13 14 15 16 17 18 19 20 21]\n",
            "-----------------------Decision Tree----------------------\n",
            "Accuracy Score:  0.9497350708864385\n",
            "Weighted-F1: 0.9495933668152794\n",
            "--------------------------------------------------------\n",
            "              precision    recall  f1-score   support\n",
            "\n",
            "           0       0.99      1.00      0.99       337\n",
            "           1       1.00      1.00      1.00       325\n",
            "           2       0.99      0.99      0.99       300\n",
            "           3       0.91      0.85      0.88       315\n",
            "           4       0.99      0.99      0.99       319\n",
            "           5       0.94      0.93      0.93       309\n",
            "           6       0.98      0.99      0.99       322\n",
            "           7       0.92      0.93      0.92       327\n",
            "           8       0.88      0.85      0.87       306\n",
            "           9       0.85      0.86      0.86       321\n",
            "          10       0.87      0.87      0.87       323\n",
            "          11       0.93      0.96      0.94       280\n",
            "          12       0.87      0.89      0.88       300\n",
            "          13       1.00      1.00      1.00       319\n",
            "          14       0.99      0.98      0.98       329\n",
            "          15       0.91      0.93      0.92       326\n",
            "          16       0.96      0.97      0.96       336\n",
            "          17       0.95      0.96      0.96       304\n",
            "          18       0.98      0.98      0.98       336\n",
            "          19       0.98      0.99      0.99       326\n",
            "          20       0.99      0.99      0.99       306\n",
            "          21       0.99      0.99      0.99       317\n",
            "\n",
            "    accuracy                           0.95      6983\n",
            "   macro avg       0.95      0.95      0.95      6983\n",
            "weighted avg       0.95      0.95      0.95      6983\n",
            "\n"
          ]
        }
      ],
      "source": [
        "dtc_model = DecisionTreeClassifier()\n",
        "clf = dtc_model.fit(X_train_ove, y_train_ove)\n",
        "\n",
        "pred_labels = dtc_model.predict(X_test_ove)\n",
        "\n",
        "print('Classes: ', clf.classes_) \n",
        "# print('Class Priors: ',clf.class_prior_)\n",
        "\n",
        "print('-----------------------Decision Tree----------------------')\n",
        "score = dtc_model.score(X_test_ove, y_test_ove)\n",
        "print('Accuracy Score: ', score)\n",
        "print(f\"Weighted-F1: {f1_score(y_test_ove, pred_labels, average='weighted')}\")\n",
        "print('--------------------------------------------------------')\n",
        "\n",
        "print(classification_report(y_test_ove, pred_labels))"
      ]
    },
    {
      "cell_type": "code",
      "execution_count": 61,
      "metadata": {
        "colab": {
          "base_uri": "https://localhost:8080/"
        },
        "id": "Qa8TVzC7qv4h",
        "outputId": "b547d69d-f80c-4cc5-c1ef-5e3964c55c42"
      },
      "outputs": [
        {
          "output_type": "stream",
          "name": "stdout",
          "text": [
            "Fitting 10 folds for each of 28 candidates, totalling 280 fits\n",
            "Pipeline(steps=[('std_slc', StandardScaler()),\n",
            "                ('dec_tree',\n",
            "                 DecisionTreeClassifier(criterion='entropy', max_depth=28))])\n",
            "Best Score: 0.9432564243140666\n"
          ]
        }
      ],
      "source": [
        "gtc_Model_grid = GridSearchCV(estimator=pipe_dtc, param_grid=param_grid_gtc, verbose=1, cv=10, n_jobs=-1, scoring='f1_weighted')\n",
        "gtc_Model_grid.fit(X_train_ove, y_train_ove)\n",
        "print(gtc_Model_grid.best_estimator_)\n",
        "print(f'Best Score: {gtc_Model_grid.best_score_}')"
      ]
    },
    {
      "cell_type": "code",
      "execution_count": 63,
      "metadata": {
        "colab": {
          "base_uri": "https://localhost:8080/"
        },
        "id": "gR7UUDe_qvy_",
        "outputId": "f30c3877-4007-462a-a412-7f9fb5af1143"
      },
      "outputs": [
        {
          "output_type": "stream",
          "name": "stdout",
          "text": [
            "Classes:  [ 0  1  2  3  4  5  6  7  8  9 10 11 12 13 14 15 16 17 18 19 20 21]\n",
            "-----------------------Decision Tree----------------------\n",
            "Accuracy Score:  0.9497350708864385\n",
            "Weighted-F1: 0.9478578629520836\n",
            "--------------------------------------------------------\n",
            "              precision    recall  f1-score   support\n",
            "\n",
            "           0       0.99      1.00      0.99       337\n",
            "           1       1.00      1.00      1.00       325\n",
            "           2       0.98      1.00      0.99       300\n",
            "           3       0.87      0.83      0.85       315\n",
            "           4       0.98      0.99      0.99       319\n",
            "           5       0.92      0.92      0.92       309\n",
            "           6       1.00      0.99      0.99       322\n",
            "           7       0.89      0.88      0.89       327\n",
            "           8       0.89      0.88      0.88       306\n",
            "           9       0.88      0.90      0.89       321\n",
            "          10       0.91      0.89      0.90       323\n",
            "          11       0.94      0.95      0.94       280\n",
            "          12       0.88      0.86      0.87       300\n",
            "          13       0.99      1.00      1.00       319\n",
            "          14       0.99      0.98      0.98       329\n",
            "          15       0.89      0.91      0.90       326\n",
            "          16       0.96      0.95      0.95       336\n",
            "          17       0.94      0.98      0.96       304\n",
            "          18       0.98      0.98      0.98       336\n",
            "          19       0.99      0.99      0.99       326\n",
            "          20       0.99      0.99      0.99       306\n",
            "          21       0.99      0.98      0.99       317\n",
            "\n",
            "    accuracy                           0.95      6983\n",
            "   macro avg       0.95      0.95      0.95      6983\n",
            "weighted avg       0.95      0.95      0.95      6983\n",
            "\n"
          ]
        }
      ],
      "source": [
        "pipe_gtc = gtc_Model_grid.best_estimator_\n",
        "clf = pipe_gtc.fit(X_train_ove, y_train_ove)\n",
        "\n",
        "pred_labels = pipe_gtc.predict(X_test_ove)\n",
        "\n",
        "print('Classes: ', clf.classes_) \n",
        "# print('Class Priors: ',clf.class_prior_)\n",
        "\n",
        "print('-----------------------Decision Tree----------------------')\n",
        "score = dtc_model.score(X_test_ove, y_test_ove)\n",
        "print('Accuracy Score: ', score)\n",
        "print(f\"Weighted-F1: {f1_score(y_test_ove, pred_labels, average='weighted')}\")\n",
        "print('--------------------------------------------------------')\n",
        "\n",
        "print(classification_report(y_test_ove, pred_labels))"
      ]
    },
    {
      "cell_type": "markdown",
      "metadata": {
        "id": "8tC-anMVsrzf"
      },
      "source": [
        "##K Nearest Neighbour"
      ]
    },
    {
      "cell_type": "code",
      "execution_count": 30,
      "metadata": {
        "id": "DoVfl9NRs5ld"
      },
      "outputs": [],
      "source": [
        "knn_pipe = Pipeline(steps=[('std_slc', std_slc),\n",
        "                       ('knn', KNeighborsClassifier())])"
      ]
    },
    {
      "cell_type": "code",
      "execution_count": 31,
      "metadata": {
        "colab": {
          "base_uri": "https://localhost:8080/"
        },
        "id": "hsLrUh1ws6gD",
        "outputId": "6fcff254-b8a9-4280-d4b2-091807f2265d"
      },
      "outputs": [
        {
          "output_type": "stream",
          "name": "stdout",
          "text": [
            "Classes:  [ 0  1  2  3  4  5  6  7  8  9 10 11 12 13 14 15 16 17 18 19 20 21]\n",
            "-----------------------KNN Over----------------------\n",
            "Accuracy Score:  0.8728340254904768\n",
            "Weighted-F1: 0.8717628106865696\n",
            "--------------------------------------------------------\n",
            "              precision    recall  f1-score   support\n",
            "\n",
            "           0       0.89      0.98      0.93       337\n",
            "           1       1.00      0.98      0.99       325\n",
            "           2       0.97      0.98      0.98       300\n",
            "           3       0.87      0.64      0.74       315\n",
            "           4       0.91      0.99      0.95       319\n",
            "           5       0.87      0.88      0.88       309\n",
            "           6       0.98      0.99      0.98       322\n",
            "           7       0.91      0.79      0.85       327\n",
            "           8       0.72      0.77      0.75       306\n",
            "           9       0.63      0.68      0.65       321\n",
            "          10       0.69      0.68      0.69       323\n",
            "          11       0.84      0.92      0.88       280\n",
            "          12       0.79      0.69      0.74       300\n",
            "          13       1.00      1.00      1.00       319\n",
            "          14       0.85      0.91      0.88       329\n",
            "          15       0.84      0.90      0.87       326\n",
            "          16       0.82      0.81      0.81       336\n",
            "          17       0.88      0.85      0.86       304\n",
            "          18       0.88      0.88      0.88       336\n",
            "          19       0.97      0.88      0.92       326\n",
            "          20       0.96      1.00      0.98       306\n",
            "          21       0.98      0.99      0.98       317\n",
            "\n",
            "    accuracy                           0.87      6983\n",
            "   macro avg       0.87      0.87      0.87      6983\n",
            "weighted avg       0.87      0.87      0.87      6983\n",
            "\n"
          ]
        }
      ],
      "source": [
        "clf = knn_pipe.fit(X_train_ove, y_train_ove)\n",
        "\n",
        "pred_labels = knn_pipe.predict(X_test_ove)\n",
        "\n",
        "print('Classes: ', clf.classes_)\n",
        "\n",
        "print('-----------------------KNN Over----------------------')\n",
        "score = knn_pipe.score(X_test_ove, y_test_ove)\n",
        "print('Accuracy Score: ', score)\n",
        "print(f\"Weighted-F1: {f1_score(y_test_ove, pred_labels, average='weighted')}\")\n",
        "print('--------------------------------------------------------')\n",
        "\n",
        "print(classification_report(y_test_ove, pred_labels))"
      ]
    },
    {
      "cell_type": "code",
      "execution_count": 32,
      "metadata": {
        "id": "8aCBrmmbs8LI"
      },
      "outputs": [],
      "source": [
        "param_grid_knn = [{\n",
        "    'knn__leaf_size': list(range(1, 15)),\n",
        "    'knn__n_neighbors': list(range(1, 9)),\n",
        "    'knn__p': [1, 2],\n",
        "}]"
      ]
    },
    {
      "cell_type": "code",
      "execution_count": 33,
      "metadata": {
        "colab": {
          "base_uri": "https://localhost:8080/"
        },
        "id": "WCWOqqcAs6aW",
        "outputId": "10014ff4-cca8-4bbb-907d-5075b1811d46"
      },
      "outputs": [
        {
          "output_type": "stream",
          "name": "stdout",
          "text": [
            "Fitting 10 folds for each of 224 candidates, totalling 2240 fits\n",
            "Pipeline(steps=[('std_slc', StandardScaler()),\n",
            "                ('knn', KNeighborsClassifier(leaf_size=1, n_neighbors=1, p=1))])\n",
            "Best Score: 0.9221323183534441\n"
          ]
        }
      ],
      "source": [
        "knnModel_grid = GridSearchCV(estimator=knn_pipe, param_grid=param_grid_knn, verbose=1, cv=10, n_jobs=-1, scoring='f1_weighted')\n",
        "knnModel_grid.fit(X_train_ove, y_train_ove)\n",
        "print(knnModel_grid.best_estimator_)\n",
        "print(f'Best Score: {knnModel_grid.best_score_}')"
      ]
    },
    {
      "cell_type": "code",
      "execution_count": 34,
      "metadata": {
        "colab": {
          "base_uri": "https://localhost:8080/"
        },
        "id": "0zWUkIlGs5ip",
        "outputId": "05ee9fcc-df7f-4433-98fc-30c3f48b8f4e"
      },
      "outputs": [
        {
          "output_type": "stream",
          "name": "stdout",
          "text": [
            "Classes:  [ 0  1  2  3  4  5  6  7  8  9 10 11 12 13 14 15 16 17 18 19 20 21]\n",
            "----------------------KNN Over Best--------------------\n",
            "Accuracy Score:  0.9251038235715309\n",
            "Weighted-F1: 0.9245386376074354\n",
            "Macro-F1: 0.9244371880041308\n",
            "--------------------------------------------------------\n",
            "              precision    recall  f1-score   support\n",
            "\n",
            "           0       0.92      0.99      0.96       337\n",
            "           1       1.00      1.00      1.00       325\n",
            "           2       0.99      0.99      0.99       300\n",
            "           3       0.90      0.74      0.82       315\n",
            "           4       0.96      1.00      0.98       319\n",
            "           5       0.90      0.90      0.90       309\n",
            "           6       0.99      0.99      0.99       322\n",
            "           7       0.94      0.84      0.89       327\n",
            "           8       0.87      0.88      0.87       306\n",
            "           9       0.76      0.75      0.76       321\n",
            "          10       0.75      0.82      0.78       323\n",
            "          11       0.92      0.96      0.94       280\n",
            "          12       0.85      0.83      0.84       300\n",
            "          13       1.00      1.00      1.00       319\n",
            "          14       0.95      0.97      0.96       329\n",
            "          15       0.90      0.96      0.93       326\n",
            "          16       0.90      0.89      0.90       336\n",
            "          17       0.92      0.96      0.94       304\n",
            "          18       0.95      0.98      0.97       336\n",
            "          19       0.98      0.92      0.95       326\n",
            "          20       0.98      1.00      0.99       306\n",
            "          21       0.99      0.99      0.99       317\n",
            "\n",
            "    accuracy                           0.93      6983\n",
            "   macro avg       0.93      0.93      0.92      6983\n",
            "weighted avg       0.93      0.93      0.92      6983\n",
            "\n"
          ]
        }
      ],
      "source": [
        "knn_pipe = knnModel_grid.best_estimator_\n",
        "clf = knn_pipe.fit(X_train_ove, y_train_ove)\n",
        "\n",
        "pred_labels = knn_pipe.predict(X_test_ove)\n",
        "\n",
        "print('Classes: ', clf.classes_)\n",
        "\n",
        "print('----------------------KNN Over Best--------------------')\n",
        "score = knn_pipe.score(X_test_ove, y_test_ove)\n",
        "print('Accuracy Score: ', score)\n",
        "print(f\"Weighted-F1: {f1_score(y_test_ove, pred_labels, average='weighted')}\")\n",
        "print(f\"Macro-F1: {f1_score(y_test_ove, pred_labels, average='macro')}\")\n",
        "print('--------------------------------------------------------')\n",
        "\n",
        "print(classification_report(y_test_ove, pred_labels))"
      ]
    },
    {
      "cell_type": "markdown",
      "source": [
        "##Support Vector Machines"
      ],
      "metadata": {
        "id": "spHzizETr2M2"
      }
    },
    {
      "cell_type": "code",
      "source": [
        "svm_pipe = Pipeline(steps=[('std_slc', StandardScaler()),\n",
        "                ('svm_reg', SVC())])"
      ],
      "metadata": {
        "id": "VKp7xWl-sREG"
      },
      "execution_count": 35,
      "outputs": []
    },
    {
      "cell_type": "code",
      "source": [
        "clf = svm_pipe.fit(X_train_ove, y_train_ove)\n",
        "\n",
        "pred_labels = svm_pipe.predict(X_test_ove)\n",
        "\n",
        "print('Classes: ', clf.classes_) \n",
        "\n",
        "print('------------------------SVM Over------------------------')\n",
        "score = svm_pipe.score(X_test_ove, y_test_ove)\n",
        "print('Accuracy Score: ', score)\n",
        "print(f\"Weighted-F1: {f1_score(y_test_ove, pred_labels, average='weighted')}\")\n",
        "print('--------------------------------------------------------')\n",
        "\n",
        "print(classification_report(y_test_ove, pred_labels))"
      ],
      "metadata": {
        "colab": {
          "base_uri": "https://localhost:8080/"
        },
        "id": "3SASIjEusQ3u",
        "outputId": "935855e3-0431-425a-bc41-6e39964987a3"
      },
      "execution_count": 36,
      "outputs": [
        {
          "output_type": "stream",
          "name": "stdout",
          "text": [
            "Classes:  [ 0  1  2  3  4  5  6  7  8  9 10 11 12 13 14 15 16 17 18 19 20 21]\n",
            "------------------------SVM Over------------------------\n",
            "Accuracy Score:  0.6921094085636545\n",
            "Weighted-F1: 0.676734149126241\n",
            "--------------------------------------------------------\n",
            "              precision    recall  f1-score   support\n",
            "\n",
            "           0       0.95      0.47      0.63       337\n",
            "           1       1.00      0.98      0.99       325\n",
            "           2       0.75      0.95      0.84       300\n",
            "           3       0.68      0.46      0.55       315\n",
            "           4       0.62      0.72      0.67       319\n",
            "           5       0.86      0.91      0.89       309\n",
            "           6       0.77      0.99      0.87       322\n",
            "           7       0.72      0.73      0.73       327\n",
            "           8       0.42      0.54      0.47       306\n",
            "           9       0.61      0.20      0.30       321\n",
            "          10       0.51      0.72      0.60       323\n",
            "          11       0.54      0.54      0.54       280\n",
            "          12       0.50      0.39      0.44       300\n",
            "          13       0.74      0.93      0.82       319\n",
            "          14       0.56      0.63      0.59       329\n",
            "          15       0.67      0.55      0.60       326\n",
            "          16       0.62      0.68      0.65       336\n",
            "          17       0.77      0.66      0.71       304\n",
            "          18       0.55      0.26      0.35       336\n",
            "          19       0.63      1.00      0.78       326\n",
            "          20       0.91      1.00      0.95       306\n",
            "          21       0.93      0.93      0.93       317\n",
            "\n",
            "    accuracy                           0.69      6983\n",
            "   macro avg       0.70      0.69      0.68      6983\n",
            "weighted avg       0.70      0.69      0.68      6983\n",
            "\n"
          ]
        }
      ]
    },
    {
      "cell_type": "code",
      "source": [
        "svm_param_grid = {'svm_reg__C': [980, 1000, 1020],\n",
        "              'svm_reg__gamma': [1, 0.6, 0.3],\n",
        "              'svm_reg__kernel': ['rbf']}"
      ],
      "metadata": {
        "id": "KaunrTw9s_gO"
      },
      "execution_count": 37,
      "outputs": []
    },
    {
      "cell_type": "code",
      "source": [
        "svmModel_grid = GridSearchCV(estimator=svm_pipe, param_grid=svm_param_grid, verbose=1, cv=3, n_jobs=-1, scoring='f1_weighted')\n",
        "svmModel_grid.fit(X_train_ove, y_train_ove)\n",
        "print(svmModel_grid.best_estimator_)\n",
        "print(f'Best Score: {svmModel_grid.best_score_}')"
      ],
      "metadata": {
        "colab": {
          "base_uri": "https://localhost:8080/"
        },
        "id": "AXR269DIsQuf",
        "outputId": "0286805d-37d8-433f-fad0-290a87b0d913"
      },
      "execution_count": 38,
      "outputs": [
        {
          "output_type": "stream",
          "name": "stdout",
          "text": [
            "Fitting 3 folds for each of 9 candidates, totalling 27 fits\n",
            "Pipeline(steps=[('std_slc', StandardScaler()),\n",
            "                ('svm_reg', SVC(C=1020, gamma=1))])\n",
            "Best Score: 0.9008786246667243\n"
          ]
        }
      ]
    },
    {
      "cell_type": "code",
      "source": [
        "svm_pipe = svmModel_grid.best_estimator_\n",
        "\n",
        "clf = svm_pipe.fit(X_train_ove, y_train_ove)\n",
        "\n",
        "pred_labels = svm_pipe.predict(X_test_ove)\n",
        "\n",
        "print('Classes: ', clf.classes_) \n",
        "\n",
        "print('----------------------SVM over Best--------------------')\n",
        "score = svm_pipe.score(X_test_ove, y_test_ove)\n",
        "print('Accuracy Score: ', score)\n",
        "print(f\"Weighted-F1: {f1_score(y_test_ove, pred_labels, average='weighted')}\")\n",
        "print('--------------------------------------------------------')\n",
        "\n",
        "print(classification_report(y_test_ove, pred_labels))"
      ],
      "metadata": {
        "colab": {
          "base_uri": "https://localhost:8080/"
        },
        "id": "NL1hQTvBrk2-",
        "outputId": "74becbe7-22cb-4826-8696-8a0dca06f0b0"
      },
      "execution_count": 39,
      "outputs": [
        {
          "output_type": "stream",
          "name": "stdout",
          "text": [
            "Classes:  [ 0  1  2  3  4  5  6  7  8  9 10 11 12 13 14 15 16 17 18 19 20 21]\n",
            "----------------------SVM over Best--------------------\n",
            "Accuracy Score:  0.9113561506515824\n",
            "Weighted-F1: 0.9113116207796366\n",
            "--------------------------------------------------------\n",
            "              precision    recall  f1-score   support\n",
            "\n",
            "           0       0.92      0.84      0.88       337\n",
            "           1       1.00      0.99      0.99       325\n",
            "           2       0.99      0.97      0.98       300\n",
            "           3       0.82      0.76      0.79       315\n",
            "           4       0.90      0.97      0.93       319\n",
            "           5       0.91      0.91      0.91       309\n",
            "           6       0.99      0.99      0.99       322\n",
            "           7       0.94      0.89      0.92       327\n",
            "           8       0.77      0.81      0.79       306\n",
            "           9       0.72      0.82      0.77       321\n",
            "          10       0.85      0.76      0.80       323\n",
            "          11       0.88      0.95      0.91       280\n",
            "          12       0.88      0.80      0.84       300\n",
            "          13       1.00      1.00      1.00       319\n",
            "          14       0.95      0.97      0.96       329\n",
            "          15       0.85      0.85      0.85       326\n",
            "          16       0.95      0.96      0.95       336\n",
            "          17       0.98      0.95      0.96       304\n",
            "          18       0.96      0.95      0.95       336\n",
            "          19       0.85      0.92      0.88       326\n",
            "          20       1.00      1.00      1.00       306\n",
            "          21       0.98      1.00      0.99       317\n",
            "\n",
            "    accuracy                           0.91      6983\n",
            "   macro avg       0.91      0.91      0.91      6983\n",
            "weighted avg       0.91      0.91      0.91      6983\n",
            "\n"
          ]
        }
      ]
    },
    {
      "cell_type": "markdown",
      "source": [
        "##Random Forest"
      ],
      "metadata": {
        "id": "QtqlGImCqwO1"
      }
    },
    {
      "cell_type": "code",
      "source": [
        "rf_pipe = Pipeline(steps=[('std_slc', StandardScaler()),\n",
        "                ('ran_forest',\n",
        "                 RandomForestClassifier())])"
      ],
      "metadata": {
        "id": "pXSCHQCprJG-"
      },
      "execution_count": 65,
      "outputs": []
    },
    {
      "cell_type": "code",
      "source": [
        "clf_d = rf_pipe.fit(X_train_ove, y_train_ove)\n",
        "\n",
        "pred_labels = rf_pipe.predict(X_test_ove)\n",
        "\n",
        "print('Classes: ', clf_d.classes_)\n",
        "\n",
        "print('-------------------Random Forrest Over-----------------')\n",
        "score = rf_pipe.score(X_test_ove, y_test_ove)\n",
        "print('Accuracy Score: ', score)\n",
        "print(f\"Weighted-F1: {f1_score(y_test_ove, pred_labels, average='weighted')}\")\n",
        "print(f\"Macro-F1: {f1_score(y_test_ove, pred_labels, average='macro')}\")\n",
        "print('--------------------------------------------------------')\n",
        "\n",
        "print(classification_report(y_test_ove, pred_labels))"
      ],
      "metadata": {
        "colab": {
          "base_uri": "https://localhost:8080/"
        },
        "id": "VuAAvNv9rWWF",
        "outputId": "ad83b4d1-6d57-4811-8aba-da402c8f4375"
      },
      "execution_count": 66,
      "outputs": [
        {
          "output_type": "stream",
          "name": "stdout",
          "text": [
            "Classes:  [ 0  1  2  3  4  5  6  7  8  9 10 11 12 13 14 15 16 17 18 19 20 21]\n",
            "-------------------Random Forrest Over-----------------\n",
            "Accuracy Score:  0.9692109408563655\n",
            "Weighted-F1: 0.969112490332675\n",
            "Macro-F1: 0.9689233470647121\n",
            "--------------------------------------------------------\n",
            "              precision    recall  f1-score   support\n",
            "\n",
            "           0       1.00      1.00      1.00       337\n",
            "           1       1.00      0.99      0.99       325\n",
            "           2       0.99      1.00      1.00       300\n",
            "           3       0.92      0.89      0.90       315\n",
            "           4       0.99      1.00      0.99       319\n",
            "           5       0.94      0.95      0.95       309\n",
            "           6       1.00      1.00      1.00       322\n",
            "           7       0.95      0.95      0.95       327\n",
            "           8       0.92      0.91      0.92       306\n",
            "           9       0.89      0.92      0.91       321\n",
            "          10       0.93      0.91      0.92       323\n",
            "          11       0.98      0.99      0.99       280\n",
            "          12       0.95      0.91      0.93       300\n",
            "          13       1.00      1.00      1.00       319\n",
            "          14       0.99      1.00      0.99       329\n",
            "          15       0.96      0.96      0.96       326\n",
            "          16       0.98      0.97      0.98       336\n",
            "          17       0.96      0.99      0.97       304\n",
            "          18       0.98      0.99      0.98       336\n",
            "          19       0.99      1.00      1.00       326\n",
            "          20       1.00      1.00      1.00       306\n",
            "          21       0.99      1.00      0.99       317\n",
            "\n",
            "    accuracy                           0.97      6983\n",
            "   macro avg       0.97      0.97      0.97      6983\n",
            "weighted avg       0.97      0.97      0.97      6983\n",
            "\n"
          ]
        }
      ]
    },
    {
      "cell_type": "code",
      "execution_count": 56,
      "metadata": {
        "id": "m7lD0cVkzB2v"
      },
      "outputs": [],
      "source": [
        "rf_pipe = Pipeline(steps=[('std_slc', StandardScaler()),\n",
        "                ('ran_forest',\n",
        "                 RandomForestClassifier(max_depth=96, max_features='sqrt',\n",
        "                                        min_samples_split=5,\n",
        "                                        n_estimators=1450))])"
      ]
    },
    {
      "cell_type": "code",
      "source": [
        "clf = rf_pipe.fit(X_train_ove, y_train_ove)\n",
        "\n",
        "pred_labels = rf_pipe.predict(X_test_ove)\n",
        "\n",
        "print('Classes: ', clf.classes_)\n",
        "\n",
        "print('-----------------Random Forrest Over Best---------------')\n",
        "score = rf_pipe.score(X_test_ove, y_test_ove)\n",
        "print('Accuracy Score: ', score)\n",
        "print(f\"Weighted-F1: {f1_score(y_test_ove, pred_labels, average='weighted')}\")\n",
        "print(f\"Macro-F1: {f1_score(y_test_ove, pred_labels, average='macro')}\")\n",
        "print('--------------------------------------------------------')\n",
        "\n",
        "print(classification_report(y_test_ove, pred_labels))"
      ],
      "metadata": {
        "colab": {
          "base_uri": "https://localhost:8080/"
        },
        "id": "RwB22z4oqhTP",
        "outputId": "40a76894-6b14-487a-b08c-713d85bf3ce3"
      },
      "execution_count": 57,
      "outputs": [
        {
          "output_type": "stream",
          "name": "stdout",
          "text": [
            "Classes:  [ 0  1  2  3  4  5  6  7  8  9 10 11 12 13 14 15 16 17 18 19 20 21]\n",
            "-----------------Random Forrest Over Best---------------\n",
            "Accuracy Score:  0.9666332521838751\n",
            "Weighted-F1: 0.9665148900947244\n",
            "Macro-F1: 0.9663303880296662\n",
            "--------------------------------------------------------\n",
            "              precision    recall  f1-score   support\n",
            "\n",
            "           0       1.00      1.00      1.00       337\n",
            "           1       1.00      0.99      0.99       325\n",
            "           2       0.99      1.00      1.00       300\n",
            "           3       0.92      0.90      0.91       315\n",
            "           4       0.99      1.00      1.00       319\n",
            "           5       0.92      0.95      0.93       309\n",
            "           6       1.00      0.99      1.00       322\n",
            "           7       0.94      0.94      0.94       327\n",
            "           8       0.93      0.90      0.92       306\n",
            "           9       0.89      0.92      0.90       321\n",
            "          10       0.94      0.90      0.92       323\n",
            "          11       0.99      0.99      0.99       280\n",
            "          12       0.95      0.89      0.92       300\n",
            "          13       1.00      1.00      1.00       319\n",
            "          14       0.99      1.00      1.00       329\n",
            "          15       0.95      0.95      0.95       326\n",
            "          16       0.97      0.97      0.97       336\n",
            "          17       0.96      0.99      0.97       304\n",
            "          18       0.98      0.99      0.99       336\n",
            "          19       0.99      1.00      1.00       326\n",
            "          20       0.99      1.00      1.00       306\n",
            "          21       0.98      1.00      0.99       317\n",
            "\n",
            "    accuracy                           0.97      6983\n",
            "   macro avg       0.97      0.97      0.97      6983\n",
            "weighted avg       0.97      0.97      0.97      6983\n",
            "\n"
          ]
        }
      ]
    },
    {
      "cell_type": "code",
      "source": [
        ""
      ],
      "metadata": {
        "id": "ovDGzAkxqK0L"
      },
      "execution_count": null,
      "outputs": []
    },
    {
      "cell_type": "code",
      "source": [
        "u_pred_labels = rf_pipe.predict(test_data[[\"GPStime\", \"peakFreq\", \"snr\", \"duration\", \"ifo_num\"]])\n",
        "type(u_pred_labels)"
      ],
      "metadata": {
        "colab": {
          "base_uri": "https://localhost:8080/"
        },
        "id": "x2fpdcXKesJ_",
        "outputId": "b0953d8e-a72c-420a-8d1b-1872a75885f9"
      },
      "execution_count": 86,
      "outputs": [
        {
          "output_type": "execute_result",
          "data": {
            "text/plain": [
              "numpy.ndarray"
            ]
          },
          "metadata": {},
          "execution_count": 86
        }
      ]
    },
    {
      "cell_type": "code",
      "source": [
        "u_pred_labels = le.inverse_transform(u_pred_labels)"
      ],
      "metadata": {
        "id": "uKrl6_KEqk7A"
      },
      "execution_count": 87,
      "outputs": []
    },
    {
      "cell_type": "code",
      "source": [
        "df_result = pd.DataFrame(u_pred_labels)\n",
        "df_result.head()"
      ],
      "metadata": {
        "colab": {
          "base_uri": "https://localhost:8080/",
          "height": 204
        },
        "id": "r8PF4CFYqFKz",
        "outputId": "2e7b1d4f-d0d9-4966-afa6-1a586a3394c8"
      },
      "execution_count": 88,
      "outputs": [
        {
          "output_type": "execute_result",
          "data": {
            "text/plain": [
              "          0\n",
              "0  Koi_Fish\n",
              "1      Blip\n",
              "2     Helix\n",
              "3      Blip\n",
              "4      Blip"
            ],
            "text/html": [
              "\n",
              "  <div id=\"df-48f7be4f-d953-4c8a-a992-bc11667eb200\">\n",
              "    <div class=\"colab-df-container\">\n",
              "      <div>\n",
              "<style scoped>\n",
              "    .dataframe tbody tr th:only-of-type {\n",
              "        vertical-align: middle;\n",
              "    }\n",
              "\n",
              "    .dataframe tbody tr th {\n",
              "        vertical-align: top;\n",
              "    }\n",
              "\n",
              "    .dataframe thead th {\n",
              "        text-align: right;\n",
              "    }\n",
              "</style>\n",
              "<table border=\"1\" class=\"dataframe\">\n",
              "  <thead>\n",
              "    <tr style=\"text-align: right;\">\n",
              "      <th></th>\n",
              "      <th>0</th>\n",
              "    </tr>\n",
              "  </thead>\n",
              "  <tbody>\n",
              "    <tr>\n",
              "      <th>0</th>\n",
              "      <td>Koi_Fish</td>\n",
              "    </tr>\n",
              "    <tr>\n",
              "      <th>1</th>\n",
              "      <td>Blip</td>\n",
              "    </tr>\n",
              "    <tr>\n",
              "      <th>2</th>\n",
              "      <td>Helix</td>\n",
              "    </tr>\n",
              "    <tr>\n",
              "      <th>3</th>\n",
              "      <td>Blip</td>\n",
              "    </tr>\n",
              "    <tr>\n",
              "      <th>4</th>\n",
              "      <td>Blip</td>\n",
              "    </tr>\n",
              "  </tbody>\n",
              "</table>\n",
              "</div>\n",
              "      <button class=\"colab-df-convert\" onclick=\"convertToInteractive('df-48f7be4f-d953-4c8a-a992-bc11667eb200')\"\n",
              "              title=\"Convert this dataframe to an interactive table.\"\n",
              "              style=\"display:none;\">\n",
              "        \n",
              "  <svg xmlns=\"http://www.w3.org/2000/svg\" height=\"24px\"viewBox=\"0 0 24 24\"\n",
              "       width=\"24px\">\n",
              "    <path d=\"M0 0h24v24H0V0z\" fill=\"none\"/>\n",
              "    <path d=\"M18.56 5.44l.94 2.06.94-2.06 2.06-.94-2.06-.94-.94-2.06-.94 2.06-2.06.94zm-11 1L8.5 8.5l.94-2.06 2.06-.94-2.06-.94L8.5 2.5l-.94 2.06-2.06.94zm10 10l.94 2.06.94-2.06 2.06-.94-2.06-.94-.94-2.06-.94 2.06-2.06.94z\"/><path d=\"M17.41 7.96l-1.37-1.37c-.4-.4-.92-.59-1.43-.59-.52 0-1.04.2-1.43.59L10.3 9.45l-7.72 7.72c-.78.78-.78 2.05 0 2.83L4 21.41c.39.39.9.59 1.41.59.51 0 1.02-.2 1.41-.59l7.78-7.78 2.81-2.81c.8-.78.8-2.07 0-2.86zM5.41 20L4 18.59l7.72-7.72 1.47 1.35L5.41 20z\"/>\n",
              "  </svg>\n",
              "      </button>\n",
              "      \n",
              "  <style>\n",
              "    .colab-df-container {\n",
              "      display:flex;\n",
              "      flex-wrap:wrap;\n",
              "      gap: 12px;\n",
              "    }\n",
              "\n",
              "    .colab-df-convert {\n",
              "      background-color: #E8F0FE;\n",
              "      border: none;\n",
              "      border-radius: 50%;\n",
              "      cursor: pointer;\n",
              "      display: none;\n",
              "      fill: #1967D2;\n",
              "      height: 32px;\n",
              "      padding: 0 0 0 0;\n",
              "      width: 32px;\n",
              "    }\n",
              "\n",
              "    .colab-df-convert:hover {\n",
              "      background-color: #E2EBFA;\n",
              "      box-shadow: 0px 1px 2px rgba(60, 64, 67, 0.3), 0px 1px 3px 1px rgba(60, 64, 67, 0.15);\n",
              "      fill: #174EA6;\n",
              "    }\n",
              "\n",
              "    [theme=dark] .colab-df-convert {\n",
              "      background-color: #3B4455;\n",
              "      fill: #D2E3FC;\n",
              "    }\n",
              "\n",
              "    [theme=dark] .colab-df-convert:hover {\n",
              "      background-color: #434B5C;\n",
              "      box-shadow: 0px 1px 3px 1px rgba(0, 0, 0, 0.15);\n",
              "      filter: drop-shadow(0px 1px 2px rgba(0, 0, 0, 0.3));\n",
              "      fill: #FFFFFF;\n",
              "    }\n",
              "  </style>\n",
              "\n",
              "      <script>\n",
              "        const buttonEl =\n",
              "          document.querySelector('#df-48f7be4f-d953-4c8a-a992-bc11667eb200 button.colab-df-convert');\n",
              "        buttonEl.style.display =\n",
              "          google.colab.kernel.accessAllowed ? 'block' : 'none';\n",
              "\n",
              "        async function convertToInteractive(key) {\n",
              "          const element = document.querySelector('#df-48f7be4f-d953-4c8a-a992-bc11667eb200');\n",
              "          const dataTable =\n",
              "            await google.colab.kernel.invokeFunction('convertToInteractive',\n",
              "                                                     [key], {});\n",
              "          if (!dataTable) return;\n",
              "\n",
              "          const docLinkHtml = 'Like what you see? Visit the ' +\n",
              "            '<a target=\"_blank\" href=https://colab.research.google.com/notebooks/data_table.ipynb>data table notebook</a>'\n",
              "            + ' to learn more about interactive tables.';\n",
              "          element.innerHTML = '';\n",
              "          dataTable['output_type'] = 'display_data';\n",
              "          await google.colab.output.renderOutput(dataTable, element);\n",
              "          const docLink = document.createElement('div');\n",
              "          docLink.innerHTML = docLinkHtml;\n",
              "          element.appendChild(docLink);\n",
              "        }\n",
              "      </script>\n",
              "    </div>\n",
              "  </div>\n",
              "  "
            ]
          },
          "metadata": {},
          "execution_count": 88
        }
      ]
    },
    {
      "cell_type": "code",
      "source": [
        "df_result.shape"
      ],
      "metadata": {
        "colab": {
          "base_uri": "https://localhost:8080/"
        },
        "id": "LrWJGoS_qiz-",
        "outputId": "47c93149-bf54-4e0c-95c6-b4a52695aefa"
      },
      "execution_count": 89,
      "outputs": [
        {
          "output_type": "execute_result",
          "data": {
            "text/plain": [
              "(667, 1)"
            ]
          },
          "metadata": {},
          "execution_count": 89
        }
      ]
    },
    {
      "cell_type": "code",
      "source": [
        "df_final = train_label[0][:667]\n",
        "df_final = pd.DataFrame(df_final)"
      ],
      "metadata": {
        "id": "QujM3tclrKph"
      },
      "execution_count": 90,
      "outputs": []
    },
    {
      "cell_type": "code",
      "source": [
        "df_final[1] = df_result[0]\n",
        "df_final.head()"
      ],
      "metadata": {
        "colab": {
          "base_uri": "https://localhost:8080/",
          "height": 204
        },
        "id": "PdtzUCtirZ9p",
        "outputId": "f083ca3a-1095-4c01-ee45-5d0b1c2cd6e7"
      },
      "execution_count": 91,
      "outputs": [
        {
          "output_type": "execute_result",
          "data": {
            "text/plain": [
              "    0         1\n",
              "0  d1  Koi_Fish\n",
              "1  d2      Blip\n",
              "2  d3     Helix\n",
              "3  d4      Blip\n",
              "4  d5      Blip"
            ],
            "text/html": [
              "\n",
              "  <div id=\"df-ef26ed87-d9a3-4355-b554-532f5c75ad9b\">\n",
              "    <div class=\"colab-df-container\">\n",
              "      <div>\n",
              "<style scoped>\n",
              "    .dataframe tbody tr th:only-of-type {\n",
              "        vertical-align: middle;\n",
              "    }\n",
              "\n",
              "    .dataframe tbody tr th {\n",
              "        vertical-align: top;\n",
              "    }\n",
              "\n",
              "    .dataframe thead th {\n",
              "        text-align: right;\n",
              "    }\n",
              "</style>\n",
              "<table border=\"1\" class=\"dataframe\">\n",
              "  <thead>\n",
              "    <tr style=\"text-align: right;\">\n",
              "      <th></th>\n",
              "      <th>0</th>\n",
              "      <th>1</th>\n",
              "    </tr>\n",
              "  </thead>\n",
              "  <tbody>\n",
              "    <tr>\n",
              "      <th>0</th>\n",
              "      <td>d1</td>\n",
              "      <td>Koi_Fish</td>\n",
              "    </tr>\n",
              "    <tr>\n",
              "      <th>1</th>\n",
              "      <td>d2</td>\n",
              "      <td>Blip</td>\n",
              "    </tr>\n",
              "    <tr>\n",
              "      <th>2</th>\n",
              "      <td>d3</td>\n",
              "      <td>Helix</td>\n",
              "    </tr>\n",
              "    <tr>\n",
              "      <th>3</th>\n",
              "      <td>d4</td>\n",
              "      <td>Blip</td>\n",
              "    </tr>\n",
              "    <tr>\n",
              "      <th>4</th>\n",
              "      <td>d5</td>\n",
              "      <td>Blip</td>\n",
              "    </tr>\n",
              "  </tbody>\n",
              "</table>\n",
              "</div>\n",
              "      <button class=\"colab-df-convert\" onclick=\"convertToInteractive('df-ef26ed87-d9a3-4355-b554-532f5c75ad9b')\"\n",
              "              title=\"Convert this dataframe to an interactive table.\"\n",
              "              style=\"display:none;\">\n",
              "        \n",
              "  <svg xmlns=\"http://www.w3.org/2000/svg\" height=\"24px\"viewBox=\"0 0 24 24\"\n",
              "       width=\"24px\">\n",
              "    <path d=\"M0 0h24v24H0V0z\" fill=\"none\"/>\n",
              "    <path d=\"M18.56 5.44l.94 2.06.94-2.06 2.06-.94-2.06-.94-.94-2.06-.94 2.06-2.06.94zm-11 1L8.5 8.5l.94-2.06 2.06-.94-2.06-.94L8.5 2.5l-.94 2.06-2.06.94zm10 10l.94 2.06.94-2.06 2.06-.94-2.06-.94-.94-2.06-.94 2.06-2.06.94z\"/><path d=\"M17.41 7.96l-1.37-1.37c-.4-.4-.92-.59-1.43-.59-.52 0-1.04.2-1.43.59L10.3 9.45l-7.72 7.72c-.78.78-.78 2.05 0 2.83L4 21.41c.39.39.9.59 1.41.59.51 0 1.02-.2 1.41-.59l7.78-7.78 2.81-2.81c.8-.78.8-2.07 0-2.86zM5.41 20L4 18.59l7.72-7.72 1.47 1.35L5.41 20z\"/>\n",
              "  </svg>\n",
              "      </button>\n",
              "      \n",
              "  <style>\n",
              "    .colab-df-container {\n",
              "      display:flex;\n",
              "      flex-wrap:wrap;\n",
              "      gap: 12px;\n",
              "    }\n",
              "\n",
              "    .colab-df-convert {\n",
              "      background-color: #E8F0FE;\n",
              "      border: none;\n",
              "      border-radius: 50%;\n",
              "      cursor: pointer;\n",
              "      display: none;\n",
              "      fill: #1967D2;\n",
              "      height: 32px;\n",
              "      padding: 0 0 0 0;\n",
              "      width: 32px;\n",
              "    }\n",
              "\n",
              "    .colab-df-convert:hover {\n",
              "      background-color: #E2EBFA;\n",
              "      box-shadow: 0px 1px 2px rgba(60, 64, 67, 0.3), 0px 1px 3px 1px rgba(60, 64, 67, 0.15);\n",
              "      fill: #174EA6;\n",
              "    }\n",
              "\n",
              "    [theme=dark] .colab-df-convert {\n",
              "      background-color: #3B4455;\n",
              "      fill: #D2E3FC;\n",
              "    }\n",
              "\n",
              "    [theme=dark] .colab-df-convert:hover {\n",
              "      background-color: #434B5C;\n",
              "      box-shadow: 0px 1px 3px 1px rgba(0, 0, 0, 0.15);\n",
              "      filter: drop-shadow(0px 1px 2px rgba(0, 0, 0, 0.3));\n",
              "      fill: #FFFFFF;\n",
              "    }\n",
              "  </style>\n",
              "\n",
              "      <script>\n",
              "        const buttonEl =\n",
              "          document.querySelector('#df-ef26ed87-d9a3-4355-b554-532f5c75ad9b button.colab-df-convert');\n",
              "        buttonEl.style.display =\n",
              "          google.colab.kernel.accessAllowed ? 'block' : 'none';\n",
              "\n",
              "        async function convertToInteractive(key) {\n",
              "          const element = document.querySelector('#df-ef26ed87-d9a3-4355-b554-532f5c75ad9b');\n",
              "          const dataTable =\n",
              "            await google.colab.kernel.invokeFunction('convertToInteractive',\n",
              "                                                     [key], {});\n",
              "          if (!dataTable) return;\n",
              "\n",
              "          const docLinkHtml = 'Like what you see? Visit the ' +\n",
              "            '<a target=\"_blank\" href=https://colab.research.google.com/notebooks/data_table.ipynb>data table notebook</a>'\n",
              "            + ' to learn more about interactive tables.';\n",
              "          element.innerHTML = '';\n",
              "          dataTable['output_type'] = 'display_data';\n",
              "          await google.colab.output.renderOutput(dataTable, element);\n",
              "          const docLink = document.createElement('div');\n",
              "          docLink.innerHTML = docLinkHtml;\n",
              "          element.appendChild(docLink);\n",
              "        }\n",
              "      </script>\n",
              "    </div>\n",
              "  </div>\n",
              "  "
            ]
          },
          "metadata": {},
          "execution_count": 91
        }
      ]
    },
    {
      "cell_type": "code",
      "source": [
        "df_final.tail()"
      ],
      "metadata": {
        "colab": {
          "base_uri": "https://localhost:8080/",
          "height": 204
        },
        "id": "uuGCjq8vr02S",
        "outputId": "054670d4-9265-433a-ac10-b022b650165c"
      },
      "execution_count": 92,
      "outputs": [
        {
          "output_type": "execute_result",
          "data": {
            "text/plain": [
              "        0                1\n",
              "662  d663         Koi_Fish\n",
              "663  d664            Helix\n",
              "664  d665  Scattered_Light\n",
              "665  d666      Violin_Mode\n",
              "666  d667             Blip"
            ],
            "text/html": [
              "\n",
              "  <div id=\"df-36b712a1-5a5a-4043-a851-538e45d73c92\">\n",
              "    <div class=\"colab-df-container\">\n",
              "      <div>\n",
              "<style scoped>\n",
              "    .dataframe tbody tr th:only-of-type {\n",
              "        vertical-align: middle;\n",
              "    }\n",
              "\n",
              "    .dataframe tbody tr th {\n",
              "        vertical-align: top;\n",
              "    }\n",
              "\n",
              "    .dataframe thead th {\n",
              "        text-align: right;\n",
              "    }\n",
              "</style>\n",
              "<table border=\"1\" class=\"dataframe\">\n",
              "  <thead>\n",
              "    <tr style=\"text-align: right;\">\n",
              "      <th></th>\n",
              "      <th>0</th>\n",
              "      <th>1</th>\n",
              "    </tr>\n",
              "  </thead>\n",
              "  <tbody>\n",
              "    <tr>\n",
              "      <th>662</th>\n",
              "      <td>d663</td>\n",
              "      <td>Koi_Fish</td>\n",
              "    </tr>\n",
              "    <tr>\n",
              "      <th>663</th>\n",
              "      <td>d664</td>\n",
              "      <td>Helix</td>\n",
              "    </tr>\n",
              "    <tr>\n",
              "      <th>664</th>\n",
              "      <td>d665</td>\n",
              "      <td>Scattered_Light</td>\n",
              "    </tr>\n",
              "    <tr>\n",
              "      <th>665</th>\n",
              "      <td>d666</td>\n",
              "      <td>Violin_Mode</td>\n",
              "    </tr>\n",
              "    <tr>\n",
              "      <th>666</th>\n",
              "      <td>d667</td>\n",
              "      <td>Blip</td>\n",
              "    </tr>\n",
              "  </tbody>\n",
              "</table>\n",
              "</div>\n",
              "      <button class=\"colab-df-convert\" onclick=\"convertToInteractive('df-36b712a1-5a5a-4043-a851-538e45d73c92')\"\n",
              "              title=\"Convert this dataframe to an interactive table.\"\n",
              "              style=\"display:none;\">\n",
              "        \n",
              "  <svg xmlns=\"http://www.w3.org/2000/svg\" height=\"24px\"viewBox=\"0 0 24 24\"\n",
              "       width=\"24px\">\n",
              "    <path d=\"M0 0h24v24H0V0z\" fill=\"none\"/>\n",
              "    <path d=\"M18.56 5.44l.94 2.06.94-2.06 2.06-.94-2.06-.94-.94-2.06-.94 2.06-2.06.94zm-11 1L8.5 8.5l.94-2.06 2.06-.94-2.06-.94L8.5 2.5l-.94 2.06-2.06.94zm10 10l.94 2.06.94-2.06 2.06-.94-2.06-.94-.94-2.06-.94 2.06-2.06.94z\"/><path d=\"M17.41 7.96l-1.37-1.37c-.4-.4-.92-.59-1.43-.59-.52 0-1.04.2-1.43.59L10.3 9.45l-7.72 7.72c-.78.78-.78 2.05 0 2.83L4 21.41c.39.39.9.59 1.41.59.51 0 1.02-.2 1.41-.59l7.78-7.78 2.81-2.81c.8-.78.8-2.07 0-2.86zM5.41 20L4 18.59l7.72-7.72 1.47 1.35L5.41 20z\"/>\n",
              "  </svg>\n",
              "      </button>\n",
              "      \n",
              "  <style>\n",
              "    .colab-df-container {\n",
              "      display:flex;\n",
              "      flex-wrap:wrap;\n",
              "      gap: 12px;\n",
              "    }\n",
              "\n",
              "    .colab-df-convert {\n",
              "      background-color: #E8F0FE;\n",
              "      border: none;\n",
              "      border-radius: 50%;\n",
              "      cursor: pointer;\n",
              "      display: none;\n",
              "      fill: #1967D2;\n",
              "      height: 32px;\n",
              "      padding: 0 0 0 0;\n",
              "      width: 32px;\n",
              "    }\n",
              "\n",
              "    .colab-df-convert:hover {\n",
              "      background-color: #E2EBFA;\n",
              "      box-shadow: 0px 1px 2px rgba(60, 64, 67, 0.3), 0px 1px 3px 1px rgba(60, 64, 67, 0.15);\n",
              "      fill: #174EA6;\n",
              "    }\n",
              "\n",
              "    [theme=dark] .colab-df-convert {\n",
              "      background-color: #3B4455;\n",
              "      fill: #D2E3FC;\n",
              "    }\n",
              "\n",
              "    [theme=dark] .colab-df-convert:hover {\n",
              "      background-color: #434B5C;\n",
              "      box-shadow: 0px 1px 3px 1px rgba(0, 0, 0, 0.15);\n",
              "      filter: drop-shadow(0px 1px 2px rgba(0, 0, 0, 0.3));\n",
              "      fill: #FFFFFF;\n",
              "    }\n",
              "  </style>\n",
              "\n",
              "      <script>\n",
              "        const buttonEl =\n",
              "          document.querySelector('#df-36b712a1-5a5a-4043-a851-538e45d73c92 button.colab-df-convert');\n",
              "        buttonEl.style.display =\n",
              "          google.colab.kernel.accessAllowed ? 'block' : 'none';\n",
              "\n",
              "        async function convertToInteractive(key) {\n",
              "          const element = document.querySelector('#df-36b712a1-5a5a-4043-a851-538e45d73c92');\n",
              "          const dataTable =\n",
              "            await google.colab.kernel.invokeFunction('convertToInteractive',\n",
              "                                                     [key], {});\n",
              "          if (!dataTable) return;\n",
              "\n",
              "          const docLinkHtml = 'Like what you see? Visit the ' +\n",
              "            '<a target=\"_blank\" href=https://colab.research.google.com/notebooks/data_table.ipynb>data table notebook</a>'\n",
              "            + ' to learn more about interactive tables.';\n",
              "          element.innerHTML = '';\n",
              "          dataTable['output_type'] = 'display_data';\n",
              "          await google.colab.output.renderOutput(dataTable, element);\n",
              "          const docLink = document.createElement('div');\n",
              "          docLink.innerHTML = docLinkHtml;\n",
              "          element.appendChild(docLink);\n",
              "        }\n",
              "      </script>\n",
              "    </div>\n",
              "  </div>\n",
              "  "
            ]
          },
          "metadata": {},
          "execution_count": 92
        }
      ]
    },
    {
      "cell_type": "code",
      "source": [
        "df_final.to_csv('Kavin_R_V_Final_Project_normal.csv', index=False, )"
      ],
      "metadata": {
        "id": "zw1z7iuwr42X"
      },
      "execution_count": 93,
      "outputs": []
    },
    {
      "cell_type": "code",
      "source": [
        ""
      ],
      "metadata": {
        "id": "oFuRU7btsKYt"
      },
      "execution_count": null,
      "outputs": []
    }
  ],
  "metadata": {
    "accelerator": "TPU",
    "colab": {
      "collapsed_sections": [
        "VUeRjOkAiVjw"
      ],
      "name": "DSML Final Project.ipynb",
      "provenance": [],
      "mount_file_id": "18tPSWfzKxHYlwTRLLSq6ApXaJimzGeBp",
      "authorship_tag": "ABX9TyOsl/dk+zzvsKaI0o5I8NNz",
      "include_colab_link": true
    },
    "kernelspec": {
      "display_name": "Python 3",
      "name": "python3"
    },
    "language_info": {
      "name": "python"
    }
  },
  "nbformat": 4,
  "nbformat_minor": 0
}